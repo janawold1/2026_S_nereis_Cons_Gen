{
 "cells": [
  {
   "cell_type": "markdown",
   "metadata": {},
   "source": [
    "# Estimates of relatedness for a tara iti family group\n",
    "The tara iti population is thoroughly monitored to track parentage for breeding pairs. In the 2019/2020 breeding season a male believed to be infertile (TI007; C69024; unknown colour bands) was the social parent of two chicks (TI036; C69057; RY-BM & TI038; C69059; KM-WB). Questions remained around whether this male successfully reproduced, or the chicks were sired by another male. Feather samples for the dam (TI028; C75805; unknown colour bands) and putative sire were collected as part of ongoing DOC management practices, however initial attempts to extract DNA sufficient for whole-genome sequencing were not successful for TI028. Another attempt to extract DNA for the dam of these chicks was made after her remains were recovered, which yielded promising results.  \n",
    "\n",
    "For those samples that passed quality control (QC) thresholds for their DNA extractions, we implemented three distinct rounds of filtering of their sequence data: 1) We assessed the quality scores of the reads assigned by the sequencing instrument and the ratio of individual base-pairs of their genetic sequences (i.e., the ratios of A's, T's, G's, & C's); 2) Identified potential artifacts introduced in the process of preparing the DNA for sequencing, and implemented minimum depth and coverage thresholds; and 3) Reassessed confidence assigning the location of given sequence reads in the genome, and their alignment depths. Part one provides insight into how confident the sequencing instrument is in assigning an identity to individual base-pairs. By assessing the ratios A's, T's, G's and C's we can also assess the likelihood of contamination. For part two, we align reads to the reference genome in order to remove reads that were not likely amplified directly from template DNA strands (i.e., artifacts). These artifacts are an expected outcome of this approach for whole-genome sequencing and their prevalence can be affected by DNA quality. For part two, we also restricted the alignments to regions of the genome that we have assembled with confidence. We then examine the average number of copies aligning to particular regions of the genome, with more copies providing more confidence around an individual's genotype. We also assessed the proportion of the genome covered (represented as a percentage), aiming for as much of the genome as possible to be covered. At this step, we required individuals to have a median depth >= 6x and a mapping coverage >= 97% to be retained for population analyses. Finally, we examined mean depth after filtering out reads that did not map well to the tara iti genome (MapQ <20), as a final screen for high rates of squence error and/or contamination.  \n",
    "\n",
    "After passing sequence data for our individuals of interest through these filters, it was clear that TI007 and TI028 did not meet the minimum quality thresholds required for inclusion in downstream population analyses. Specifically, TI028 did not pass the inital sequencing quality thresholds as the ratios of her base-pairs did not match expectation and the overall quantity of data was low. This is not surprising given the state of her sample, and the different method used to prepare her sample for sequencing that aimed to address sample degradation. While sequence data for TI007 and TI009 passed the first QC check, they both failed to meet the minimum depth thresholds implemented in step two. Notably, while TI036 passed thresholds in QC steps 1 and 2 it passed by marginally meeting the thresholds implemented in step 3.  \n",
    "\n",
    "The results of these filtering steps presents unique challenges for inferring the relationships among individuals. There is a balance between being conservative enough that we have confidence in the results and retaining informative data. To maximise the utility of data for understanding the relatedness estimates for our individuals of interest, we implemented an approach that can boost confidence in results by accounting for uncertainty in our sample sequence data. We leveraged a programme called [ANGSD](https://github.com/ANGSD/angsd), which implements a genotype likelihood approach and has been shown to provide robust results for low coverage sequence data. We also considered relationships among individuals included in the analysis, which can boost confidence in genotyping calls and use known relationships for groundtruthing results. In our case, the data for the putative sire and the dam are of relatively poor quality. To ensure that our data is sufficient to accurately infer relationships, we included a full sibling to TI007 (TI009; C69027; unknown colour bands) for confirmation. This male is also of interest as he may also have fertility challenges. However, the data quality for this male is similar to that of TI007. To put these relationships into context, we randomly chose an additional six samples ranging in quality similar to TI007, TI009, and TI028 (n = 1), similar to TI036 (n = 1), and high-quality samples (n = 4). \n",
    "\n",
    "[ANGSD](https://github.com/ANGSD/angsd) can implement additional filtering parameters to ensure sites included in relatedness estimates are comparable across individuals. For this, we required that a site had to be present in all 11 individuals and that on average a site had a mean coverage of >=6x per individual and that reads included had a MapQ and read Q-score >=20 (99% accuracy). In effect, this approach would reduce the proportion of the genome included in our analyses in exchange for certainty around the genotype likelihoods for sites passing these thresholds. Of the 1,183,544,682 sites assessed, only 308,747 were retained to estimate relatedness. \n",
    "\n",
    "Finally, we chose two metrics of relatednes R<sub>AB</sub> ([Hendrick & Lacy 2015](https://doi.org/10.1093/jhered/esu072)) and KING ([Waples et al 2019](https://doi.org/10.1111/mec.14954)). Both have been shown to perform well with low-coverage data sets for inbred populations ([Hauser et al 2022](https://doi.org/10.1111/1755-0998.13630)). We first called genotype likelihoods for these samples with the software tool [ANGSD](https://github.com/ANGSD/angsd), and estimated relatedness using [ngsRelate](https://github.com/ANGSD/NgsRelate). Figures were plotted using Python v. 3.9.21.  "
   ]
  },
  {
   "cell_type": "code",
   "execution_count": 25,
   "metadata": {},
   "outputs": [
    {
     "name": "stdout",
     "output_type": "stream",
     "text": [
      "/nesi/nobackup/uc03718/angsd\n"
     ]
    }
   ],
   "source": [
    "import os\n",
    "import pandas as pd\n",
    "import seaborn as sns\n",
    "from matplotlib.legend_handler import HandlerTuple\n",
    "from IPython.display import display, HTML\n",
    "import matplotlib.pyplot as plt\n",
    "\n",
    "path = '/nesi/nobackup/uc03718/angsd/'\n",
    "os.chdir(path)\n",
    "print(os.getcwd())"
   ]
  },
  {
   "cell_type": "markdown",
   "metadata": {},
   "source": [
    "In the table below, we provide valueses corresponding to inferred relationships for R<sub>AB</sub> and KING. First Order relationships are the relationship between parents, offspring, and full siblings. Second order relationships are between aunts, uncles, grandparents, grandchildren, nieces, nephews, or half-siblings. Finally, examples of third order relationships include first cousins, great-grandparents, great-aunts and -uncles, great-nieces and -nephews, great-grandchildren, half-aunts, or half-uncles. \n",
    "\n",
    "|    Relationship   | R<sub>AB</sub> |      KING     |\n",
    "|:-----------------:|:--------------:|:-------------:|\n",
    "| Duplicate/MZ Twin |       1        |     >0.354    |\n",
    "| First Order       |  0.250 - 0.500 | 0.177 - 0.354 |\n",
    "| Second Order      |  0.125 - 0.250 | 0.088 - 0.177 |\n",
    "| Third Order       |  0.060 - 0.125 | 0.044 - 0.088 |\n",
    "\n",
    "**A significant caveat to the results below are that the values of each estimator may not be representative of exact levels of relatedness or individual inbreeding.** This is because of the challenges associated with data quality. All values below are used to categorise individuals into either First, Second or Third order relationships and should not be used to infer how similar two individuals are to one another. In the code block below, we load our estimates of relatedness, extract the estimators of interest (R<sub>AB</sub> and KING), and sort each in descending order. We then examine the individuals with the 10 highest estimates of relatedness for each estimator.  "
   ]
  },
  {
   "cell_type": "code",
   "execution_count": 31,
   "metadata": {},
   "outputs": [
    {
     "data": {
      "text/html": [
       "\n",
       "    <div style=\"display: flex; gap: 40px;\">\n",
       "        <div><style type=\"text/css\">\n",
       "</style>\n",
       "<table id=\"T_35754\" style='display:inline'>\n",
       "  <thead>\n",
       "    <tr>\n",
       "      <th class=\"blank level0\" >&nbsp;</th>\n",
       "      <th id=\"T_35754_level0_col0\" class=\"col_heading level0 col0\" >a</th>\n",
       "      <th id=\"T_35754_level0_col1\" class=\"col_heading level0 col1\" >b</th>\n",
       "      <th id=\"T_35754_level0_col2\" class=\"col_heading level0 col2\" >rab</th>\n",
       "    </tr>\n",
       "  </thead>\n",
       "  <tbody>\n",
       "    <tr>\n",
       "      <th id=\"T_35754_level0_row0\" class=\"row_heading level0 row0\" >27</th>\n",
       "      <td id=\"T_35754_row0_col0\" class=\"data row0 col0\" >TI36</td>\n",
       "      <td id=\"T_35754_row0_col1\" class=\"data row0 col1\" >TI38</td>\n",
       "      <td id=\"T_35754_row0_col2\" class=\"data row0 col2\" >0.347842</td>\n",
       "    </tr>\n",
       "    <tr>\n",
       "      <th id=\"T_35754_level0_row1\" class=\"row_heading level0 row1\" >0</th>\n",
       "      <td id=\"T_35754_row1_col0\" class=\"data row1 col0\" >TI07</td>\n",
       "      <td id=\"T_35754_row1_col1\" class=\"data row1 col1\" >TI09</td>\n",
       "      <td id=\"T_35754_row1_col2\" class=\"data row1 col2\" >0.331836</td>\n",
       "    </tr>\n",
       "    <tr>\n",
       "      <th id=\"T_35754_level0_row2\" class=\"row_heading level0 row2\" >20</th>\n",
       "      <td id=\"T_35754_row2_col0\" class=\"data row2 col0\" >TI28</td>\n",
       "      <td id=\"T_35754_row2_col1\" class=\"data row2 col1\" >TI38</td>\n",
       "      <td id=\"T_35754_row2_col2\" class=\"data row2 col2\" >0.328548</td>\n",
       "    </tr>\n",
       "    <tr>\n",
       "      <th id=\"T_35754_level0_row3\" class=\"row_heading level0 row3\" >19</th>\n",
       "      <td id=\"T_35754_row3_col0\" class=\"data row3 col0\" >TI28</td>\n",
       "      <td id=\"T_35754_row3_col1\" class=\"data row3 col1\" >TI36</td>\n",
       "      <td id=\"T_35754_row3_col2\" class=\"data row3 col2\" >0.298152</td>\n",
       "    </tr>\n",
       "    <tr>\n",
       "      <th id=\"T_35754_level0_row4\" class=\"row_heading level0 row4\" >51</th>\n",
       "      <td id=\"T_35754_row4_col0\" class=\"data row4 col0\" >TI68</td>\n",
       "      <td id=\"T_35754_row4_col1\" class=\"data row4 col1\" >TI99</td>\n",
       "      <td id=\"T_35754_row4_col2\" class=\"data row4 col2\" >0.171895</td>\n",
       "    </tr>\n",
       "    <tr>\n",
       "      <th id=\"T_35754_level0_row5\" class=\"row_heading level0 row5\" >4</th>\n",
       "      <td id=\"T_35754_row5_col0\" class=\"data row5 col0\" >TI07</td>\n",
       "      <td id=\"T_35754_row5_col1\" class=\"data row5 col1\" >TI40</td>\n",
       "      <td id=\"T_35754_row5_col2\" class=\"data row5 col2\" >0.130229</td>\n",
       "    </tr>\n",
       "    <tr>\n",
       "      <th id=\"T_35754_level0_row6\" class=\"row_heading level0 row6\" >13</th>\n",
       "      <td id=\"T_35754_row6_col0\" class=\"data row6 col0\" >TI09</td>\n",
       "      <td id=\"T_35754_row6_col1\" class=\"data row6 col1\" >TI40</td>\n",
       "      <td id=\"T_35754_row6_col2\" class=\"data row6 col2\" >0.084447</td>\n",
       "    </tr>\n",
       "    <tr>\n",
       "      <th id=\"T_35754_level0_row7\" class=\"row_heading level0 row7\" >38</th>\n",
       "      <td id=\"T_35754_row7_col0\" class=\"data row7 col0\" >TI38</td>\n",
       "      <td id=\"T_35754_row7_col1\" class=\"data row7 col1\" >TI82</td>\n",
       "      <td id=\"T_35754_row7_col2\" class=\"data row7 col2\" >0.074652</td>\n",
       "    </tr>\n",
       "    <tr>\n",
       "      <th id=\"T_35754_level0_row8\" class=\"row_heading level0 row8\" >40</th>\n",
       "      <td id=\"T_35754_row8_col0\" class=\"data row8 col0\" >TI40</td>\n",
       "      <td id=\"T_35754_row8_col1\" class=\"data row8 col1\" >TI44</td>\n",
       "      <td id=\"T_35754_row8_col2\" class=\"data row8 col2\" >0.073535</td>\n",
       "    </tr>\n",
       "    <tr>\n",
       "      <th id=\"T_35754_level0_row9\" class=\"row_heading level0 row9\" >32</th>\n",
       "      <td id=\"T_35754_row9_col0\" class=\"data row9 col0\" >TI36</td>\n",
       "      <td id=\"T_35754_row9_col1\" class=\"data row9 col1\" >TI82</td>\n",
       "      <td id=\"T_35754_row9_col2\" class=\"data row9 col2\" >0.055097</td>\n",
       "    </tr>\n",
       "  </tbody>\n",
       "</table>\n",
       "</div>\n",
       "        <div><style type=\"text/css\">\n",
       "</style>\n",
       "<table id=\"T_dd873\" style='display:inline'>\n",
       "  <thead>\n",
       "    <tr>\n",
       "      <th class=\"blank level0\" >&nbsp;</th>\n",
       "      <th id=\"T_dd873_level0_col0\" class=\"col_heading level0 col0\" >a</th>\n",
       "      <th id=\"T_dd873_level0_col1\" class=\"col_heading level0 col1\" >b</th>\n",
       "      <th id=\"T_dd873_level0_col2\" class=\"col_heading level0 col2\" >KING</th>\n",
       "    </tr>\n",
       "  </thead>\n",
       "  <tbody>\n",
       "    <tr>\n",
       "      <th id=\"T_dd873_level0_row0\" class=\"row_heading level0 row0\" >20</th>\n",
       "      <td id=\"T_dd873_row0_col0\" class=\"data row0 col0\" >TI28</td>\n",
       "      <td id=\"T_dd873_row0_col1\" class=\"data row0 col1\" >TI38</td>\n",
       "      <td id=\"T_dd873_row0_col2\" class=\"data row0 col2\" >0.241857</td>\n",
       "    </tr>\n",
       "    <tr>\n",
       "      <th id=\"T_dd873_level0_row1\" class=\"row_heading level0 row1\" >19</th>\n",
       "      <td id=\"T_dd873_row1_col0\" class=\"data row1 col0\" >TI28</td>\n",
       "      <td id=\"T_dd873_row1_col1\" class=\"data row1 col1\" >TI36</td>\n",
       "      <td id=\"T_dd873_row1_col2\" class=\"data row1 col2\" >0.238500</td>\n",
       "    </tr>\n",
       "    <tr>\n",
       "      <th id=\"T_dd873_level0_row2\" class=\"row_heading level0 row2\" >0</th>\n",
       "      <td id=\"T_dd873_row2_col0\" class=\"data row2 col0\" >TI07</td>\n",
       "      <td id=\"T_dd873_row2_col1\" class=\"data row2 col1\" >TI09</td>\n",
       "      <td id=\"T_dd873_row2_col2\" class=\"data row2 col2\" >0.215482</td>\n",
       "    </tr>\n",
       "    <tr>\n",
       "      <th id=\"T_dd873_level0_row3\" class=\"row_heading level0 row3\" >27</th>\n",
       "      <td id=\"T_dd873_row3_col0\" class=\"data row3 col0\" >TI36</td>\n",
       "      <td id=\"T_dd873_row3_col1\" class=\"data row3 col1\" >TI38</td>\n",
       "      <td id=\"T_dd873_row3_col2\" class=\"data row3 col2\" >0.210979</td>\n",
       "    </tr>\n",
       "    <tr>\n",
       "      <th id=\"T_dd873_level0_row4\" class=\"row_heading level0 row4\" >51</th>\n",
       "      <td id=\"T_dd873_row4_col0\" class=\"data row4 col0\" >TI68</td>\n",
       "      <td id=\"T_dd873_row4_col1\" class=\"data row4 col1\" >TI99</td>\n",
       "      <td id=\"T_dd873_row4_col2\" class=\"data row4 col2\" >0.165398</td>\n",
       "    </tr>\n",
       "    <tr>\n",
       "      <th id=\"T_dd873_level0_row5\" class=\"row_heading level0 row5\" >26</th>\n",
       "      <td id=\"T_dd873_row5_col0\" class=\"data row5 col0\" >TI28</td>\n",
       "      <td id=\"T_dd873_row5_col1\" class=\"data row5 col1\" >TI99</td>\n",
       "      <td id=\"T_dd873_row5_col2\" class=\"data row5 col2\" >0.150348</td>\n",
       "    </tr>\n",
       "    <tr>\n",
       "      <th id=\"T_dd873_level0_row6\" class=\"row_heading level0 row6\" >38</th>\n",
       "      <td id=\"T_dd873_row6_col0\" class=\"data row6 col0\" >TI38</td>\n",
       "      <td id=\"T_dd873_row6_col1\" class=\"data row6 col1\" >TI82</td>\n",
       "      <td id=\"T_dd873_row6_col2\" class=\"data row6 col2\" >0.136302</td>\n",
       "    </tr>\n",
       "    <tr>\n",
       "      <th id=\"T_dd873_level0_row7\" class=\"row_heading level0 row7\" >32</th>\n",
       "      <td id=\"T_dd873_row7_col0\" class=\"data row7 col0\" >TI36</td>\n",
       "      <td id=\"T_dd873_row7_col1\" class=\"data row7 col1\" >TI82</td>\n",
       "      <td id=\"T_dd873_row7_col2\" class=\"data row7 col2\" >0.130997</td>\n",
       "    </tr>\n",
       "    <tr>\n",
       "      <th id=\"T_dd873_level0_row8\" class=\"row_heading level0 row8\" >52</th>\n",
       "      <td id=\"T_dd873_row8_col0\" class=\"data row8 col0\" >TI70</td>\n",
       "      <td id=\"T_dd873_row8_col1\" class=\"data row8 col1\" >TI82</td>\n",
       "      <td id=\"T_dd873_row8_col2\" class=\"data row8 col2\" >0.126978</td>\n",
       "    </tr>\n",
       "    <tr>\n",
       "      <th id=\"T_dd873_level0_row9\" class=\"row_heading level0 row9\" >37</th>\n",
       "      <td id=\"T_dd873_row9_col0\" class=\"data row9 col0\" >TI38</td>\n",
       "      <td id=\"T_dd873_row9_col1\" class=\"data row9 col1\" >TI70</td>\n",
       "      <td id=\"T_dd873_row9_col2\" class=\"data row9 col2\" >0.124521</td>\n",
       "    </tr>\n",
       "  </tbody>\n",
       "</table>\n",
       "</div>\n",
       "    </div>\n",
       "    "
      ],
      "text/plain": [
       "<IPython.core.display.HTML object>"
      ]
     },
     "metadata": {},
     "output_type": "display_data"
    }
   ],
   "source": [
    "TI_wg = pd.read_csv('samtools/relatedness/familyTest_TI_relatedness', sep='\\t')\n",
    "\n",
    "TI_wg_Rab = TI_wg.pivot(index='a', columns='b', values='rab')\n",
    "TI_wg_KING = TI_wg.pivot(index='a', columns='b', values='KING')\n",
    "\n",
    "TI_wg_Rab_column = TI_wg[['a', 'b', 'rab']].sort_values(by = ['rab'], ascending=[False]).head(n=10)\n",
    "TI_wg_KING_column = TI_wg[['a', 'b', 'KING']].sort_values(by = ['KING'], ascending = [False]).head(n=10)\n",
    "\n",
    "display(HTML(\n",
    "    f\"\"\"\n",
    "    <div style=\"display: flex; gap: 40px;\">\n",
    "        <div>{TI_wg_Rab_column.style.set_table_attributes(\"style='display:inline'\")._repr_html_()}</div>\n",
    "        <div>{TI_wg_KING_column.style.set_table_attributes(\"style='display:inline'\")._repr_html_()}</div>\n",
    "    </div>\n",
    "    \"\"\"\n",
    "))"
   ]
  },
  {
   "cell_type": "markdown",
   "metadata": {},
   "source": [
    "Here, we can see that the individuals consistently resulting in first order relationships are our two siblings of interest (TI036 & TI038), as well as their dam (TI028). This indicates that TI036 & TI038 are full siblings. We also see the two putatively infertile males (TI007 & TI009) also having first order relationship (full sibling) to one another as expected. However, estimates between TI007 and either TI036 or TI038 do not result in first order relationships and indicate that he is not the sire of these chicks.  \n",
    "\n",
    "Below we plot a heatmap of relatedness to visualise all samples together. We can clearly see our two family groups coming up in green (indicating first order relationships), while the remaining samples having relatively lower estimates of relatedness.  "
   ]
  },
  {
   "cell_type": "code",
   "execution_count": null,
   "metadata": {},
   "outputs": [
    {
     "data": {
      "image/png": "[encoded data removed]",
      "text/plain": [
       "<Figure size 1000x500 with 2 Axes>"
      ]
     },
     "metadata": {},
     "output_type": "display_data"
    }
   ],
   "source": [
    "cmap = sns.color_palette('viridis', as_cmap=True)  # Use 'as_cmap=True' to return a colormap\n",
    "\n",
    "fig, ax = plt.subplots(1, 2, figsize=(10, 5), sharex=False, sharey=False)\n",
    "\n",
    "sns.heatmap(TI_wg_Rab, annot=False, cmap=cmap, vmin=0, vmax=0.55, cbar=True, ax=ax[0])\n",
    "ax[0].set_xlabel('')\n",
    "ax[0].set_ylabel('')\n",
    "ax[0].set_title('A) Rab', loc='left')\n",
    "ax[0].tick_params(axis='x', rotation=45)\n",
    "sns.heatmap(TI_wg_KING, annot=False, cmap=cmap, vmin=0, vmax=0.35, cbar=True, ax=ax[1])\n",
    "ax[1].set_xlabel('')\n",
    "ax[1].set_ylabel('')\n",
    "ax[1].set_title('B) KING', loc='left')\n",
    "ax[1].tick_params(axis='x', rotation=45)"
   ]
  },
  {
   "cell_type": "markdown",
   "metadata": {},
   "source": [
    "Given the congruence of the data confirming the relationships between TI007 & TI009, as well as TI028 and her offspring, there is no evidence that TI007 is the genetic sire of either TI036 or TI038.  "
   ]
  }
 ],
 "metadata": {
  "kernelspec": {
   "display_name": "Python 3",
   "language": "python",
   "name": "python3"
  },
  "language_info": {
   "codemirror_mode": {
    "name": "ipython",
    "version": 3
   },
   "file_extension": ".py",
   "mimetype": "text/x-python",
   "name": "python",
   "nbconvert_exporter": "python",
   "pygments_lexer": "ipython3",
   "version": "3.11.10"
  }
 },
 "nbformat": 4,
 "nbformat_minor": 2
}
