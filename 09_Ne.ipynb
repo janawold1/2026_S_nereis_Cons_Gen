{
 "cells": [
  {
   "cell_type": "markdown",
   "metadata": {},
   "source": [
    "## Population Demography\n",
    "### ROH length and estimates of recent N<sub>e</sub>\n",
    "The below code and method was adapted from [Humble et al. (2023)](http://doi.org/10.1073/pnas.2210756120) to estimate recent trends in N<sub>e</sub> with runs of homozygosity (ROH). The original code from this paper is available [here](https://github.com/ehumble/SHO_roh_load_2022/tree/master).  \n",
    "\n",
    "The formula below summarised by Humble et al from [Thompson (2013)](https://doi.org/10.1534/genetics.112.148825) was used to divide ROHs into seven length classes (*L*) corresponding to <2, 2-4, 4-8, 8-16, 16-32, 32-64, and 64-128 generations (*g*) ago:\n",
    "$$\n",
    "L = \\frac{100}{2 * g}\n",
    "$$\n",
    "\n",
    "Essentially, this equation is assuming that a time of depth of *g* should result in double the number of meioses events (*m*). Given that a linkage map was unavailable for their study species, Humble et al assumed a recombination rate of 1 cM/Mb. However, recombination rate is generally higher than this estimate and has been shown to be heterogenous within and between avian lineages and even within and between chromosomes ([Nam et al. (2010)](https://doi.org/10.1186/gb-2010-11-6-r68)). To get an understanding of the broad patterns of N<sub>e</sub>, we estimated N<sub>e</sub> using a mean recombination rate of 2.8 cM/Mb as a middle road of recombination rates observed in [Backström et al. (2010)](http://doi.org/10.1101/gr.101410.109) and [Smeds et al. (2016)](http://doi.org/10.1371/journal.pgen.1006044) and as it was estimated in the chicken (*Gallus gallus*).\n",
    "$$\n",
    "L = \\frac{100}{2.8(2 * g)}\n",
    "$$\n",
    "\n",
    "Using the lengths calculated here, we estimated N<sub>e</sub> for each *g*. Here, *F<sub>ROH, t</sub>* represents average population inbreeding coefficient for the maximum numbers of generations (*t*) in the time periods corresponding for each of the seven size classes above.  \n",
    "$$\n",
    "F_{ROH, t} = 1 - (1 - \\frac{1}{2 * N_{e}})^t\n",
    "$$\n",
    "\n",
    "We then define the function `inb_ne()` to estimate N<sub>e</sub> using the mean *F<sub>ROH</sub>* for each *L*.  \n",
    "$$\n",
    "N_{e} = \\frac{1}{2 * (1 - f_{ROH})^\\frac{1}{L}}\n",
    "$$\n",
    "\n",
    "Below we also define a function (`bootstrap_Ne()`) for bootstrapping with replacement for each N<sub>e</sub> estimate."
   ]
  },
  {
   "cell_type": "code",
   "execution_count": null,
   "metadata": {},
   "outputs": [
    {
     "ename": "",
     "evalue": "",
     "output_type": "error",
     "traceback": [
      "\u001b[1;31mRunning cells with 'Python 3.11.10' requires the ipykernel package.\n",
      "\u001b[1;31m<a href='command:jupyter.createPythonEnvAndSelectController'>Create a Python Environment</a> with the required packages."
     ]
    }
   ],
   "source": [
    "import os\n",
    "import pandas as pd\n",
    "import numpy as np\n",
    "import seaborn as sns\n",
    "from matplotlib.legend_handler import HandlerTuple\n",
    "import matplotlib.pyplot as plt\n",
    "import matplotlib.colors as mcolors\n",
    "\n",
    "#path = '/nesi/nobackup/uc03718/'\n",
    "#os.chdir(path)\n",
    "print(os.getcwd())"
   ]
  },
  {
   "cell_type": "code",
   "execution_count": null,
   "metadata": {},
   "outputs": [],
   "source": [
    "def inb_ne(mean_froh, class_):\n",
    "    Ne = 1 / (2 * (1 - ((1 - mean_froh) ** (1 / class_))))\n",
    "    return Ne\n",
    "\n",
    "def bootstrap_Ne(iter, df, frac):\n",
    "    sampled_df = (df\n",
    "                  .groupby(['Generation Class', 'Population'], group_keys=False)\n",
    "                  .apply(lambda x: x.sample(frac=frac, replace=True))\n",
    "                  .groupby(['Generation Class', 'Population'], as_index=False)\n",
    "                  .agg(mean_froh = ('fROH', 'mean'))\n",
    "                  .assign(Ne = lambda x: inb_ne(x['mean_froh'], x['Generation Class']))\n",
    "                  )\n",
    "    return sampled_df"
   ]
  },
  {
   "cell_type": "markdown",
   "metadata": {},
   "source": [
    "To estimate N<sub>e</sub> for each of the seven *L* defined above, we us the `ROHs.tsv` file. This time, we convert ROH sizes estimated by ROHAN to megabases (defined as `ROH Size in Mb` in the df below), assign the relevant Generation Class (*g*) for each *L* (defined as `length_class`) and find the *F<sub>ROH</sub>* for each ROH in each individual by dividing `ROH Size in Mb` by the estimated size of autosomal chromosomes for the tara iti and kakī reference genomes (in Mb).\n",
    "\n",
    "Given the influence relatedness among individuals may have on estimates of contemporary N<sub>e</sub>, we excluded all offspring in kakī parental/offspring trios in our data set. We found did not observe obvious differences in our N<sub>e</sub> estimates from parents only vs the entire dataset.  "
   ]
  },
  {
   "cell_type": "code",
   "execution_count": null,
   "metadata": {},
   "outputs": [],
   "source": [
    "roh = pd.read_csv('ROHAN_out/ROHs.tsv', delimiter='\\t')\n",
    "\n",
    "roh['ROH Size in Mb'] = roh['ROH_size'] / 1000000\n",
    "\n",
    "recomb = roh\n",
    "recomb['Generation Class'] = np.select(\n",
    "    [\n",
    "        recomb['ROH Size in Mb'] >= 17.8571,\n",
    "        (recomb['ROH Size in Mb'] < 17.8571) & (recomb['ROH Size in Mb'] >= 4.4643),\n",
    "        (recomb['ROH Size in Mb'] < 4.4643) & (recomb['ROH Size in Mb'] >= 2.2321),\n",
    "        (recomb['ROH Size in Mb'] < 2.2321) & (recomb['ROH Size in Mb'] >= 1.1161),\n",
    "        (recomb['ROH Size in Mb'] < 1.1161) & (recomb['ROH Size in Mb'] >= 0.5580),\n",
    "        (recomb['ROH Size in Mb'] < 0.5580) & (recomb['ROH Size in Mb'] >= 0.2790),\n",
    "        (recomb['ROH Size in Mb'] < 0.2790) & (recomb['ROH Size in Mb'] >= 0.1395),\n",
    "    ],\n",
    "    [2, 4, 8, 16, 32, 64, 128],\n",
    "    default=np.nan\n",
    ")\n",
    "\n",
    "recomb['length_class'] = recomb['Generation Class'].map({\n",
    "    2: \">17.8571\",\n",
    "    4: \"4.4643-17.8571\",\n",
    "    8: \"2.2321-4.4643\",\n",
    "    16: \"1.1161-2.2321\",\n",
    "    32: \"0.5580-1.1161\",\n",
    "    64: \"0.2790-0.5580\",\n",
    "    128: \"0.1395-0.2790\"\n",
    "})\n",
    "\n",
    "fairy_recomb = recomb[(recomb['Population']!='KI') & (recomb['Population']!='KI_10x') & (recomb['ROH Size in Mb']>=0.1395)]\n",
    "#kakiLC_recomb = recomb[(recomb['Population']=='KI_10x') & (recomb['ROH Size in Mb']>=0.1395)]\n",
    "#kakiLC_recomb = kakiLC_recomb[kakiLC_recomb['Sample'].isin(['H01383', 'H01384', 'H01385', 'H01386', 'H01387', 'H01388', 'H01389', 'H01390', 'H01391', 'H01392', 'H01393', 'H01394'])]\n",
    "#kaki_recomb = recomb[(recomb['Population']=='KI') & (recomb['ROH Size in Mb']>=0.1395)]\n",
    "#kaki_recomb = kaki_recomb[kaki_recomb['Sample'].isin(['H01383', 'H01384', 'H01385', 'H01386', 'H01387', 'H01388', 'H01389', 'H01390', 'H01391', 'H01392', 'H01393', 'H01394'])]\n",
    "\n",
    "fairy = (fairy_recomb\n",
    "    .groupby(['Sample', 'Population', 'Generation Class', 'length_class'], as_index=False, dropna=False)\n",
    "    .agg(fROH=('ROH Size in Mb', lambda x: sum((x / 1088.797119))))\n",
    "    )\n",
    "\n",
    "#kaki = (kaki_recomb\n",
    "#    .groupby(['Sample', 'Population', 'Generation Class', 'length_class'], as_index=False, dropna=False)\n",
    "#    .agg(fROH=('ROH Size in Mb', lambda x: sum((x / 1095.624494))))\n",
    "#    )\n",
    "\n",
    "#kakiLC = (kakiLC_recomb\n",
    "#    .groupby(['Sample', 'Population', 'Generation Class', 'length_class'], as_index=False, dropna=False)\n",
    "#    .agg(fROH=('ROH Size in Mb', lambda x: sum((x / 1095.624494))))\n",
    "#    )\n",
    "\n",
    "fairy.head()"
   ]
  },
  {
   "cell_type": "markdown",
   "metadata": {},
   "source": []
  },
  {
   "cell_type": "code",
   "execution_count": null,
   "metadata": {},
   "outputs": [],
   "source": [
    "iterations = 10000\n",
    "#kiresults = [bootstrap_Ne(i, kaki, 0.5) for i in range(iterations)]\n",
    "#kiLCresults = [bootstrap_Ne(i, kakiLC, 0.5) for i in range(iterations)]\n",
    "ftresults = [bootstrap_Ne(i, fairy, 0.5) for i in range(iterations)]\n",
    "\n",
    "#kiuncert = (pd.concat(kiresults, keys=range(iterations), names=['iter'])\n",
    "#                .reset_index(level='iter'))\n",
    "\n",
    "#kiLCuncert = (pd.concat(kiLCresults, keys=range(iterations), names=['iter'])\n",
    "#                .reset_index(level='iter'))\n",
    "\n",
    "ftuncert = (pd.concat(ftresults, keys=range(iterations), names=['iter'])\n",
    "                .reset_index(level='iter'))\n",
    "\n",
    "#uncertainty = pd.concat([ftuncert, kiLCuncert, kiuncert], axis=0, ignore_index=True)"
   ]
  },
  {
   "cell_type": "markdown",
   "metadata": {},
   "source": []
  },
  {
   "cell_type": "code",
   "execution_count": null,
   "metadata": {},
   "outputs": [],
   "source": [
    "print(ftuncert.groupby(['Generation Class', 'Population'])['Ne'].min())"
   ]
  },
  {
   "cell_type": "markdown",
   "metadata": {},
   "source": []
  },
  {
   "cell_type": "code",
   "execution_count": null,
   "metadata": {},
   "outputs": [],
   "source": [
    "def calculate_SE(group):\n",
    "    std_dev = group['Ne'].std()\n",
    "    count = group['Ne'].count()\n",
    "    standard_error = std_dev / np.sqrt(count)\n",
    "    group['SE'] = standard_error\n",
    "    group['SD'] = std_dev\n",
    "    return group\n",
    "\n",
    "Ne = uncertainty.groupby(['Generation Class', 'Population']).apply(calculate_SE).reset_index(drop=True)\n",
    "Ne = Ne.groupby(['Generation Class', 'Population', 'SD', 'SE'])['Ne'].mean().reset_index()\n",
    "Ne.head(n=20)"
   ]
  },
  {
   "cell_type": "markdown",
   "metadata": {},
   "source": []
  },
  {
   "cell_type": "code",
   "execution_count": null,
   "metadata": {},
   "outputs": [],
   "source": [
    "palette = ['gold', 'steelblue', 'grey', 'black']\n",
    "plt.figure(figsize=(15, 5))\n",
    "ax = sns.pointplot(data=uncertainty[uncertainty['Generation Class']>2], x='Generation Class', y='Ne', dodge=True, hue='Population', hue_order=['AU', 'TI', 'KI_10x', 'KI'],\n",
    "                palette=palette, errorbar='sd', capsize=0.05, n_boot=100, estimator='mean', markers='o', linestyles='none')\n",
    "handles, labels = ax.get_legend_handles_labels()\n",
    "ax.legend(handles=handles,\n",
    "        labels=['AFT', 'TI', 'KĪ low', 'KĪ high'],\n",
    "        loc='upper left', handlelength=4,\n",
    "        handler_map={tuple: HandlerTuple(ndivide=None)})\n",
    "\n",
    "params = {'mathtext.default': 'regular' }\n",
    "plt.rcParams.update(params)\n",
    "ax.set_title('', loc='left', fontsize=20)\n",
    "ax.set_xticklabels(['2-4', '4-8', '8-16', '16-32', '32-64', '64-128'])\n",
    "ax.set_xlabel('Generations', fontsize=14)\n",
    "ax.set_ylabel('$N_{e}$', fontsize=14)\n",
    "\n",
    "#plt.savefig('plots/ROH_Recomb_Ne_esimtates.png', dpi=300, bbox_inches='tight')"
   ]
  },
  {
   "cell_type": "markdown",
   "metadata": {},
   "source": []
  },
  {
   "cell_type": "code",
   "execution_count": null,
   "metadata": {},
   "outputs": [],
   "source": [
    "palette = ['steelblue', 'grey', 'black']\n",
    "\n",
    "uncertainty_subplot = uncertainty[(uncertainty['Generation Class']>2) & (uncertainty['Generation Class']<128) & (uncertainty['Population']!='AU')]\n",
    "\n",
    "plt.figure(figsize=(15, 5))\n",
    "ax = sns.pointplot(data=uncertainty_subplot, x='Generation Class', y='Ne', dodge=True, hue='Population', hue_order=['TI', 'KI_10x', 'KI'],\n",
    "                palette=palette, errorbar='sd', capsize=0.05, n_boot=100, estimator='mean', markers='o', linestyles='none')\n",
    "handles, labels = ax.get_legend_handles_labels()\n",
    "ax.legend(handles=handles,\n",
    "        labels=['TI', 'KĪ low', 'KĪ'],\n",
    "        loc='upper left', handlelength=4,\n",
    "        handler_map={tuple: HandlerTuple(ndivide=None)})\n",
    "\n",
    "params = {'mathtext.default': 'regular' }\n",
    "plt.rcParams.update(params)\n",
    "ax.set_title('', loc='left', fontsize=20)\n",
    "ax.set_xticklabels(['2-4', '4-8', '8-16', '16-32', '32-64'])\n",
    "ax.set_xlabel('Generations', fontsize=14)\n",
    "ax.set_ylabel('$N_{e}$', fontsize=14)\n",
    "\n",
    "#plt.savefig('plots/ROH_Recomb_Ne_Subset_esimtates.png', dpi=300, bbox_inches='tight')"
   ]
  },
  {
   "cell_type": "markdown",
   "metadata": {},
   "source": []
  },
  {
   "cell_type": "code",
   "execution_count": null,
   "metadata": {},
   "outputs": [],
   "source": [
    "gen2 = 17857100\n",
    "gen4 = 4464300\n",
    "gen8 = 2232100\n",
    "gen16 = 1116100\n",
    "large_roh = roh[(roh['ROH_size']>=gen4) & (roh['ROH_size']< gen2)]\n",
    "large_roh = large_roh.groupby('Sample')['Population'].value_counts().reset_index()\n",
    "large_roh = large_roh.groupby('Population')['count'].mean().reset_index()\n",
    "\n",
    "huge_roh = roh[roh['ROH_size']>=gen2]\n",
    "huge_roh = huge_roh.groupby('Sample')['Population'].value_counts().reset_index()\n",
    "huge_roh = huge_roh.groupby('Population')['count'].mean().reset_index()\n",
    "\n",
    "print(large_roh)"
   ]
  },
  {
   "cell_type": "markdown",
   "metadata": {},
   "source": []
  },
  {
   "cell_type": "code",
   "execution_count": null,
   "metadata": {},
   "outputs": [],
   "source": [
    "roh[roh['ROH_size']>=gen2].groupby(['Sample','Population'])['Population'].count()"
   ]
  },
  {
   "cell_type": "markdown",
   "metadata": {},
   "source": [
    "### StairwayPlot2\n",
    "Below script was modified from [here](https://github.com/xiaoming-liu/stairway-plot-v2/issues/2)."
   ]
  },
  {
   "cell_type": "code",
   "execution_count": null,
   "metadata": {},
   "outputs": [],
   "source": [
    "au_stairway = pd.read_csv('stairwayplot2/AU_neutral_temp/Australian fairy tern (neutral).final.summary', delimiter='\\t')\n",
    "ti_stairway = pd.read_csv('stairwayplot2/TI_neutral_temp/Tara iti (neutral).final.summary', delimiter='\\t')\n",
    "ki_stairway = pd.read_csv('stairwayplot2/KI_neutral_temp/Kakī (neutral).final.summary', delimiter='\\t')\n",
    "\n",
    "fig, axs = plt.subplots(3, 1, figsize=(20,10), sharex=True, sharey=False)\n",
    "axs[0].step(au_stairway['year'], au_stairway['Ne_median'], where='post', color = 'gold', linewidth=1, label='Australia')\n",
    "axs[0].step(au_stairway['year'], au_stairway['Ne_2.5%'], where='post', color = 'gold', linewidth=1, linestyle='dashed')\n",
    "axs[0].step(au_stairway['year'], au_stairway['Ne_97.5%'], where='post', color = 'gold', linewidth=1, linestyle='dashed')\n",
    "axs[0].set_title('A)', fontsize=20, loc='left')\n",
    "axs[0].set_ylim(0, 100000)\n",
    "\n",
    "axs[1].step(ti_stairway['year'], ti_stairway['Ne_median'], where='post', color = 'steelblue', linewidth=1, label='Tara iti')\n",
    "axs[1].step(ti_stairway['year'], ti_stairway['Ne_2.5%'], where='post', color = 'steelblue', linewidth=1, linestyle='dashed')\n",
    "axs[1].step(ti_stairway['year'], ti_stairway['Ne_97.5%'], where='post', color = 'steelblue', linewidth=1, linestyle='dashed')\n",
    "axs[1].set_title('B)', fontsize=20, loc='left')\n",
    "axs[1].set_ylim(0, 12500)\n",
    "\n",
    "axs[2].step(ki_stairway['year'], ki_stairway['Ne_median'], where='post', color = 'black', linewidth=1, label='Kakī')\n",
    "axs[2].step(ki_stairway['year'], ki_stairway['Ne_2.5%'], where='post', color = 'black', linewidth=1, linestyle='dashed')\n",
    "axs[2].step(ki_stairway['year'], ki_stairway['Ne_97.5%'], where='post', color = 'black', linewidth=1, linestyle='dashed')\n",
    "axs[2].set_title('C)', fontsize=20, loc='left')\n",
    "axs[2].set_ylim(0, 25000)\n",
    "\n",
    "plt.xlim(0, 800)\n",
    "\n",
    "plt.xlabel('Years Before Present', fontsize=14)\n",
    "plt.ylabel('Effective Population Size', fontsize=14)\n",
    "#plt.xticks(x_ticks, x_labels, fontsize=10)\n",
    "#plt.yticks(y_ticks, y_labels, fontsize=10)\n",
    "\n",
    "plt.savefig('plots/fairy_Ne_plot2.png', dpi=300, bbox_inches='tight')"
   ]
  },
  {
   "cell_type": "code",
   "execution_count": null,
   "metadata": {},
   "outputs": [],
   "source": [
    "au_stairway.tail()"
   ]
  },
  {
   "cell_type": "code",
   "execution_count": null,
   "metadata": {},
   "outputs": [],
   "source": [
    "au_hgone = pd.read_csv('GONE/Haldane_Correction/AU_neutral_run1_test/Output_Ne_AU_neutral_test', sep='\\t')\n",
    "ki_hgone = pd.read_csv('GONE/Haldane_Correction/KI_neutral_run1/Output_Ne_KI_neutral', sep='\\t')\n",
    "ti_hgone = pd.read_csv('GONE/Haldane_Correction/TI_neutral_run1_test/Output_Ne_TI_neutral_test', sep='\\t')\n",
    "\n",
    "au_kgone = pd.read_csv('GONE/Kosambi_Correction/AU_neutral_run1/Output_Ne_AU_neutral_test', sep='\\t')\n",
    "ki_kgone = pd.read_csv('GONE/Kosambi_Correction/KI_neutral_run1/Output_Ne_KI_neutral', sep='\\t')\n",
    "ti_kgone = pd.read_csv('GONE/Kosambi_Correction/TI_neutral_run1/Output_Ne_TI_neutral_test', sep='\\t')\n",
    "\n",
    "ki_h_parents = pd.read_csv('GONE/Haldane_Correction/KI_neutral_parents/Output_Ne_KI_parents_neutral', sep='\\t')\n",
    "\n",
    "# Filter to within the last 100 generations as this is the noly period the method is confident in\n",
    "au_hgone = au_hgone[au_hgone['Generation']<=100]\n",
    "ki_hgone = ki_hgone[ki_hgone['Generation']<=100]\n",
    "ti_hgone = ti_hgone[ti_hgone['Generation']<=100]\n",
    "\n",
    "au_kgone = au_kgone[au_kgone['Generation']<=100]\n",
    "ki_kgone = ki_kgone[ki_kgone['Generation']<=100]\n",
    "ti_kgone = ti_kgone[ti_kgone['Generation']<=100]\n",
    "\n",
    "ki_h_parents = ki_h_parents[ki_h_parents['Generation']<=100]\n",
    "ki_h_parents['Year'] = ki_h_parents['Generation'] * 6\n",
    "\n",
    "au_hgone['Population'] = 'AU'\n",
    "ki_hgone['Population'] = 'KI'\n",
    "ti_hgone['Population'] = 'TI'\n",
    "\n",
    "au_hgone['Year'] = au_hgone['Generation'] * 6\n",
    "ki_hgone['Year'] = ki_hgone['Generation'] * 6\n",
    "ti_hgone['Year'] = ti_hgone['Generation'] * 6\n",
    "\n",
    "au_kgone['Population'] = 'AU'\n",
    "ki_kgone['Population'] = 'KI'\n",
    "ti_kgone['Population'] = 'TI'\n",
    "\n",
    "ki_h_parents['Population'] = 'KI'\n",
    "\n",
    "au_hgone.head()"
   ]
  },
  {
   "cell_type": "code",
   "execution_count": null,
   "metadata": {},
   "outputs": [],
   "source": [
    "sns.lineplot(ti_hgone, x='Year', y='Geometric_mean')\n",
    "sns.lineplot(ki_hgone, x='Year', y='Geometric_mean')\n",
    "sns.lineplot(ki_h_parents, x='Year', y='Geometric_mean', color='black')"
   ]
  },
  {
   "cell_type": "code",
   "execution_count": null,
   "metadata": {},
   "outputs": [],
   "source": [
    "sns.lineplot(ti_hgone[ti_hgone['Generation']>10], x='Year', y='Geometric_mean')\n",
    "sns.lineplot(ki_hgone[ki_hgone['Generation']>10], x='Year', y='Geometric_mean')\n",
    "sns.lineplot(ki_h_parents[ki_h_parents['Generation']>10], x='Year', y='Geometric_mean', color='black')"
   ]
  },
  {
   "cell_type": "code",
   "execution_count": null,
   "metadata": {},
   "outputs": [],
   "source": [
    "sns.lineplot(au_hgone[au_hgone['Generation']>10], x='Year', y='Geometric_mean', color='gold')"
   ]
  }
 ],
 "metadata": {
  "kernelspec": {
   "display_name": "Python 3",
   "language": "python",
   "name": "python3"
  },
  "language_info": {
   "name": "python",
   "version": "3.11.10"
  }
 },
 "nbformat": 4,
 "nbformat_minor": 2
}
