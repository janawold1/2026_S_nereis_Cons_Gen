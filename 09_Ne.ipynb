{
 "cells": [
  {
   "cell_type": "markdown",
   "metadata": {},
   "source": [
    "## Population Demography\n",
    "### ROH length and estimates of recent N<sub>e</sub>\n",
    "The below code and method was adapted from [Humble et al. (2023)](http://doi.org/10.1073/pnas.2210756120) to estimate recent trends in N<sub>e</sub> with runs of homozygosity (ROH). The original code from this paper is available [here](https://github.com/ehumble/SHO_roh_load_2022/tree/master).  \n",
    "\n",
    " First, we load the relevant packages.  "
   ]
  },
  {
   "cell_type": "code",
   "execution_count": 1,
   "metadata": {},
   "outputs": [
    {
     "name": "stdout",
     "output_type": "stream",
     "text": [
      "/nesi/nobackup/uc03718\n"
     ]
    }
   ],
   "source": [
    "import os\n",
    "import pandas as pd\n",
    "import numpy as np\n",
    "import seaborn as sns\n",
    "from matplotlib.legend_handler import HandlerTuple\n",
    "import matplotlib.pyplot as plt\n",
    "\n",
    "path = '/nesi/nobackup/uc03718/'\n",
    "os.chdir(path)\n",
    "print(os.getcwd())"
   ]
  },
  {
   "cell_type": "markdown",
   "metadata": {},
   "source": [
    "The formula below summarised by Humble et al from [Thompson (2013)](https://doi.org/10.1534/genetics.112.148825) was used to divide ROHs into seven length classes (*L*) corresponding to <2, 2-4, 4-8, 8-16, 16-32, 32-64, and 64-128 generations (*g*) ago:\n",
    "$$\n",
    "L = \\frac{100}{2 * g}\n",
    "$$\n",
    "\n",
    "Essentially, this equation is assuming that a time of depth of *g* should result in double the number of meioses events (*m*). Given that a linkage map was unavailable for their study species, Humble et al assumed a recombination rate of 1 cM/Mb. However, recombination rate is generally higher than this estimate and has been shown to be heterogenous within and between avian lineages and even within and between chromosomes ([Nam et al. (2010)](https://doi.org/10.1186/gb-2010-11-6-r68)). To get an understanding of the broad patterns of N<sub>e</sub>, we estimated N<sub>e</sub> using a mean recombination rate of 2.8 cM/Mb as a middle road of recombination rates observed in [Backström et al. (2010)](http://doi.org/10.1101/gr.101410.109) and [Smeds et al. (2016)](http://doi.org/10.1371/journal.pgen.1006044) and as it was estimated in the chicken (*Gallus gallus*).\n",
    "$$\n",
    "L = \\frac{100}{2.8(2 * g)}\n",
    "$$\n",
    "\n",
    "Using the lengths calculated here, we estimated N<sub>e</sub> for each *g*. Here, *F<sub>ROH, t</sub>* represents average population inbreeding coefficient for the maximum numbers of generations (*t*) in the time periods corresponding for each of the seven size classes above.  \n",
    "$$\n",
    "F_{ROH, t} = 1 - (1 - \\frac{1}{2 * N_{e}})^t\n",
    "$$\n",
    "\n",
    "We then define the function `inb_ne()` to estimate N<sub>e</sub> using the mean *F<sub>ROH</sub>* for each *L*.  \n",
    "$$\n",
    "N_{e} = \\frac{1}{2 * (1 - f_{ROH})^\\frac{1}{L}}\n",
    "$$\n",
    "\n",
    "Below we also define a function (`bootstrap_Ne()`) for bootstrapping with replacement for each N<sub>e</sub> estimate."
   ]
  },
  {
   "cell_type": "code",
   "execution_count": 2,
   "metadata": {},
   "outputs": [],
   "source": [
    "def inb_ne(mean_froh, class_):\n",
    "    Ne = 1 / (2 * (1 - ((1 - mean_froh) ** (1 / class_))))\n",
    "    return Ne\n",
    "\n",
    "#def bootstrap_Ne(iter, df, frac):\n",
    "#    sampled_df = (df\n",
    "#                  .groupby(['Generation Class', 'Population'], group_keys=False)\n",
    "#                  .apply(lambda x: x.sample(frac=frac, replace=True), include_groups=False)\n",
    "#                  .groupby(['Generation Class', 'Population'], as_index=False)\n",
    "#                  .agg(mean_froh = ('fROH', 'mean'))\n",
    "#                  .assign(Ne = lambda x: inb_ne(x['mean_froh'], x['Generation Class']))\n",
    "#                  )\n",
    "#    return sampled_df\n",
    "\n",
    "def bootstrap_Ne(iter, df, frac):\n",
    "    # Ensure we have the required columns\n",
    "    required_cols = ['Generation Class', 'Population', 'fROH']\n",
    "    if not all(col in df.columns for col in required_cols):\n",
    "        raise ValueError(f\"Missing required columns. Available: {df.columns.tolist()}\")\n",
    "    \n",
    "    # Sample within each group and preserve all columns\n",
    "    sampled_groups = []\n",
    "    for (gen_class, pop), group in df.groupby(['Generation Class', 'Population']):\n",
    "        sampled_group = group.sample(frac=frac, replace=True)\n",
    "        sampled_groups.append(sampled_group)\n",
    "    \n",
    "    sampled_df = pd.concat(sampled_groups, ignore_index=True)\n",
    "    \n",
    "    # Now aggregate\n",
    "    result = (sampled_df\n",
    "              .groupby(['Generation Class', 'Population'], as_index=False)\n",
    "              .agg(mean_froh = ('fROH', 'mean'))\n",
    "              .assign(Ne = lambda x: inb_ne(x['mean_froh'], x['Generation Class']))\n",
    "              )\n",
    "    \n",
    "    return result"
   ]
  },
  {
   "cell_type": "markdown",
   "metadata": {},
   "source": [
    "To estimate N<sub>e</sub> for each of the seven *L* defined above, we us the `ROHs.tsv` file. This time, we convert ROH sizes estimated by ROHAN to megabases (defined as `ROH Size in Mb` in the df below), assign the relevant Generation Class (*g*) for each *L* (defined as `length_class`) and find the *F<sub>ROH</sub>* for each ROH in each individual by dividing `ROH Size in Mb` by the estimated size of autosomal chromosomes for the tara iti and kakī reference genomes (in Mb).\n",
    "\n",
    "Given the influence relatedness among individuals may have on estimates of contemporary N<sub>e</sub>, we excluded all offspring in kakī parental/offspring trios in our data set. We found did not observe obvious differences in our N<sub>e</sub> estimates from parents only vs the entire dataset.  "
   ]
  },
  {
   "cell_type": "code",
   "execution_count": 3,
   "metadata": {},
   "outputs": [
    {
     "data": {
      "text/html": [
       "<div>\n",
       "<style scoped>\n",
       "    .dataframe tbody tr th:only-of-type {\n",
       "        vertical-align: middle;\n",
       "    }\n",
       "\n",
       "    .dataframe tbody tr th {\n",
       "        vertical-align: top;\n",
       "    }\n",
       "\n",
       "    .dataframe thead th {\n",
       "        text-align: right;\n",
       "    }\n",
       "</style>\n",
       "<table border=\"1\" class=\"dataframe\">\n",
       "  <thead>\n",
       "    <tr style=\"text-align: right;\">\n",
       "      <th></th>\n",
       "      <th>Sample</th>\n",
       "      <th>Population</th>\n",
       "      <th>Generation Class</th>\n",
       "      <th>length_class</th>\n",
       "      <th>fROH</th>\n",
       "    </tr>\n",
       "  </thead>\n",
       "  <tbody>\n",
       "    <tr>\n",
       "      <th>0</th>\n",
       "      <td>AU01</td>\n",
       "      <td>AU</td>\n",
       "      <td>8.0</td>\n",
       "      <td>2.2321-4.4643</td>\n",
       "      <td>0.002985</td>\n",
       "    </tr>\n",
       "    <tr>\n",
       "      <th>1</th>\n",
       "      <td>AU01</td>\n",
       "      <td>AU</td>\n",
       "      <td>16.0</td>\n",
       "      <td>1.1161-2.2321</td>\n",
       "      <td>0.006796</td>\n",
       "    </tr>\n",
       "    <tr>\n",
       "      <th>2</th>\n",
       "      <td>AU01</td>\n",
       "      <td>AU</td>\n",
       "      <td>32.0</td>\n",
       "      <td>0.5580-1.1161</td>\n",
       "      <td>0.011205</td>\n",
       "    </tr>\n",
       "    <tr>\n",
       "      <th>3</th>\n",
       "      <td>AU01</td>\n",
       "      <td>AU</td>\n",
       "      <td>64.0</td>\n",
       "      <td>0.2790-0.5580</td>\n",
       "      <td>0.021400</td>\n",
       "    </tr>\n",
       "    <tr>\n",
       "      <th>4</th>\n",
       "      <td>AU01</td>\n",
       "      <td>AU</td>\n",
       "      <td>128.0</td>\n",
       "      <td>0.1395-0.2790</td>\n",
       "      <td>0.032054</td>\n",
       "    </tr>\n",
       "  </tbody>\n",
       "</table>\n",
       "</div>"
      ],
      "text/plain": [
       "  Sample Population  Generation Class   length_class      fROH\n",
       "0   AU01         AU               8.0  2.2321-4.4643  0.002985\n",
       "1   AU01         AU              16.0  1.1161-2.2321  0.006796\n",
       "2   AU01         AU              32.0  0.5580-1.1161  0.011205\n",
       "3   AU01         AU              64.0  0.2790-0.5580  0.021400\n",
       "4   AU01         AU             128.0  0.1395-0.2790  0.032054"
      ]
     },
     "execution_count": 3,
     "metadata": {},
     "output_type": "execute_result"
    }
   ],
   "source": [
    "roh = pd.read_csv('rohan/ROHs.tsv', delimiter='\\t')\n",
    "\n",
    "excluded_samples = [\n",
    "    'TI89', 'TI52', 'TI62', 'TI64',\n",
    "    'TI65', 'TI66', 'TI70', 'TI82',\n",
    "    'TI83', 'TI86', 'TI87', 'TI90', \n",
    "    'TI94', 'TI98', 'TI100', 'TI102' \n",
    "    ]\n",
    "\n",
    "roh = roh[~roh['Sample'].isin(excluded_samples)]\n",
    "\n",
    "roh['ROH Size in Mb'] = roh['ROH Length'] / 1000000\n",
    "\n",
    "recomb = roh\n",
    "recomb['Generation Class'] = np.select(\n",
    "    [\n",
    "        recomb['ROH Size in Mb'] >= 17.8571,\n",
    "        (recomb['ROH Size in Mb'] < 17.8571) & (recomb['ROH Size in Mb'] >= 4.4643),\n",
    "        (recomb['ROH Size in Mb'] < 4.4643) & (recomb['ROH Size in Mb'] >= 2.2321),\n",
    "        (recomb['ROH Size in Mb'] < 2.2321) & (recomb['ROH Size in Mb'] >= 1.1161),\n",
    "        (recomb['ROH Size in Mb'] < 1.1161) & (recomb['ROH Size in Mb'] >= 0.5580),\n",
    "        (recomb['ROH Size in Mb'] < 0.5580) & (recomb['ROH Size in Mb'] >= 0.2790),\n",
    "        (recomb['ROH Size in Mb'] < 0.2790) & (recomb['ROH Size in Mb'] >= 0.1395),\n",
    "    ],\n",
    "    [2, 4, 8, 16, 32, 64, 128],\n",
    "    default=np.nan\n",
    ")\n",
    "\n",
    "recomb['length_class'] = recomb['Generation Class'].map({\n",
    "    2: \">17.8571\",\n",
    "    4: \"4.4643-17.8571\",\n",
    "    8: \"2.2321-4.4643\",\n",
    "    16: \"1.1161-2.2321\",\n",
    "    32: \"0.5580-1.1161\",\n",
    "    64: \"0.2790-0.5580\",\n",
    "    128: \"0.1395-0.2790\"\n",
    "})\n",
    "\n",
    "fairy_recomb = recomb[(recomb['Population']!='KI') & (recomb['Population']!='KI_10x') & (recomb['ROH Size in Mb']>=0.1395)]\n",
    "kaki_recomb = recomb[(recomb['Population']=='KI') & (recomb['ROH Size in Mb']>=0.1395)]\n",
    "kaki_recomb = kaki_recomb[kaki_recomb['Sample'].isin(['H01383', 'H01384', 'H01385', 'H01386', 'H01387', 'H01388', 'H01389', 'H01390', 'H01391', 'H01392', 'H01393', 'H01394'])]\n",
    "\n",
    "fairy = (fairy_recomb\n",
    "    .groupby(['Sample', 'Population', 'Generation Class', 'length_class'], as_index=False, dropna=False)\n",
    "    .agg(fROH=('ROH Size in Mb', lambda x: sum((x / 1088.797119))))\n",
    "    )\n",
    "\n",
    "kaki = (kaki_recomb\n",
    "    .groupby(['Sample', 'Population', 'Generation Class', 'length_class'], as_index=False, dropna=False)\n",
    "    .agg(fROH=('ROH Size in Mb', lambda x: sum((x / 1095.624494))))\n",
    "    )\n",
    "\n",
    "fairy.head()"
   ]
  },
  {
   "cell_type": "markdown",
   "metadata": {},
   "source": []
  },
  {
   "cell_type": "code",
   "execution_count": 4,
   "metadata": {},
   "outputs": [],
   "source": [
    "iterations = 100\n",
    "kiresults = [bootstrap_Ne(i, kaki, 0.5) for i in range(iterations)]\n",
    "ftresults = [bootstrap_Ne(i, fairy, 0.5) for i in range(iterations)]\n",
    "\n",
    "kiuncert = (pd.concat(kiresults, keys=range(iterations), names=['iter'])\n",
    "                .reset_index(level='iter'))\n",
    "\n",
    "ftuncert = (pd.concat(ftresults, keys=range(iterations), names=['iter'])\n",
    "                .reset_index(level='iter'))\n",
    "\n",
    "uncertainty = pd.concat([ftuncert, kiuncert], axis=0, ignore_index=True)"
   ]
  },
  {
   "cell_type": "markdown",
   "metadata": {},
   "source": []
  },
  {
   "cell_type": "code",
   "execution_count": 5,
   "metadata": {},
   "outputs": [
    {
     "name": "stdout",
     "output_type": "stream",
     "text": [
      "Generation Class  Population\n",
      "2.0               NZ               7.306612\n",
      "4.0               AU             176.288407\n",
      "                  KI              29.401001\n",
      "                  NZ               7.563983\n",
      "8.0               AU             544.352726\n",
      "                  KI              80.431155\n",
      "                  NZ              42.018280\n",
      "16.0              AU             869.902562\n",
      "                  KI             108.285178\n",
      "                  NZ             106.498356\n",
      "32.0              AU            1251.868106\n",
      "                  KI             155.855491\n",
      "                  NZ             202.092932\n",
      "64.0              AU            1572.593636\n",
      "                  KI             233.896749\n",
      "                  NZ             389.288554\n",
      "128.0             AU            2114.162322\n",
      "                  KI             612.770774\n",
      "                  NZ            1059.282715\n",
      "Name: Ne, dtype: float64\n"
     ]
    }
   ],
   "source": [
    "print(uncertainty.groupby(['Generation Class', 'Population'])['Ne'].min())"
   ]
  },
  {
   "cell_type": "markdown",
   "metadata": {},
   "source": []
  },
  {
   "cell_type": "code",
   "execution_count": 6,
   "metadata": {},
   "outputs": [
    {
     "name": "stderr",
     "output_type": "stream",
     "text": [
      "/tmp/ipykernel_39374/1337689962.py:9: FutureWarning: DataFrameGroupBy.apply operated on the grouping columns. This behavior is deprecated, and in a future version of pandas the grouping columns will be excluded from the operation. Either pass `include_groups=False` to exclude the groupings or explicitly select the grouping columns after groupby to silence this warning.\n",
      "  Ne = uncertainty.groupby(['Generation Class', 'Population']).apply(calculate_SE).reset_index(drop=True)\n"
     ]
    },
    {
     "data": {
      "text/html": [
       "<div>\n",
       "<style scoped>\n",
       "    .dataframe tbody tr th:only-of-type {\n",
       "        vertical-align: middle;\n",
       "    }\n",
       "\n",
       "    .dataframe tbody tr th {\n",
       "        vertical-align: top;\n",
       "    }\n",
       "\n",
       "    .dataframe thead th {\n",
       "        text-align: right;\n",
       "    }\n",
       "</style>\n",
       "<table border=\"1\" class=\"dataframe\">\n",
       "  <thead>\n",
       "    <tr style=\"text-align: right;\">\n",
       "      <th></th>\n",
       "      <th>Generation Class</th>\n",
       "      <th>Population</th>\n",
       "      <th>SD</th>\n",
       "      <th>SE</th>\n",
       "      <th>Ne</th>\n",
       "    </tr>\n",
       "  </thead>\n",
       "  <tbody>\n",
       "    <tr>\n",
       "      <th>0</th>\n",
       "      <td>2.0</td>\n",
       "      <td>NZ</td>\n",
       "      <td>1.858909</td>\n",
       "      <td>0.185891</td>\n",
       "      <td>11.368839</td>\n",
       "    </tr>\n",
       "    <tr>\n",
       "      <th>1</th>\n",
       "      <td>4.0</td>\n",
       "      <td>AU</td>\n",
       "      <td>102.249423</td>\n",
       "      <td>10.224942</td>\n",
       "      <td>320.149902</td>\n",
       "    </tr>\n",
       "    <tr>\n",
       "      <th>2</th>\n",
       "      <td>4.0</td>\n",
       "      <td>KI</td>\n",
       "      <td>32.731177</td>\n",
       "      <td>3.273118</td>\n",
       "      <td>66.495241</td>\n",
       "    </tr>\n",
       "    <tr>\n",
       "      <th>3</th>\n",
       "      <td>4.0</td>\n",
       "      <td>NZ</td>\n",
       "      <td>0.444128</td>\n",
       "      <td>0.044413</td>\n",
       "      <td>8.369997</td>\n",
       "    </tr>\n",
       "    <tr>\n",
       "      <th>4</th>\n",
       "      <td>8.0</td>\n",
       "      <td>AU</td>\n",
       "      <td>205.725360</td>\n",
       "      <td>20.572536</td>\n",
       "      <td>871.788731</td>\n",
       "    </tr>\n",
       "    <tr>\n",
       "      <th>5</th>\n",
       "      <td>8.0</td>\n",
       "      <td>KI</td>\n",
       "      <td>45.048935</td>\n",
       "      <td>4.504893</td>\n",
       "      <td>135.514171</td>\n",
       "    </tr>\n",
       "    <tr>\n",
       "      <th>6</th>\n",
       "      <td>8.0</td>\n",
       "      <td>NZ</td>\n",
       "      <td>1.861772</td>\n",
       "      <td>0.186177</td>\n",
       "      <td>46.931437</td>\n",
       "    </tr>\n",
       "    <tr>\n",
       "      <th>7</th>\n",
       "      <td>16.0</td>\n",
       "      <td>AU</td>\n",
       "      <td>237.191717</td>\n",
       "      <td>23.719172</td>\n",
       "      <td>1442.862457</td>\n",
       "    </tr>\n",
       "    <tr>\n",
       "      <th>8</th>\n",
       "      <td>16.0</td>\n",
       "      <td>KI</td>\n",
       "      <td>22.253389</td>\n",
       "      <td>2.225339</td>\n",
       "      <td>144.496391</td>\n",
       "    </tr>\n",
       "    <tr>\n",
       "      <th>9</th>\n",
       "      <td>16.0</td>\n",
       "      <td>NZ</td>\n",
       "      <td>5.401697</td>\n",
       "      <td>0.540170</td>\n",
       "      <td>117.827704</td>\n",
       "    </tr>\n",
       "    <tr>\n",
       "      <th>10</th>\n",
       "      <td>32.0</td>\n",
       "      <td>AU</td>\n",
       "      <td>130.338340</td>\n",
       "      <td>13.033834</td>\n",
       "      <td>1619.133701</td>\n",
       "    </tr>\n",
       "    <tr>\n",
       "      <th>11</th>\n",
       "      <td>32.0</td>\n",
       "      <td>KI</td>\n",
       "      <td>22.733485</td>\n",
       "      <td>2.273348</td>\n",
       "      <td>206.499114</td>\n",
       "    </tr>\n",
       "    <tr>\n",
       "      <th>12</th>\n",
       "      <td>32.0</td>\n",
       "      <td>NZ</td>\n",
       "      <td>8.181263</td>\n",
       "      <td>0.818126</td>\n",
       "      <td>220.291117</td>\n",
       "    </tr>\n",
       "    <tr>\n",
       "      <th>13</th>\n",
       "      <td>64.0</td>\n",
       "      <td>AU</td>\n",
       "      <td>65.716425</td>\n",
       "      <td>6.571642</td>\n",
       "      <td>1710.169756</td>\n",
       "    </tr>\n",
       "    <tr>\n",
       "      <th>14</th>\n",
       "      <td>64.0</td>\n",
       "      <td>KI</td>\n",
       "      <td>26.042631</td>\n",
       "      <td>2.604263</td>\n",
       "      <td>291.556548</td>\n",
       "    </tr>\n",
       "    <tr>\n",
       "      <th>15</th>\n",
       "      <td>64.0</td>\n",
       "      <td>NZ</td>\n",
       "      <td>15.373443</td>\n",
       "      <td>1.537344</td>\n",
       "      <td>420.719955</td>\n",
       "    </tr>\n",
       "    <tr>\n",
       "      <th>16</th>\n",
       "      <td>128.0</td>\n",
       "      <td>AU</td>\n",
       "      <td>69.250739</td>\n",
       "      <td>6.925074</td>\n",
       "      <td>2287.500564</td>\n",
       "    </tr>\n",
       "    <tr>\n",
       "      <th>17</th>\n",
       "      <td>128.0</td>\n",
       "      <td>KI</td>\n",
       "      <td>34.553588</td>\n",
       "      <td>3.455359</td>\n",
       "      <td>687.471536</td>\n",
       "    </tr>\n",
       "    <tr>\n",
       "      <th>18</th>\n",
       "      <td>128.0</td>\n",
       "      <td>NZ</td>\n",
       "      <td>38.672658</td>\n",
       "      <td>3.867266</td>\n",
       "      <td>1189.704026</td>\n",
       "    </tr>\n",
       "  </tbody>\n",
       "</table>\n",
       "</div>"
      ],
      "text/plain": [
       "    Generation Class Population          SD         SE           Ne\n",
       "0                2.0         NZ    1.858909   0.185891    11.368839\n",
       "1                4.0         AU  102.249423  10.224942   320.149902\n",
       "2                4.0         KI   32.731177   3.273118    66.495241\n",
       "3                4.0         NZ    0.444128   0.044413     8.369997\n",
       "4                8.0         AU  205.725360  20.572536   871.788731\n",
       "5                8.0         KI   45.048935   4.504893   135.514171\n",
       "6                8.0         NZ    1.861772   0.186177    46.931437\n",
       "7               16.0         AU  237.191717  23.719172  1442.862457\n",
       "8               16.0         KI   22.253389   2.225339   144.496391\n",
       "9               16.0         NZ    5.401697   0.540170   117.827704\n",
       "10              32.0         AU  130.338340  13.033834  1619.133701\n",
       "11              32.0         KI   22.733485   2.273348   206.499114\n",
       "12              32.0         NZ    8.181263   0.818126   220.291117\n",
       "13              64.0         AU   65.716425   6.571642  1710.169756\n",
       "14              64.0         KI   26.042631   2.604263   291.556548\n",
       "15              64.0         NZ   15.373443   1.537344   420.719955\n",
       "16             128.0         AU   69.250739   6.925074  2287.500564\n",
       "17             128.0         KI   34.553588   3.455359   687.471536\n",
       "18             128.0         NZ   38.672658   3.867266  1189.704026"
      ]
     },
     "execution_count": 6,
     "metadata": {},
     "output_type": "execute_result"
    }
   ],
   "source": [
    "def calculate_SE(group):\n",
    "    std_dev = group['Ne'].std()\n",
    "    count = group['Ne'].count()\n",
    "    standard_error = std_dev / np.sqrt(count)\n",
    "    group['SE'] = standard_error\n",
    "    group['SD'] = std_dev\n",
    "    return group\n",
    "\n",
    "Ne = uncertainty.groupby(['Generation Class', 'Population']).apply(calculate_SE).reset_index(drop=True)\n",
    "Ne = Ne.groupby(['Generation Class', 'Population', 'SD', 'SE'])['Ne'].mean().reset_index()\n",
    "Ne.head(n=20)"
   ]
  },
  {
   "cell_type": "markdown",
   "metadata": {},
   "source": []
  },
  {
   "cell_type": "code",
   "execution_count": 7,
   "metadata": {},
   "outputs": [
    {
     "name": "stderr",
     "output_type": "stream",
     "text": [
      "/tmp/ipykernel_39374/472417158.py:17: UserWarning: set_ticklabels() should only be used with a fixed number of ticks, i.e. after set_ticks() or using a FixedLocator.\n",
      "  ax.set_xticklabels(['2-4', '4-8', '8-16', '16-32', '32-64', '64-128'])\n",
      "findfont: Font family ['STIXGeneral'] not found. Falling back to DejaVu Sans.\n",
      "findfont: Font family ['STIXGeneral'] not found. Falling back to DejaVu Sans.\n",
      "findfont: Font family ['STIXGeneral'] not found. Falling back to DejaVu Sans.\n",
      "findfont: Font family ['STIXGeneral'] not found. Falling back to DejaVu Sans.\n",
      "findfont: Font family ['STIXNonUnicode'] not found. Falling back to DejaVu Sans.\n",
      "findfont: Font family ['STIXNonUnicode'] not found. Falling back to DejaVu Sans.\n",
      "findfont: Font family ['STIXNonUnicode'] not found. Falling back to DejaVu Sans.\n",
      "findfont: Font family ['STIXSizeOneSym'] not found. Falling back to DejaVu Sans.\n",
      "findfont: Font family ['STIXSizeTwoSym'] not found. Falling back to DejaVu Sans.\n",
      "findfont: Font family ['STIXSizeThreeSym'] not found. Falling back to DejaVu Sans.\n",
      "findfont: Font family ['STIXSizeFourSym'] not found. Falling back to DejaVu Sans.\n",
      "findfont: Font family ['STIXSizeFiveSym'] not found. Falling back to DejaVu Sans.\n",
      "findfont: Font family ['cmsy10'] not found. Falling back to DejaVu Sans.\n",
      "findfont: Font family ['cmr10'] not found. Falling back to DejaVu Sans.\n",
      "findfont: Font family ['cmtt10'] not found. Falling back to DejaVu Sans.\n",
      "findfont: Font family ['cmmi10'] not found. Falling back to DejaVu Sans.\n",
      "findfont: Font family ['cmb10'] not found. Falling back to DejaVu Sans.\n",
      "findfont: Font family ['cmss10'] not found. Falling back to DejaVu Sans.\n",
      "findfont: Font family ['cmex10'] not found. Falling back to DejaVu Sans.\n",
      "findfont: Font family ['DejaVu Sans Display'] not found. Falling back to DejaVu Sans.\n"
     ]
    },
    {
     "data": {
      "image/png": "[encoded data removed]",
      "text/plain": [
       "<Figure size 1500x500 with 1 Axes>"
      ]
     },
     "metadata": {},
     "output_type": "display_data"
    }
   ],
   "source": [
    "palette = ['gold', 'steelblue', 'black']\n",
    "order = ['AU', 'NZ', 'KI']\n",
    "labels = ['AFT', 'TI', 'KĪ']\n",
    "\n",
    "plt.figure(figsize=(15, 5))\n",
    "ax = sns.pointplot(data=uncertainty, x='Generation Class', y='Ne', dodge=True, hue='Population', hue_order=order,\n",
    "                palette=palette, errorbar='sd', capsize=0.05, n_boot=100, estimator='mean', markers='o', linestyles='none')\n",
    "handles, labels = ax.get_legend_handles_labels()\n",
    "ax.legend(handles=handles,\n",
    "        labels=labels,\n",
    "        loc='upper left', handlelength=4,\n",
    "        handler_map={tuple: HandlerTuple(ndivide=None)})\n",
    "\n",
    "params = {'mathtext.default': 'regular' }\n",
    "plt.rcParams.update(params)\n",
    "ax.set_title('', loc='left', fontsize=20)\n",
    "ax.set_xticklabels(['2-4', '4-8', '8-16', '16-32', '32-64', '64-128'])\n",
    "ax.set_xlabel('Generations', fontsize=14)\n",
    "ax.set_ylabel('$N_{e}$', fontsize=14)\n",
    "\n",
    "plt.savefig('Git_Repos/2026_S_nereis_Cons_Gen/Figures/ROH_Recomb_Ne_esimtates.png', dpi=300, bbox_inches='tight')"
   ]
  },
  {
   "cell_type": "code",
   "execution_count": 8,
   "metadata": {},
   "outputs": [
    {
     "data": {
      "text/plain": [
       "<Axes: xlabel='Generation Class', ylabel='Ne'>"
      ]
     },
     "execution_count": 8,
     "metadata": {},
     "output_type": "execute_result"
    },
    {
     "data": {
      "image/png": "[encoded data removed]",
      "text/plain": [
       "<Figure size 640x480 with 1 Axes>"
      ]
     },
     "metadata": {},
     "output_type": "display_data"
    }
   ],
   "source": [
    "# Add error bars separately if needed\n",
    "sns.pointplot(data=uncertainty, x='Generation Class', y='Ne', \n",
    "              hue='Population', hue_order=order, palette=palette,\n",
    "              errorbar='sd', capsize=0.05, n_boot=100, estimator='mean',\n",
    "              markers='o', linestyles='none', dodge=True)"
   ]
  },
  {
   "cell_type": "markdown",
   "metadata": {},
   "source": []
  },
  {
   "cell_type": "code",
   "execution_count": 10,
   "metadata": {},
   "outputs": [
    {
     "name": "stderr",
     "output_type": "stream",
     "text": [
      "/tmp/ipykernel_39374/331135871.py:17: UserWarning: set_ticklabels() should only be used with a fixed number of ticks, i.e. after set_ticks() or using a FixedLocator.\n",
      "  ax.set_xticklabels(['2-4', '4-8', '8-16', '16-32', '32-64'])\n"
     ]
    },
    {
     "data": {
      "image/png": "[encoded data removed]",
      "text/plain": [
       "<Figure size 1500x500 with 1 Axes>"
      ]
     },
     "metadata": {},
     "output_type": "display_data"
    }
   ],
   "source": [
    "palette = ['steelblue', 'black']\n",
    "\n",
    "uncertainty_subplot = uncertainty[(uncertainty['Generation Class']>2) & (uncertainty['Generation Class']<128) & (uncertainty['Population']!='AU')]\n",
    "\n",
    "plt.figure(figsize=(15, 5))\n",
    "ax = sns.pointplot(data=uncertainty_subplot, x='Generation Class', y='Ne', dodge=True, hue='Population', hue_order=['NZ', 'KI'],\n",
    "                palette=palette, errorbar='sd', capsize=0.05, n_boot=100, estimator='mean', markers='o', linestyles='none')\n",
    "handles, labels = ax.get_legend_handles_labels()\n",
    "ax.legend(handles=handles,\n",
    "        labels=['TI', 'KĪ'],\n",
    "        loc='upper left', handlelength=4,\n",
    "        handler_map={tuple: HandlerTuple(ndivide=None)})\n",
    "\n",
    "params = {'mathtext.default': 'regular' }\n",
    "plt.rcParams.update(params)\n",
    "ax.set_title('', loc='left', fontsize=20)\n",
    "ax.set_xticklabels(['2-4', '4-8', '8-16', '16-32', '32-64'])\n",
    "ax.set_xlabel('Generations', fontsize=14)\n",
    "ax.set_ylabel('$N_{e}$', fontsize=14)\n",
    "\n",
    "plt.savefig('Git_Repos/2026_S_nereis_Cons_Gen/Figures/ROH_Recomb_Ne_Subset_esimtates.png', dpi=300, bbox_inches='tight')"
   ]
  },
  {
   "cell_type": "markdown",
   "metadata": {},
   "source": []
  },
  {
   "cell_type": "code",
   "execution_count": 11,
   "metadata": {},
   "outputs": [
    {
     "name": "stdout",
     "output_type": "stream",
     "text": [
      "  Population     count\n",
      "0         NZ  3.771429\n"
     ]
    }
   ],
   "source": [
    "gen2 = 17857100\n",
    "gen4 = 4464300\n",
    "gen8 = 2232100\n",
    "gen16 = 1116100\n",
    "large_roh = roh[(roh['ROH Length']>=gen4) & (roh['ROH Length']< gen2)]\n",
    "large_roh = large_roh.groupby('Sample')['Population'].value_counts().reset_index()\n",
    "large_roh = large_roh.groupby('Population')['count'].mean().reset_index()\n",
    "\n",
    "huge_roh = roh[roh['ROH Length']>=gen2]\n",
    "huge_roh = huge_roh.groupby('Sample')['Population'].value_counts().reset_index()\n",
    "huge_roh = huge_roh.groupby('Population')['count'].mean().reset_index()\n",
    "\n",
    "print(huge_roh)"
   ]
  },
  {
   "cell_type": "markdown",
   "metadata": {},
   "source": []
  },
  {
   "cell_type": "code",
   "execution_count": 14,
   "metadata": {},
   "outputs": [
    {
     "data": {
      "text/plain": [
       "Sample  Population\n",
       "SND04   NZ            1\n",
       "SND11   NZ            3\n",
       "SP02    NZ            8\n",
       "SP03    NZ            3\n",
       "TI101   NZ            1\n",
       "TI35    NZ            3\n",
       "TI36    NZ            3\n",
       "TI37    NZ            3\n",
       "TI38    NZ            1\n",
       "TI40    NZ            1\n",
       "TI41    NZ            4\n",
       "TI50    NZ            3\n",
       "TI51    NZ            8\n",
       "TI54    NZ            2\n",
       "TI56    NZ            2\n",
       "TI57    NZ            5\n",
       "TI63    NZ            3\n",
       "TI67    NZ            4\n",
       "TI68    NZ            2\n",
       "TI69    NZ            2\n",
       "TI71    NZ            3\n",
       "TI72    NZ            7\n",
       "TI75    NZ            4\n",
       "TI77    NZ            4\n",
       "TI81    NZ            5\n",
       "TI84    NZ            1\n",
       "TI85    NZ            4\n",
       "TI88    NZ            1\n",
       "TI91    NZ            5\n",
       "TI92    NZ            7\n",
       "TI93    NZ            5\n",
       "TI95    NZ            5\n",
       "TI96    NZ            8\n",
       "TI97    NZ            6\n",
       "TI99    NZ            5\n",
       "Name: Population, dtype: int64"
      ]
     },
     "execution_count": 14,
     "metadata": {},
     "output_type": "execute_result"
    }
   ],
   "source": [
    "roh[roh['ROH Length']>=gen2].groupby(['Sample','Population'])['Population'].count()"
   ]
  },
  {
   "cell_type": "markdown",
   "metadata": {},
   "source": [
    "### StairwayPlot2\n",
    "Below script was modified from [here](https://github.com/xiaoming-liu/stairway-plot-v2/issues/2)."
   ]
  },
  {
   "cell_type": "code",
   "execution_count": null,
   "metadata": {},
   "outputs": [],
   "source": [
    "au_stairway = pd.read_csv('stairwayplot2/AU_neutral_temp/Australian fairy tern (neutral).final.summary', delimiter='\\t')\n",
    "ti_stairway = pd.read_csv('stairwayplot2/TI_neutral_temp/Tara iti (neutral).final.summary', delimiter='\\t')\n",
    "ki_stairway = pd.read_csv('stairwayplot2/KI_neutral_temp/Kakī (neutral).final.summary', delimiter='\\t')\n",
    "\n",
    "fig, axs = plt.subplots(3, 1, figsize=(20,10), sharex=True, sharey=False)\n",
    "axs[0].step(au_stairway['year'], au_stairway['Ne_median'], where='post', color = 'gold', linewidth=1, label='Australia')\n",
    "axs[0].step(au_stairway['year'], au_stairway['Ne_2.5%'], where='post', color = 'gold', linewidth=1, linestyle='dashed')\n",
    "axs[0].step(au_stairway['year'], au_stairway['Ne_97.5%'], where='post', color = 'gold', linewidth=1, linestyle='dashed')\n",
    "axs[0].set_title('A)', fontsize=20, loc='left')\n",
    "axs[0].set_ylim(0, 100000)\n",
    "\n",
    "axs[1].step(ti_stairway['year'], ti_stairway['Ne_median'], where='post', color = 'steelblue', linewidth=1, label='Tara iti')\n",
    "axs[1].step(ti_stairway['year'], ti_stairway['Ne_2.5%'], where='post', color = 'steelblue', linewidth=1, linestyle='dashed')\n",
    "axs[1].step(ti_stairway['year'], ti_stairway['Ne_97.5%'], where='post', color = 'steelblue', linewidth=1, linestyle='dashed')\n",
    "axs[1].set_title('B)', fontsize=20, loc='left')\n",
    "axs[1].set_ylim(0, 12500)\n",
    "\n",
    "axs[2].step(ki_stairway['year'], ki_stairway['Ne_median'], where='post', color = 'black', linewidth=1, label='Kakī')\n",
    "axs[2].step(ki_stairway['year'], ki_stairway['Ne_2.5%'], where='post', color = 'black', linewidth=1, linestyle='dashed')\n",
    "axs[2].step(ki_stairway['year'], ki_stairway['Ne_97.5%'], where='post', color = 'black', linewidth=1, linestyle='dashed')\n",
    "axs[2].set_title('C)', fontsize=20, loc='left')\n",
    "axs[2].set_ylim(0, 25000)\n",
    "\n",
    "plt.xlim(0, 800)\n",
    "\n",
    "plt.xlabel('Years Before Present', fontsize=14)\n",
    "plt.ylabel('Effective Population Size', fontsize=14)\n",
    "#plt.xticks(x_ticks, x_labels, fontsize=10)\n",
    "#plt.yticks(y_ticks, y_labels, fontsize=10)\n",
    "\n",
    "plt.savefig('plots/fairy_Ne_plot2.png', dpi=300, bbox_inches='tight')"
   ]
  },
  {
   "cell_type": "code",
   "execution_count": null,
   "metadata": {},
   "outputs": [],
   "source": [
    "au_stairway.tail()"
   ]
  },
  {
   "cell_type": "code",
   "execution_count": null,
   "metadata": {},
   "outputs": [],
   "source": [
    "au_hgone = pd.read_csv('GONE/Haldane_Correction/AU_neutral_run1_test/Output_Ne_AU_neutral_test', sep='\\t')\n",
    "ki_hgone = pd.read_csv('GONE/Haldane_Correction/KI_neutral_run1/Output_Ne_KI_neutral', sep='\\t')\n",
    "ti_hgone = pd.read_csv('GONE/Haldane_Correction/TI_neutral_run1_test/Output_Ne_TI_neutral_test', sep='\\t')\n",
    "\n",
    "au_kgone = pd.read_csv('GONE/Kosambi_Correction/AU_neutral_run1/Output_Ne_AU_neutral_test', sep='\\t')\n",
    "ki_kgone = pd.read_csv('GONE/Kosambi_Correction/KI_neutral_run1/Output_Ne_KI_neutral', sep='\\t')\n",
    "ti_kgone = pd.read_csv('GONE/Kosambi_Correction/TI_neutral_run1/Output_Ne_TI_neutral_test', sep='\\t')\n",
    "\n",
    "ki_h_parents = pd.read_csv('GONE/Haldane_Correction/KI_neutral_parents/Output_Ne_KI_parents_neutral', sep='\\t')\n",
    "\n",
    "# Filter to within the last 100 generations as this is the noly period the method is confident in\n",
    "au_hgone = au_hgone[au_hgone['Generation']<=100]\n",
    "ki_hgone = ki_hgone[ki_hgone['Generation']<=100]\n",
    "ti_hgone = ti_hgone[ti_hgone['Generation']<=100]\n",
    "\n",
    "au_kgone = au_kgone[au_kgone['Generation']<=100]\n",
    "ki_kgone = ki_kgone[ki_kgone['Generation']<=100]\n",
    "ti_kgone = ti_kgone[ti_kgone['Generation']<=100]\n",
    "\n",
    "ki_h_parents = ki_h_parents[ki_h_parents['Generation']<=100]\n",
    "ki_h_parents['Year'] = ki_h_parents['Generation'] * 6\n",
    "\n",
    "au_hgone['Population'] = 'AU'\n",
    "ki_hgone['Population'] = 'KI'\n",
    "ti_hgone['Population'] = 'TI'\n",
    "\n",
    "au_hgone['Year'] = au_hgone['Generation'] * 6\n",
    "ki_hgone['Year'] = ki_hgone['Generation'] * 6\n",
    "ti_hgone['Year'] = ti_hgone['Generation'] * 6\n",
    "\n",
    "au_kgone['Population'] = 'AU'\n",
    "ki_kgone['Population'] = 'KI'\n",
    "ti_kgone['Population'] = 'TI'\n",
    "\n",
    "ki_h_parents['Population'] = 'KI'\n",
    "\n",
    "au_hgone.head()"
   ]
  },
  {
   "cell_type": "code",
   "execution_count": null,
   "metadata": {},
   "outputs": [],
   "source": [
    "sns.lineplot(ti_hgone, x='Year', y='Geometric_mean')\n",
    "sns.lineplot(ki_hgone, x='Year', y='Geometric_mean')\n",
    "sns.lineplot(ki_h_parents, x='Year', y='Geometric_mean', color='black')"
   ]
  },
  {
   "cell_type": "code",
   "execution_count": null,
   "metadata": {},
   "outputs": [],
   "source": [
    "sns.lineplot(ti_hgone[ti_hgone['Generation']>10], x='Year', y='Geometric_mean')\n",
    "sns.lineplot(ki_hgone[ki_hgone['Generation']>10], x='Year', y='Geometric_mean')\n",
    "sns.lineplot(ki_h_parents[ki_h_parents['Generation']>10], x='Year', y='Geometric_mean', color='black')"
   ]
  },
  {
   "cell_type": "code",
   "execution_count": null,
   "metadata": {},
   "outputs": [],
   "source": [
    "sns.lineplot(au_hgone[au_hgone['Generation']>10], x='Year', y='Geometric_mean', color='gold')"
   ]
  },
  {
   "cell_type": "markdown",
   "metadata": {},
   "source": [
    "## Artificailly constructing a GENEPOP file"
   ]
  },
  {
   "cell_type": "raw",
   "metadata": {
    "vscode": {
     "languageId": "raw"
    }
   },
   "source": [
    "bcftools query -s TI99 -f '%CHROM:%POS\\n' angsd/samtools/genotypes/TI_genos.bcf | tr '\\n' '\\t' > TI_whole-genome.genpop\n",
    "\n",
    "while read -r line\n",
    "    do\n",
    "    echo $line\n",
    "    bcftools query -s $line -f '[%GT]\\n' samtools/genotypes/TI_genos.bcf | tr '\\n' '\\t' | sed 's%0/0%0000%g' | sed 's%0/1%0001%g' | sed 's%1/1%0101%g' >> TI_whole-genome.genpop\n",
    "done < TI_relatedness_IDs.txt"
   ]
  }
 ],
 "metadata": {
  "kernelspec": {
   "display_name": "Python 3",
   "language": "python",
   "name": "python3"
  },
  "language_info": {
   "codemirror_mode": {
    "name": "ipython",
    "version": 3
   },
   "file_extension": ".py",
   "mimetype": "text/x-python",
   "name": "python",
   "nbconvert_exporter": "python",
   "pygments_lexer": "ipython3",
   "version": "3.9.18"
  }
 },
 "nbformat": 4,
 "nbformat_minor": 2
}
