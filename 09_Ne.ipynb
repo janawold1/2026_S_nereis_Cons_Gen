{
 "cells": [
  {
   "cell_type": "markdown",
   "metadata": {},
   "source": [
    "## Population Demography\n",
    "### ROH length and estimates of recent N<sub>e</sub>\n",
    "The below code and method was adapted from [Humble et al. (2023)](http://doi.org/10.1073/pnas.2210756120) to estimate recent trends in N<sub>e</sub> with runs of homozygosity (ROH). The original code from this paper is available [here](https://github.com/ehumble/SHO_roh_load_2022/tree/master).  \n",
    "\n",
    " First, we load the relevant packages.  "
   ]
  },
  {
   "cell_type": "code",
   "execution_count": 1,
   "metadata": {},
   "outputs": [
    {
     "name": "stdout",
     "output_type": "stream",
     "text": [
      "/nesi/nobackup/uc03718\n"
     ]
    }
   ],
   "source": [
    "import os\n",
    "import pandas as pd\n",
    "import numpy as np\n",
    "import seaborn as sns\n",
    "from matplotlib.legend_handler import HandlerTuple\n",
    "import matplotlib.pyplot as plt\n",
    "\n",
    "path = '/nesi/nobackup/uc03718/'\n",
    "os.chdir(path)\n",
    "print(os.getcwd())"
   ]
  },
  {
   "cell_type": "markdown",
   "metadata": {},
   "source": [
    "The formula below summarised by Humble et al from [Thompson (2013)](https://doi.org/10.1534/genetics.112.148825) was used to divide ROHs into seven length classes (*L*) corresponding to <2, 2-4, 4-8, 8-16, 16-32, 32-64, and 64-128 generations (*g*) ago:\n",
    "$$\n",
    "L = \\frac{100}{2 * g}\n",
    "$$\n",
    "\n",
    "Essentially, this equation is assuming that a time of depth of *g* should result in double the number of meioses events (*m*). Given that a linkage map was unavailable for their study species, Humble et al assumed a recombination rate of 1 cM/Mb. However, recombination rate is generally higher than this estimate and has been shown to be heterogenous within and between avian lineages and even within and between chromosomes ([Nam et al. (2010)](https://doi.org/10.1186/gb-2010-11-6-r68)). To get an understanding of the broad patterns of N<sub>e</sub>, we estimated N<sub>e</sub> using a mean recombination rate of 2.8 cM/Mb as a middle road of recombination rates observed in [Backström et al. (2010)](http://doi.org/10.1101/gr.101410.109) and [Smeds et al. (2016)](http://doi.org/10.1371/journal.pgen.1006044) and as it was estimated in the chicken (*Gallus gallus*).\n",
    "$$\n",
    "L = \\frac{100}{2.8(2 * g)}\n",
    "$$\n",
    "\n",
    "Using the lengths calculated here, we estimated N<sub>e</sub> for each *g*. Here, *F<sub>ROH, t</sub>* represents average population inbreeding coefficient for the maximum numbers of generations (*t*) in the time periods corresponding for each of the seven size classes above.  \n",
    "$$\n",
    "F_{ROH, t} = 1 - (1 - \\frac{1}{2 * N_{e}})^t\n",
    "$$\n",
    "\n",
    "We then define the function `inb_ne()` to estimate N<sub>e</sub> using the mean *F<sub>ROH</sub>* for each *L*.  \n",
    "$$\n",
    "N_{e} = \\frac{1}{2 * (1 - f_{ROH})^\\frac{1}{L}}\n",
    "$$\n",
    "\n",
    "Below we also define a function (`bootstrap_Ne()`) for bootstrapping with replacement for each N<sub>e</sub> estimate."
   ]
  },
  {
   "cell_type": "code",
   "execution_count": 2,
   "metadata": {},
   "outputs": [],
   "source": [
    "def inb_ne(mean_froh, class_):\n",
    "    Ne = 1 / (2 * (1 - ((1 - mean_froh) ** (1 / class_))))\n",
    "    return Ne\n",
    "\n",
    "#def bootstrap_Ne(iter, df, frac):\n",
    "#    sampled_df = (df\n",
    "#                  .groupby(['Generation Class', 'Population'], group_keys=False)\n",
    "#                  .apply(lambda x: x.sample(frac=frac, replace=True), include_groups=False)\n",
    "#                  .groupby(['Generation Class', 'Population'], as_index=False)\n",
    "#                  .agg(mean_froh = ('fROH', 'mean'))\n",
    "#                  .assign(Ne = lambda x: inb_ne(x['mean_froh'], x['Generation Class']))\n",
    "#                  )\n",
    "#    return sampled_df\n",
    "\n",
    "def bootstrap_Ne(iter, df, frac):\n",
    "    # Ensure we have the required columns\n",
    "    required_cols = ['Generation Class', 'Population', 'fROH']\n",
    "    if not all(col in df.columns for col in required_cols):\n",
    "        raise ValueError(f\"Missing required columns. Available: {df.columns.tolist()}\")\n",
    "    \n",
    "    # Sample within each group and preserve all columns\n",
    "    sampled_groups = []\n",
    "    for (gen_class, pop), group in df.groupby(['Generation Class', 'Population']):\n",
    "        sampled_group = group.sample(frac=frac, replace=True)\n",
    "        sampled_groups.append(sampled_group)\n",
    "    \n",
    "    sampled_df = pd.concat(sampled_groups, ignore_index=True)\n",
    "    \n",
    "    # Now aggregate\n",
    "    result = (sampled_df\n",
    "              .groupby(['Generation Class', 'Population'], as_index=False)\n",
    "              .agg(mean_froh = ('fROH', 'mean'))\n",
    "              .assign(Ne = lambda x: inb_ne(x['mean_froh'], x['Generation Class']))\n",
    "              )\n",
    "    \n",
    "    return result"
   ]
  },
  {
   "cell_type": "markdown",
   "metadata": {},
   "source": [
    "To estimate N<sub>e</sub> for each of the seven *L* defined above, we us the `ROHs.tsv` file. This time, we convert ROH sizes estimated by ROHAN to megabases (defined as `ROH Size in Mb` in the df below), assign the relevant Generation Class (*g*) for each *L* (defined as `length_class`) and find the *F<sub>ROH</sub>* for each ROH in each individual by dividing `ROH Size in Mb` by the estimated size of autosomal chromosomes for the tara iti and kakī reference genomes (in Mb).\n",
    "\n",
    "Given the influence relatedness among individuals may have on estimates of contemporary N<sub>e</sub>, we excluded all offspring in kakī parental/offspring trios in our data set. We found did not observe obvious differences in our N<sub>e</sub> estimates from parents only vs the entire dataset.  "
   ]
  },
  {
   "cell_type": "code",
   "execution_count": 3,
   "metadata": {},
   "outputs": [
    {
     "data": {
      "text/html": [
       "<div>\n",
       "<style scoped>\n",
       "    .dataframe tbody tr th:only-of-type {\n",
       "        vertical-align: middle;\n",
       "    }\n",
       "\n",
       "    .dataframe tbody tr th {\n",
       "        vertical-align: top;\n",
       "    }\n",
       "\n",
       "    .dataframe thead th {\n",
       "        text-align: right;\n",
       "    }\n",
       "</style>\n",
       "<table border=\"1\" class=\"dataframe\">\n",
       "  <thead>\n",
       "    <tr style=\"text-align: right;\">\n",
       "      <th></th>\n",
       "      <th>Sample</th>\n",
       "      <th>Population</th>\n",
       "      <th>Generation Class</th>\n",
       "      <th>length_class</th>\n",
       "      <th>fROH</th>\n",
       "    </tr>\n",
       "  </thead>\n",
       "  <tbody>\n",
       "    <tr>\n",
       "      <th>0</th>\n",
       "      <td>AU01</td>\n",
       "      <td>AU</td>\n",
       "      <td>8.0</td>\n",
       "      <td>2.2321-4.4643</td>\n",
       "      <td>0.002985</td>\n",
       "    </tr>\n",
       "    <tr>\n",
       "      <th>1</th>\n",
       "      <td>AU01</td>\n",
       "      <td>AU</td>\n",
       "      <td>16.0</td>\n",
       "      <td>1.1161-2.2321</td>\n",
       "      <td>0.006796</td>\n",
       "    </tr>\n",
       "    <tr>\n",
       "      <th>2</th>\n",
       "      <td>AU01</td>\n",
       "      <td>AU</td>\n",
       "      <td>32.0</td>\n",
       "      <td>0.5580-1.1161</td>\n",
       "      <td>0.011205</td>\n",
       "    </tr>\n",
       "    <tr>\n",
       "      <th>3</th>\n",
       "      <td>AU01</td>\n",
       "      <td>AU</td>\n",
       "      <td>64.0</td>\n",
       "      <td>0.2790-0.5580</td>\n",
       "      <td>0.021400</td>\n",
       "    </tr>\n",
       "    <tr>\n",
       "      <th>4</th>\n",
       "      <td>AU01</td>\n",
       "      <td>AU</td>\n",
       "      <td>128.0</td>\n",
       "      <td>0.1395-0.2790</td>\n",
       "      <td>0.032054</td>\n",
       "    </tr>\n",
       "  </tbody>\n",
       "</table>\n",
       "</div>"
      ],
      "text/plain": [
       "  Sample Population  Generation Class   length_class      fROH\n",
       "0   AU01         AU               8.0  2.2321-4.4643  0.002985\n",
       "1   AU01         AU              16.0  1.1161-2.2321  0.006796\n",
       "2   AU01         AU              32.0  0.5580-1.1161  0.011205\n",
       "3   AU01         AU              64.0  0.2790-0.5580  0.021400\n",
       "4   AU01         AU             128.0  0.1395-0.2790  0.032054"
      ]
     },
     "execution_count": 3,
     "metadata": {},
     "output_type": "execute_result"
    }
   ],
   "source": [
    "roh = pd.read_csv('rohan/ROHs.tsv', delimiter='\\t')\n",
    "\n",
    "excluded_samples = [\n",
    "    'TI89', 'TI52', 'TI62', 'TI64',\n",
    "    'TI65', 'TI66', 'TI70', 'TI82',\n",
    "    'TI83', 'TI86', 'TI87', 'TI90', \n",
    "    'TI94', 'TI98', 'TI100', 'TI102' \n",
    "    ]\n",
    "\n",
    "roh = roh[~roh['Sample'].isin(excluded_samples)]\n",
    "\n",
    "roh['ROH Size in Mb'] = roh['ROH Length'] / 1000000\n",
    "\n",
    "recomb = roh\n",
    "recomb['Generation Class'] = np.select(\n",
    "    [\n",
    "        recomb['ROH Size in Mb'] >= 17.8571,\n",
    "        (recomb['ROH Size in Mb'] < 17.8571) & (recomb['ROH Size in Mb'] >= 4.4643),\n",
    "        (recomb['ROH Size in Mb'] < 4.4643) & (recomb['ROH Size in Mb'] >= 2.2321),\n",
    "        (recomb['ROH Size in Mb'] < 2.2321) & (recomb['ROH Size in Mb'] >= 1.1161),\n",
    "        (recomb['ROH Size in Mb'] < 1.1161) & (recomb['ROH Size in Mb'] >= 0.5580),\n",
    "        (recomb['ROH Size in Mb'] < 0.5580) & (recomb['ROH Size in Mb'] >= 0.2790),\n",
    "        (recomb['ROH Size in Mb'] < 0.2790) & (recomb['ROH Size in Mb'] >= 0.1395),\n",
    "    ],\n",
    "    [2, 4, 8, 16, 32, 64, 128],\n",
    "    default=np.nan\n",
    ")\n",
    "\n",
    "recomb['length_class'] = recomb['Generation Class'].map({\n",
    "    2: \">17.8571\",\n",
    "    4: \"4.4643-17.8571\",\n",
    "    8: \"2.2321-4.4643\",\n",
    "    16: \"1.1161-2.2321\",\n",
    "    32: \"0.5580-1.1161\",\n",
    "    64: \"0.2790-0.5580\",\n",
    "    128: \"0.1395-0.2790\"\n",
    "})\n",
    "\n",
    "fairy_recomb = recomb[(recomb['Population']!='KI') & (recomb['Population']!='KI_10x') & (recomb['ROH Size in Mb']>=0.1395)]\n",
    "#kakiLC_recomb = recomb[(recomb['Population']=='KI_10x') & (recomb['ROH Size in Mb']>=0.1395)]\n",
    "#kakiLC_recomb = kakiLC_recomb[kakiLC_recomb['Sample'].isin(['H01383', 'H01384', 'H01385', 'H01386', 'H01387', 'H01388', 'H01389', 'H01390', 'H01391', 'H01392', 'H01393', 'H01394'])]\n",
    "kaki_recomb = recomb[(recomb['Population']=='KI') & (recomb['ROH Size in Mb']>=0.1395)]\n",
    "kaki_recomb = kaki_recomb[kaki_recomb['Sample'].isin(['H01383', 'H01384', 'H01385', 'H01386', 'H01387', 'H01388', 'H01389', 'H01390', 'H01391', 'H01392', 'H01393', 'H01394'])]\n",
    "\n",
    "fairy = (fairy_recomb\n",
    "    .groupby(['Sample', 'Population', 'Generation Class', 'length_class'], as_index=False, dropna=False)\n",
    "    .agg(fROH=('ROH Size in Mb', lambda x: sum((x / 1088.797119))))\n",
    "    )\n",
    "\n",
    "kaki = (kaki_recomb\n",
    "    .groupby(['Sample', 'Population', 'Generation Class', 'length_class'], as_index=False, dropna=False)\n",
    "    .agg(fROH=('ROH Size in Mb', lambda x: sum((x / 1095.624494))))\n",
    "    )\n",
    "\n",
    "#kakiLC = (kakiLC_recomb\n",
    "#    .groupby(['Sample', 'Population', 'Generation Class', 'length_class'], as_index=False, dropna=False)\n",
    "#    .agg(fROH=('ROH Size in Mb', lambda x: sum((x / 1095.624494))))\n",
    "#    )\n",
    "\n",
    "fairy.head()"
   ]
  },
  {
   "cell_type": "markdown",
   "metadata": {},
   "source": []
  },
  {
   "cell_type": "code",
   "execution_count": 4,
   "metadata": {},
   "outputs": [],
   "source": [
    "iterations = 100\n",
    "kiresults = [bootstrap_Ne(i, kaki, 0.5) for i in range(iterations)]\n",
    "#kiLCresults = [bootstrap_Ne(i, kakiLC, 0.5) for i in range(iterations)]\n",
    "ftresults = [bootstrap_Ne(i, fairy, 0.5) for i in range(iterations)]\n",
    "\n",
    "kiuncert = (pd.concat(kiresults, keys=range(iterations), names=['iter'])\n",
    "                .reset_index(level='iter'))\n",
    "\n",
    "#kiLCuncert = (pd.concat(kiLCresults, keys=range(iterations), names=['iter'])\n",
    "#                .reset_index(level='iter'))\n",
    "\n",
    "ftuncert = (pd.concat(ftresults, keys=range(iterations), names=['iter'])\n",
    "                .reset_index(level='iter'))\n",
    "\n",
    "uncertainty = pd.concat([ftuncert, kiuncert], axis=0, ignore_index=True)"
   ]
  },
  {
   "cell_type": "markdown",
   "metadata": {},
   "source": []
  },
  {
   "cell_type": "code",
   "execution_count": 5,
   "metadata": {},
   "outputs": [
    {
     "name": "stdout",
     "output_type": "stream",
     "text": [
      "Generation Class  Population\n",
      "2.0               NZ               9.151465\n",
      "4.0               AU             176.288407\n",
      "                  KI              26.420556\n",
      "                  NZ               7.517468\n",
      "8.0               AU             542.646140\n",
      "                  KI              80.948388\n",
      "                  NZ              41.692423\n",
      "16.0              AU             902.159549\n",
      "                  KI              99.781377\n",
      "                  NZ             105.143577\n",
      "32.0              AU            1322.062419\n",
      "                  KI             159.546909\n",
      "                  NZ             199.539494\n",
      "64.0              AU            1592.018638\n",
      "                  KI             236.148808\n",
      "                  NZ             383.079954\n",
      "128.0             AU            2153.197008\n",
      "                  KI             615.904331\n",
      "                  NZ            1104.206977\n",
      "Name: Ne, dtype: float64\n"
     ]
    }
   ],
   "source": [
    "print(uncertainty.groupby(['Generation Class', 'Population'])['Ne'].min())"
   ]
  },
  {
   "cell_type": "markdown",
   "metadata": {},
   "source": []
  },
  {
   "cell_type": "code",
   "execution_count": 6,
   "metadata": {},
   "outputs": [
    {
     "name": "stderr",
     "output_type": "stream",
     "text": [
      "/tmp/ipykernel_18539/1337689962.py:9: FutureWarning: DataFrameGroupBy.apply operated on the grouping columns. This behavior is deprecated, and in a future version of pandas the grouping columns will be excluded from the operation. Either pass `include_groups=False` to exclude the groupings or explicitly select the grouping columns after groupby to silence this warning.\n",
      "  Ne = uncertainty.groupby(['Generation Class', 'Population']).apply(calculate_SE).reset_index(drop=True)\n"
     ]
    },
    {
     "data": {
      "text/html": [
       "<div>\n",
       "<style scoped>\n",
       "    .dataframe tbody tr th:only-of-type {\n",
       "        vertical-align: middle;\n",
       "    }\n",
       "\n",
       "    .dataframe tbody tr th {\n",
       "        vertical-align: top;\n",
       "    }\n",
       "\n",
       "    .dataframe thead th {\n",
       "        text-align: right;\n",
       "    }\n",
       "</style>\n",
       "<table border=\"1\" class=\"dataframe\">\n",
       "  <thead>\n",
       "    <tr style=\"text-align: right;\">\n",
       "      <th></th>\n",
       "      <th>Generation Class</th>\n",
       "      <th>Population</th>\n",
       "      <th>SD</th>\n",
       "      <th>SE</th>\n",
       "      <th>Ne</th>\n",
       "    </tr>\n",
       "  </thead>\n",
       "  <tbody>\n",
       "    <tr>\n",
       "      <th>0</th>\n",
       "      <td>2.0</td>\n",
       "      <td>NZ</td>\n",
       "      <td>1.529724</td>\n",
       "      <td>0.152972</td>\n",
       "      <td>11.541705</td>\n",
       "    </tr>\n",
       "    <tr>\n",
       "      <th>1</th>\n",
       "      <td>4.0</td>\n",
       "      <td>AU</td>\n",
       "      <td>108.761626</td>\n",
       "      <td>10.876163</td>\n",
       "      <td>337.685359</td>\n",
       "    </tr>\n",
       "    <tr>\n",
       "      <th>2</th>\n",
       "      <td>4.0</td>\n",
       "      <td>KI</td>\n",
       "      <td>32.503360</td>\n",
       "      <td>3.250336</td>\n",
       "      <td>72.931795</td>\n",
       "    </tr>\n",
       "    <tr>\n",
       "      <th>3</th>\n",
       "      <td>4.0</td>\n",
       "      <td>NZ</td>\n",
       "      <td>0.440166</td>\n",
       "      <td>0.044017</td>\n",
       "      <td>8.265273</td>\n",
       "    </tr>\n",
       "    <tr>\n",
       "      <th>4</th>\n",
       "      <td>8.0</td>\n",
       "      <td>AU</td>\n",
       "      <td>192.894795</td>\n",
       "      <td>19.289479</td>\n",
       "      <td>899.141241</td>\n",
       "    </tr>\n",
       "    <tr>\n",
       "      <th>5</th>\n",
       "      <td>8.0</td>\n",
       "      <td>KI</td>\n",
       "      <td>35.072660</td>\n",
       "      <td>3.507266</td>\n",
       "      <td>132.858001</td>\n",
       "    </tr>\n",
       "    <tr>\n",
       "      <th>6</th>\n",
       "      <td>8.0</td>\n",
       "      <td>NZ</td>\n",
       "      <td>2.321270</td>\n",
       "      <td>0.232127</td>\n",
       "      <td>46.504936</td>\n",
       "    </tr>\n",
       "    <tr>\n",
       "      <th>7</th>\n",
       "      <td>16.0</td>\n",
       "      <td>AU</td>\n",
       "      <td>258.596787</td>\n",
       "      <td>25.859679</td>\n",
       "      <td>1438.399836</td>\n",
       "    </tr>\n",
       "    <tr>\n",
       "      <th>8</th>\n",
       "      <td>16.0</td>\n",
       "      <td>KI</td>\n",
       "      <td>22.558896</td>\n",
       "      <td>2.255890</td>\n",
       "      <td>140.566843</td>\n",
       "    </tr>\n",
       "    <tr>\n",
       "      <th>9</th>\n",
       "      <td>16.0</td>\n",
       "      <td>NZ</td>\n",
       "      <td>4.944930</td>\n",
       "      <td>0.494493</td>\n",
       "      <td>117.124381</td>\n",
       "    </tr>\n",
       "    <tr>\n",
       "      <th>10</th>\n",
       "      <td>32.0</td>\n",
       "      <td>AU</td>\n",
       "      <td>128.231302</td>\n",
       "      <td>12.823130</td>\n",
       "      <td>1626.712761</td>\n",
       "    </tr>\n",
       "    <tr>\n",
       "      <th>11</th>\n",
       "      <td>32.0</td>\n",
       "      <td>KI</td>\n",
       "      <td>23.936762</td>\n",
       "      <td>2.393676</td>\n",
       "      <td>205.836015</td>\n",
       "    </tr>\n",
       "    <tr>\n",
       "      <th>12</th>\n",
       "      <td>32.0</td>\n",
       "      <td>NZ</td>\n",
       "      <td>6.842897</td>\n",
       "      <td>0.684290</td>\n",
       "      <td>217.892380</td>\n",
       "    </tr>\n",
       "    <tr>\n",
       "      <th>13</th>\n",
       "      <td>64.0</td>\n",
       "      <td>AU</td>\n",
       "      <td>77.097767</td>\n",
       "      <td>7.709777</td>\n",
       "      <td>1724.477542</td>\n",
       "    </tr>\n",
       "    <tr>\n",
       "      <th>14</th>\n",
       "      <td>64.0</td>\n",
       "      <td>KI</td>\n",
       "      <td>27.804517</td>\n",
       "      <td>2.780452</td>\n",
       "      <td>293.969959</td>\n",
       "    </tr>\n",
       "    <tr>\n",
       "      <th>15</th>\n",
       "      <td>64.0</td>\n",
       "      <td>NZ</td>\n",
       "      <td>14.830277</td>\n",
       "      <td>1.483028</td>\n",
       "      <td>417.721807</td>\n",
       "    </tr>\n",
       "    <tr>\n",
       "      <th>16</th>\n",
       "      <td>128.0</td>\n",
       "      <td>AU</td>\n",
       "      <td>69.256731</td>\n",
       "      <td>6.925673</td>\n",
       "      <td>2300.491431</td>\n",
       "    </tr>\n",
       "    <tr>\n",
       "      <th>17</th>\n",
       "      <td>128.0</td>\n",
       "      <td>KI</td>\n",
       "      <td>29.949145</td>\n",
       "      <td>2.994915</td>\n",
       "      <td>692.668922</td>\n",
       "    </tr>\n",
       "    <tr>\n",
       "      <th>18</th>\n",
       "      <td>128.0</td>\n",
       "      <td>NZ</td>\n",
       "      <td>34.887427</td>\n",
       "      <td>3.488743</td>\n",
       "      <td>1189.835973</td>\n",
       "    </tr>\n",
       "  </tbody>\n",
       "</table>\n",
       "</div>"
      ],
      "text/plain": [
       "    Generation Class Population          SD         SE           Ne\n",
       "0                2.0         NZ    1.529724   0.152972    11.541705\n",
       "1                4.0         AU  108.761626  10.876163   337.685359\n",
       "2                4.0         KI   32.503360   3.250336    72.931795\n",
       "3                4.0         NZ    0.440166   0.044017     8.265273\n",
       "4                8.0         AU  192.894795  19.289479   899.141241\n",
       "5                8.0         KI   35.072660   3.507266   132.858001\n",
       "6                8.0         NZ    2.321270   0.232127    46.504936\n",
       "7               16.0         AU  258.596787  25.859679  1438.399836\n",
       "8               16.0         KI   22.558896   2.255890   140.566843\n",
       "9               16.0         NZ    4.944930   0.494493   117.124381\n",
       "10              32.0         AU  128.231302  12.823130  1626.712761\n",
       "11              32.0         KI   23.936762   2.393676   205.836015\n",
       "12              32.0         NZ    6.842897   0.684290   217.892380\n",
       "13              64.0         AU   77.097767   7.709777  1724.477542\n",
       "14              64.0         KI   27.804517   2.780452   293.969959\n",
       "15              64.0         NZ   14.830277   1.483028   417.721807\n",
       "16             128.0         AU   69.256731   6.925673  2300.491431\n",
       "17             128.0         KI   29.949145   2.994915   692.668922\n",
       "18             128.0         NZ   34.887427   3.488743  1189.835973"
      ]
     },
     "execution_count": 6,
     "metadata": {},
     "output_type": "execute_result"
    }
   ],
   "source": [
    "def calculate_SE(group):\n",
    "    std_dev = group['Ne'].std()\n",
    "    count = group['Ne'].count()\n",
    "    standard_error = std_dev / np.sqrt(count)\n",
    "    group['SE'] = standard_error\n",
    "    group['SD'] = std_dev\n",
    "    return group\n",
    "\n",
    "Ne = uncertainty.groupby(['Generation Class', 'Population']).apply(calculate_SE).reset_index(drop=True)\n",
    "Ne = Ne.groupby(['Generation Class', 'Population', 'SD', 'SE'])['Ne'].mean().reset_index()\n",
    "Ne.head(n=20)"
   ]
  },
  {
   "cell_type": "markdown",
   "metadata": {},
   "source": []
  },
  {
   "cell_type": "code",
   "execution_count": 7,
   "metadata": {},
   "outputs": [
    {
     "name": "stderr",
     "output_type": "stream",
     "text": [
      "/tmp/ipykernel_18539/1623980999.py:20: UserWarning: set_ticklabels() should only be used with a fixed number of ticks, i.e. after set_ticks() or using a FixedLocator.\n",
      "  ax.set_xticklabels(['2-4', '4-8', '8-16', '16-32', '32-64', '64-128'])\n"
     ]
    },
    {
     "data": {
      "text/plain": [
       "Text(0, 0.5, '$N_{e}$')"
      ]
     },
     "execution_count": 7,
     "metadata": {},
     "output_type": "execute_result"
    },
    {
     "name": "stderr",
     "output_type": "stream",
     "text": [
      "findfont: Font family ['STIXGeneral'] not found. Falling back to DejaVu Sans.\n",
      "findfont: Font family ['STIXGeneral'] not found. Falling back to DejaVu Sans.\n",
      "findfont: Font family ['STIXGeneral'] not found. Falling back to DejaVu Sans.\n",
      "findfont: Font family ['STIXGeneral'] not found. Falling back to DejaVu Sans.\n",
      "findfont: Font family ['STIXNonUnicode'] not found. Falling back to DejaVu Sans.\n",
      "findfont: Font family ['STIXNonUnicode'] not found. Falling back to DejaVu Sans.\n",
      "findfont: Font family ['STIXNonUnicode'] not found. Falling back to DejaVu Sans.\n",
      "findfont: Font family ['STIXSizeOneSym'] not found. Falling back to DejaVu Sans.\n",
      "findfont: Font family ['STIXSizeTwoSym'] not found. Falling back to DejaVu Sans.\n",
      "findfont: Font family ['STIXSizeThreeSym'] not found. Falling back to DejaVu Sans.\n",
      "findfont: Font family ['STIXSizeFourSym'] not found. Falling back to DejaVu Sans.\n",
      "findfont: Font family ['STIXSizeFiveSym'] not found. Falling back to DejaVu Sans.\n",
      "findfont: Font family ['cmsy10'] not found. Falling back to DejaVu Sans.\n",
      "findfont: Font family ['cmr10'] not found. Falling back to DejaVu Sans.\n",
      "findfont: Font family ['cmtt10'] not found. Falling back to DejaVu Sans.\n",
      "findfont: Font family ['cmmi10'] not found. Falling back to DejaVu Sans.\n",
      "findfont: Font family ['cmb10'] not found. Falling back to DejaVu Sans.\n",
      "findfont: Font family ['cmss10'] not found. Falling back to DejaVu Sans.\n",
      "findfont: Font family ['cmex10'] not found. Falling back to DejaVu Sans.\n",
      "findfont: Font family ['DejaVu Sans Display'] not found. Falling back to DejaVu Sans.\n"
     ]
    },
    {
     "data": {
      "image/png": "[encoded data removed]",
      "text/plain": [
       "<Figure size 1500x500 with 1 Axes>"
      ]
     },
     "metadata": {},
     "output_type": "display_data"
    }
   ],
   "source": [
    "#palette = ['gold', 'steelblue', 'grey', 'black']\n",
    "palette = ['gold', 'steelblue', 'black']\n",
    "#order = ['AU', 'TI', 'KI_10x', 'KI']\n",
    "order = ['AU', 'NZ', 'KI']\n",
    "#labels = ['AFT', 'TI', 'KĪ low', 'KĪ high']\n",
    "labels = ['AFT', 'TI', 'KĪ']\n",
    "\n",
    "plt.figure(figsize=(15, 5))\n",
    "ax = sns.pointplot(data=uncertainty, x='Generation Class', y='Ne', dodge=True, hue='Population', hue_order=order,\n",
    "                palette=palette, errorbar='sd', capsize=0.05, n_boot=100, estimator='mean', markers='o', linestyles='none')\n",
    "handles, labels = ax.get_legend_handles_labels()\n",
    "ax.legend(handles=handles,\n",
    "        labels=labels,\n",
    "        loc='upper left', handlelength=4,\n",
    "        handler_map={tuple: HandlerTuple(ndivide=None)})\n",
    "\n",
    "params = {'mathtext.default': 'regular' }\n",
    "plt.rcParams.update(params)\n",
    "ax.set_title('', loc='left', fontsize=20)\n",
    "ax.set_xticklabels(['2-4', '4-8', '8-16', '16-32', '32-64', '64-128'])\n",
    "ax.set_xlabel('Generations', fontsize=14)\n",
    "ax.set_ylabel('$N_{e}$', fontsize=14)\n",
    "\n",
    "#plt.savefig('plots/ROH_Recomb_Ne_esimtates.png', dpi=300, bbox_inches='tight')"
   ]
  },
  {
   "cell_type": "code",
   "execution_count": 22,
   "metadata": {},
   "outputs": [
    {
     "data": {
      "text/plain": [
       "<Axes: xlabel='Generation Class', ylabel='Ne'>"
      ]
     },
     "execution_count": 22,
     "metadata": {},
     "output_type": "execute_result"
    },
    {
     "data": {
      "image/png": "[encoded data removed]",
      "text/plain": [
       "<Figure size 640x480 with 1 Axes>"
      ]
     },
     "metadata": {},
     "output_type": "display_data"
    }
   ],
   "source": [
    "# Add error bars separately if needed\n",
    "sns.pointplot(data=uncertainty, x='Generation Class', y='Ne', \n",
    "              hue='Population', hue_order=order, palette=palette,\n",
    "              errorbar='sd', capsize=0.05, n_boot=100, estimator='mean',\n",
    "              markers='o', linestyles='none', dodge=True)"
   ]
  },
  {
   "cell_type": "markdown",
   "metadata": {},
   "source": []
  },
  {
   "cell_type": "code",
   "execution_count": 11,
   "metadata": {},
   "outputs": [
    {
     "name": "stderr",
     "output_type": "stream",
     "text": [
      "/tmp/ipykernel_18539/2423073525.py:18: UserWarning: set_ticklabels() should only be used with a fixed number of ticks, i.e. after set_ticks() or using a FixedLocator.\n",
      "  ax.set_xticklabels(['2-4', '4-8', '8-16', '16-32', '32-64'])\n"
     ]
    },
    {
     "ename": "FileNotFoundError",
     "evalue": "[Errno 2] No such file or directory: 'plots/ROH_Recomb_Ne_Subset_esimtates.png'",
     "output_type": "error",
     "traceback": [
      "\u001b[0;31m---------------------------------------------------------------------------\u001b[0m",
      "\u001b[0;31mFileNotFoundError\u001b[0m                         Traceback (most recent call last)",
      "Cell \u001b[0;32mIn[11], line 22\u001b[0m\n\u001b[1;32m     19\u001b[0m ax\u001b[38;5;241m.\u001b[39mset_xlabel(\u001b[38;5;124m'\u001b[39m\u001b[38;5;124mGenerations\u001b[39m\u001b[38;5;124m'\u001b[39m, fontsize\u001b[38;5;241m=\u001b[39m\u001b[38;5;241m14\u001b[39m)\n\u001b[1;32m     20\u001b[0m ax\u001b[38;5;241m.\u001b[39mset_ylabel(\u001b[38;5;124m'\u001b[39m\u001b[38;5;124m$N_\u001b[39m\u001b[38;5;132;01m{e}\u001b[39;00m\u001b[38;5;124m$\u001b[39m\u001b[38;5;124m'\u001b[39m, fontsize\u001b[38;5;241m=\u001b[39m\u001b[38;5;241m14\u001b[39m)\n\u001b[0;32m---> 22\u001b[0m \u001b[43mplt\u001b[49m\u001b[38;5;241;43m.\u001b[39;49m\u001b[43msavefig\u001b[49m\u001b[43m(\u001b[49m\u001b[38;5;124;43m'\u001b[39;49m\u001b[38;5;124;43mplots/ROH_Recomb_Ne_Subset_esimtates.png\u001b[39;49m\u001b[38;5;124;43m'\u001b[39;49m\u001b[43m,\u001b[49m\u001b[43m \u001b[49m\u001b[43mdpi\u001b[49m\u001b[38;5;241;43m=\u001b[39;49m\u001b[38;5;241;43m300\u001b[39;49m\u001b[43m,\u001b[49m\u001b[43m \u001b[49m\u001b[43mbbox_inches\u001b[49m\u001b[38;5;241;43m=\u001b[39;49m\u001b[38;5;124;43m'\u001b[39;49m\u001b[38;5;124;43mtight\u001b[39;49m\u001b[38;5;124;43m'\u001b[39;49m\u001b[43m)\u001b[49m\n",
      "File \u001b[0;32m~/.local/lib/python3.9/site-packages/matplotlib/pyplot.py:1228\u001b[0m, in \u001b[0;36msavefig\u001b[0;34m(*args, **kwargs)\u001b[0m\n\u001b[1;32m   1225\u001b[0m fig \u001b[38;5;241m=\u001b[39m gcf()\n\u001b[1;32m   1226\u001b[0m \u001b[38;5;66;03m# savefig default implementation has no return, so mypy is unhappy\u001b[39;00m\n\u001b[1;32m   1227\u001b[0m \u001b[38;5;66;03m# presumably this is here because subclasses can return?\u001b[39;00m\n\u001b[0;32m-> 1228\u001b[0m res \u001b[38;5;241m=\u001b[39m \u001b[43mfig\u001b[49m\u001b[38;5;241;43m.\u001b[39;49m\u001b[43msavefig\u001b[49m\u001b[43m(\u001b[49m\u001b[38;5;241;43m*\u001b[39;49m\u001b[43margs\u001b[49m\u001b[43m,\u001b[49m\u001b[43m \u001b[49m\u001b[38;5;241;43m*\u001b[39;49m\u001b[38;5;241;43m*\u001b[39;49m\u001b[43mkwargs\u001b[49m\u001b[43m)\u001b[49m  \u001b[38;5;66;03m# type: ignore[func-returns-value]\u001b[39;00m\n\u001b[1;32m   1229\u001b[0m fig\u001b[38;5;241m.\u001b[39mcanvas\u001b[38;5;241m.\u001b[39mdraw_idle()  \u001b[38;5;66;03m# Need this if 'transparent=True', to reset colors.\u001b[39;00m\n\u001b[1;32m   1230\u001b[0m \u001b[38;5;28;01mreturn\u001b[39;00m res\n",
      "File \u001b[0;32m~/.local/lib/python3.9/site-packages/matplotlib/figure.py:3395\u001b[0m, in \u001b[0;36mFigure.savefig\u001b[0;34m(self, fname, transparent, **kwargs)\u001b[0m\n\u001b[1;32m   3393\u001b[0m     \u001b[38;5;28;01mfor\u001b[39;00m ax \u001b[38;5;129;01min\u001b[39;00m \u001b[38;5;28mself\u001b[39m\u001b[38;5;241m.\u001b[39maxes:\n\u001b[1;32m   3394\u001b[0m         _recursively_make_axes_transparent(stack, ax)\n\u001b[0;32m-> 3395\u001b[0m \u001b[38;5;28;43mself\u001b[39;49m\u001b[38;5;241;43m.\u001b[39;49m\u001b[43mcanvas\u001b[49m\u001b[38;5;241;43m.\u001b[39;49m\u001b[43mprint_figure\u001b[49m\u001b[43m(\u001b[49m\u001b[43mfname\u001b[49m\u001b[43m,\u001b[49m\u001b[43m \u001b[49m\u001b[38;5;241;43m*\u001b[39;49m\u001b[38;5;241;43m*\u001b[39;49m\u001b[43mkwargs\u001b[49m\u001b[43m)\u001b[49m\n",
      "File \u001b[0;32m~/.local/lib/python3.9/site-packages/matplotlib/backend_bases.py:2204\u001b[0m, in \u001b[0;36mFigureCanvasBase.print_figure\u001b[0;34m(self, filename, dpi, facecolor, edgecolor, orientation, format, bbox_inches, pad_inches, bbox_extra_artists, backend, **kwargs)\u001b[0m\n\u001b[1;32m   2200\u001b[0m \u001b[38;5;28;01mtry\u001b[39;00m:\n\u001b[1;32m   2201\u001b[0m     \u001b[38;5;66;03m# _get_renderer may change the figure dpi (as vector formats\u001b[39;00m\n\u001b[1;32m   2202\u001b[0m     \u001b[38;5;66;03m# force the figure dpi to 72), so we need to set it again here.\u001b[39;00m\n\u001b[1;32m   2203\u001b[0m     \u001b[38;5;28;01mwith\u001b[39;00m cbook\u001b[38;5;241m.\u001b[39m_setattr_cm(\u001b[38;5;28mself\u001b[39m\u001b[38;5;241m.\u001b[39mfigure, dpi\u001b[38;5;241m=\u001b[39mdpi):\n\u001b[0;32m-> 2204\u001b[0m         result \u001b[38;5;241m=\u001b[39m \u001b[43mprint_method\u001b[49m\u001b[43m(\u001b[49m\n\u001b[1;32m   2205\u001b[0m \u001b[43m            \u001b[49m\u001b[43mfilename\u001b[49m\u001b[43m,\u001b[49m\n\u001b[1;32m   2206\u001b[0m \u001b[43m            \u001b[49m\u001b[43mfacecolor\u001b[49m\u001b[38;5;241;43m=\u001b[39;49m\u001b[43mfacecolor\u001b[49m\u001b[43m,\u001b[49m\n\u001b[1;32m   2207\u001b[0m \u001b[43m            \u001b[49m\u001b[43medgecolor\u001b[49m\u001b[38;5;241;43m=\u001b[39;49m\u001b[43medgecolor\u001b[49m\u001b[43m,\u001b[49m\n\u001b[1;32m   2208\u001b[0m \u001b[43m            \u001b[49m\u001b[43morientation\u001b[49m\u001b[38;5;241;43m=\u001b[39;49m\u001b[43morientation\u001b[49m\u001b[43m,\u001b[49m\n\u001b[1;32m   2209\u001b[0m \u001b[43m            \u001b[49m\u001b[43mbbox_inches_restore\u001b[49m\u001b[38;5;241;43m=\u001b[39;49m\u001b[43m_bbox_inches_restore\u001b[49m\u001b[43m,\u001b[49m\n\u001b[1;32m   2210\u001b[0m \u001b[43m            \u001b[49m\u001b[38;5;241;43m*\u001b[39;49m\u001b[38;5;241;43m*\u001b[39;49m\u001b[43mkwargs\u001b[49m\u001b[43m)\u001b[49m\n\u001b[1;32m   2211\u001b[0m \u001b[38;5;28;01mfinally\u001b[39;00m:\n\u001b[1;32m   2212\u001b[0m     \u001b[38;5;28;01mif\u001b[39;00m bbox_inches \u001b[38;5;129;01mand\u001b[39;00m restore_bbox:\n",
      "File \u001b[0;32m~/.local/lib/python3.9/site-packages/matplotlib/backend_bases.py:2054\u001b[0m, in \u001b[0;36mFigureCanvasBase._switch_canvas_and_return_print_method.<locals>.<lambda>\u001b[0;34m(*args, **kwargs)\u001b[0m\n\u001b[1;32m   2050\u001b[0m     optional_kws \u001b[38;5;241m=\u001b[39m {  \u001b[38;5;66;03m# Passed by print_figure for other renderers.\u001b[39;00m\n\u001b[1;32m   2051\u001b[0m         \u001b[38;5;124m\"\u001b[39m\u001b[38;5;124mdpi\u001b[39m\u001b[38;5;124m\"\u001b[39m, \u001b[38;5;124m\"\u001b[39m\u001b[38;5;124mfacecolor\u001b[39m\u001b[38;5;124m\"\u001b[39m, \u001b[38;5;124m\"\u001b[39m\u001b[38;5;124medgecolor\u001b[39m\u001b[38;5;124m\"\u001b[39m, \u001b[38;5;124m\"\u001b[39m\u001b[38;5;124morientation\u001b[39m\u001b[38;5;124m\"\u001b[39m,\n\u001b[1;32m   2052\u001b[0m         \u001b[38;5;124m\"\u001b[39m\u001b[38;5;124mbbox_inches_restore\u001b[39m\u001b[38;5;124m\"\u001b[39m}\n\u001b[1;32m   2053\u001b[0m     skip \u001b[38;5;241m=\u001b[39m optional_kws \u001b[38;5;241m-\u001b[39m {\u001b[38;5;241m*\u001b[39minspect\u001b[38;5;241m.\u001b[39msignature(meth)\u001b[38;5;241m.\u001b[39mparameters}\n\u001b[0;32m-> 2054\u001b[0m     print_method \u001b[38;5;241m=\u001b[39m functools\u001b[38;5;241m.\u001b[39mwraps(meth)(\u001b[38;5;28;01mlambda\u001b[39;00m \u001b[38;5;241m*\u001b[39margs, \u001b[38;5;241m*\u001b[39m\u001b[38;5;241m*\u001b[39mkwargs: \u001b[43mmeth\u001b[49m\u001b[43m(\u001b[49m\n\u001b[1;32m   2055\u001b[0m \u001b[43m        \u001b[49m\u001b[38;5;241;43m*\u001b[39;49m\u001b[43margs\u001b[49m\u001b[43m,\u001b[49m\u001b[43m \u001b[49m\u001b[38;5;241;43m*\u001b[39;49m\u001b[38;5;241;43m*\u001b[39;49m\u001b[43m{\u001b[49m\u001b[43mk\u001b[49m\u001b[43m:\u001b[49m\u001b[43m \u001b[49m\u001b[43mv\u001b[49m\u001b[43m \u001b[49m\u001b[38;5;28;43;01mfor\u001b[39;49;00m\u001b[43m \u001b[49m\u001b[43mk\u001b[49m\u001b[43m,\u001b[49m\u001b[43m \u001b[49m\u001b[43mv\u001b[49m\u001b[43m \u001b[49m\u001b[38;5;129;43;01min\u001b[39;49;00m\u001b[43m \u001b[49m\u001b[43mkwargs\u001b[49m\u001b[38;5;241;43m.\u001b[39;49m\u001b[43mitems\u001b[49m\u001b[43m(\u001b[49m\u001b[43m)\u001b[49m\u001b[43m \u001b[49m\u001b[38;5;28;43;01mif\u001b[39;49;00m\u001b[43m \u001b[49m\u001b[43mk\u001b[49m\u001b[43m \u001b[49m\u001b[38;5;129;43;01mnot\u001b[39;49;00m\u001b[43m \u001b[49m\u001b[38;5;129;43;01min\u001b[39;49;00m\u001b[43m \u001b[49m\u001b[43mskip\u001b[49m\u001b[43m}\u001b[49m\u001b[43m)\u001b[49m)\n\u001b[1;32m   2056\u001b[0m \u001b[38;5;28;01melse\u001b[39;00m:  \u001b[38;5;66;03m# Let third-parties do as they see fit.\u001b[39;00m\n\u001b[1;32m   2057\u001b[0m     print_method \u001b[38;5;241m=\u001b[39m meth\n",
      "File \u001b[0;32m~/.local/lib/python3.9/site-packages/matplotlib/backends/backend_agg.py:496\u001b[0m, in \u001b[0;36mFigureCanvasAgg.print_png\u001b[0;34m(self, filename_or_obj, metadata, pil_kwargs)\u001b[0m\n\u001b[1;32m    449\u001b[0m \u001b[38;5;28;01mdef\u001b[39;00m\u001b[38;5;250m \u001b[39m\u001b[38;5;21mprint_png\u001b[39m(\u001b[38;5;28mself\u001b[39m, filename_or_obj, \u001b[38;5;241m*\u001b[39m, metadata\u001b[38;5;241m=\u001b[39m\u001b[38;5;28;01mNone\u001b[39;00m, pil_kwargs\u001b[38;5;241m=\u001b[39m\u001b[38;5;28;01mNone\u001b[39;00m):\n\u001b[1;32m    450\u001b[0m \u001b[38;5;250m    \u001b[39m\u001b[38;5;124;03m\"\"\"\u001b[39;00m\n\u001b[1;32m    451\u001b[0m \u001b[38;5;124;03m    Write the figure to a PNG file.\u001b[39;00m\n\u001b[1;32m    452\u001b[0m \n\u001b[0;32m   (...)\u001b[0m\n\u001b[1;32m    494\u001b[0m \u001b[38;5;124;03m        *metadata*, including the default 'Software' key.\u001b[39;00m\n\u001b[1;32m    495\u001b[0m \u001b[38;5;124;03m    \"\"\"\u001b[39;00m\n\u001b[0;32m--> 496\u001b[0m     \u001b[38;5;28;43mself\u001b[39;49m\u001b[38;5;241;43m.\u001b[39;49m\u001b[43m_print_pil\u001b[49m\u001b[43m(\u001b[49m\u001b[43mfilename_or_obj\u001b[49m\u001b[43m,\u001b[49m\u001b[43m \u001b[49m\u001b[38;5;124;43m\"\u001b[39;49m\u001b[38;5;124;43mpng\u001b[39;49m\u001b[38;5;124;43m\"\u001b[39;49m\u001b[43m,\u001b[49m\u001b[43m \u001b[49m\u001b[43mpil_kwargs\u001b[49m\u001b[43m,\u001b[49m\u001b[43m \u001b[49m\u001b[43mmetadata\u001b[49m\u001b[43m)\u001b[49m\n",
      "File \u001b[0;32m~/.local/lib/python3.9/site-packages/matplotlib/backends/backend_agg.py:445\u001b[0m, in \u001b[0;36mFigureCanvasAgg._print_pil\u001b[0;34m(self, filename_or_obj, fmt, pil_kwargs, metadata)\u001b[0m\n\u001b[1;32m    440\u001b[0m \u001b[38;5;250m\u001b[39m\u001b[38;5;124;03m\"\"\"\u001b[39;00m\n\u001b[1;32m    441\u001b[0m \u001b[38;5;124;03mDraw the canvas, then save it using `.image.imsave` (to which\u001b[39;00m\n\u001b[1;32m    442\u001b[0m \u001b[38;5;124;03m*pil_kwargs* and *metadata* are forwarded).\u001b[39;00m\n\u001b[1;32m    443\u001b[0m \u001b[38;5;124;03m\"\"\"\u001b[39;00m\n\u001b[1;32m    444\u001b[0m FigureCanvasAgg\u001b[38;5;241m.\u001b[39mdraw(\u001b[38;5;28mself\u001b[39m)\n\u001b[0;32m--> 445\u001b[0m \u001b[43mmpl\u001b[49m\u001b[38;5;241;43m.\u001b[39;49m\u001b[43mimage\u001b[49m\u001b[38;5;241;43m.\u001b[39;49m\u001b[43mimsave\u001b[49m\u001b[43m(\u001b[49m\n\u001b[1;32m    446\u001b[0m \u001b[43m    \u001b[49m\u001b[43mfilename_or_obj\u001b[49m\u001b[43m,\u001b[49m\u001b[43m \u001b[49m\u001b[38;5;28;43mself\u001b[39;49m\u001b[38;5;241;43m.\u001b[39;49m\u001b[43mbuffer_rgba\u001b[49m\u001b[43m(\u001b[49m\u001b[43m)\u001b[49m\u001b[43m,\u001b[49m\u001b[43m \u001b[49m\u001b[38;5;28;43mformat\u001b[39;49m\u001b[38;5;241;43m=\u001b[39;49m\u001b[43mfmt\u001b[49m\u001b[43m,\u001b[49m\u001b[43m \u001b[49m\u001b[43morigin\u001b[49m\u001b[38;5;241;43m=\u001b[39;49m\u001b[38;5;124;43m\"\u001b[39;49m\u001b[38;5;124;43mupper\u001b[39;49m\u001b[38;5;124;43m\"\u001b[39;49m\u001b[43m,\u001b[49m\n\u001b[1;32m    447\u001b[0m \u001b[43m    \u001b[49m\u001b[43mdpi\u001b[49m\u001b[38;5;241;43m=\u001b[39;49m\u001b[38;5;28;43mself\u001b[39;49m\u001b[38;5;241;43m.\u001b[39;49m\u001b[43mfigure\u001b[49m\u001b[38;5;241;43m.\u001b[39;49m\u001b[43mdpi\u001b[49m\u001b[43m,\u001b[49m\u001b[43m \u001b[49m\u001b[43mmetadata\u001b[49m\u001b[38;5;241;43m=\u001b[39;49m\u001b[43mmetadata\u001b[49m\u001b[43m,\u001b[49m\u001b[43m \u001b[49m\u001b[43mpil_kwargs\u001b[49m\u001b[38;5;241;43m=\u001b[39;49m\u001b[43mpil_kwargs\u001b[49m\u001b[43m)\u001b[49m\n",
      "File \u001b[0;32m~/.local/lib/python3.9/site-packages/matplotlib/image.py:1676\u001b[0m, in \u001b[0;36mimsave\u001b[0;34m(fname, arr, vmin, vmax, cmap, format, origin, dpi, metadata, pil_kwargs)\u001b[0m\n\u001b[1;32m   1674\u001b[0m pil_kwargs\u001b[38;5;241m.\u001b[39msetdefault(\u001b[38;5;124m\"\u001b[39m\u001b[38;5;124mformat\u001b[39m\u001b[38;5;124m\"\u001b[39m, \u001b[38;5;28mformat\u001b[39m)\n\u001b[1;32m   1675\u001b[0m pil_kwargs\u001b[38;5;241m.\u001b[39msetdefault(\u001b[38;5;124m\"\u001b[39m\u001b[38;5;124mdpi\u001b[39m\u001b[38;5;124m\"\u001b[39m, (dpi, dpi))\n\u001b[0;32m-> 1676\u001b[0m \u001b[43mimage\u001b[49m\u001b[38;5;241;43m.\u001b[39;49m\u001b[43msave\u001b[49m\u001b[43m(\u001b[49m\u001b[43mfname\u001b[49m\u001b[43m,\u001b[49m\u001b[43m \u001b[49m\u001b[38;5;241;43m*\u001b[39;49m\u001b[38;5;241;43m*\u001b[39;49m\u001b[43mpil_kwargs\u001b[49m\u001b[43m)\u001b[49m\n",
      "File \u001b[0;32m~/.local/lib/python3.9/site-packages/PIL/Image.py:2576\u001b[0m, in \u001b[0;36mImage.save\u001b[0;34m(self, fp, format, **params)\u001b[0m\n\u001b[1;32m   2574\u001b[0m         fp \u001b[38;5;241m=\u001b[39m builtins\u001b[38;5;241m.\u001b[39mopen(filename, \u001b[38;5;124m\"\u001b[39m\u001b[38;5;124mr+b\u001b[39m\u001b[38;5;124m\"\u001b[39m)\n\u001b[1;32m   2575\u001b[0m     \u001b[38;5;28;01melse\u001b[39;00m:\n\u001b[0;32m-> 2576\u001b[0m         fp \u001b[38;5;241m=\u001b[39m \u001b[43mbuiltins\u001b[49m\u001b[38;5;241;43m.\u001b[39;49m\u001b[43mopen\u001b[49m\u001b[43m(\u001b[49m\u001b[43mfilename\u001b[49m\u001b[43m,\u001b[49m\u001b[43m \u001b[49m\u001b[38;5;124;43m\"\u001b[39;49m\u001b[38;5;124;43mw+b\u001b[39;49m\u001b[38;5;124;43m\"\u001b[39;49m\u001b[43m)\u001b[49m\n\u001b[1;32m   2577\u001b[0m \u001b[38;5;28;01melse\u001b[39;00m:\n\u001b[1;32m   2578\u001b[0m     fp \u001b[38;5;241m=\u001b[39m cast(IO[\u001b[38;5;28mbytes\u001b[39m], fp)\n",
      "\u001b[0;31mFileNotFoundError\u001b[0m: [Errno 2] No such file or directory: 'plots/ROH_Recomb_Ne_Subset_esimtates.png'"
     ]
    },
    {
     "data": {
      "image/png": "[encoded data removed]",
      "text/plain": [
       "<Figure size 1500x500 with 1 Axes>"
      ]
     },
     "metadata": {},
     "output_type": "display_data"
    }
   ],
   "source": [
    "palette = ['steelblue', 'grey', 'black']\n",
    "palette = ['steelblue', 'black']\n",
    "\n",
    "uncertainty_subplot = uncertainty[(uncertainty['Generation Class']>2) & (uncertainty['Generation Class']<128) & (uncertainty['Population']!='AU')]\n",
    "\n",
    "plt.figure(figsize=(15, 5))\n",
    "ax = sns.pointplot(data=uncertainty_subplot, x='Generation Class', y='Ne', dodge=True, hue='Population', hue_order=['NZ', 'KI'],\n",
    "                palette=palette, errorbar='sd', capsize=0.05, n_boot=100, estimator='mean', markers='o', linestyles='none')\n",
    "handles, labels = ax.get_legend_handles_labels()\n",
    "ax.legend(handles=handles,\n",
    "        labels=['TI', 'KĪ'],\n",
    "        loc='upper left', handlelength=4,\n",
    "        handler_map={tuple: HandlerTuple(ndivide=None)})\n",
    "\n",
    "params = {'mathtext.default': 'regular' }\n",
    "plt.rcParams.update(params)\n",
    "ax.set_title('', loc='left', fontsize=20)\n",
    "ax.set_xticklabels(['2-4', '4-8', '8-16', '16-32', '32-64'])\n",
    "ax.set_xlabel('Generations', fontsize=14)\n",
    "ax.set_ylabel('$N_{e}$', fontsize=14)\n",
    "\n",
    "plt.savefig('plots/ROH_Recomb_Ne_Subset_esimtates.png', dpi=300, bbox_inches='tight')"
   ]
  },
  {
   "cell_type": "markdown",
   "metadata": {},
   "source": []
  },
  {
   "cell_type": "code",
   "execution_count": 18,
   "metadata": {},
   "outputs": [
    {
     "name": "stdout",
     "output_type": "stream",
     "text": [
      "  Population     count\n",
      "0         NZ  3.425532\n"
     ]
    }
   ],
   "source": [
    "gen2 = 17857100\n",
    "gen4 = 4464300\n",
    "gen8 = 2232100\n",
    "gen16 = 1116100\n",
    "large_roh = roh[(roh['ROH Length']>=gen4) & (roh['ROH Length']< gen2)]\n",
    "large_roh = large_roh.groupby('Sample')['Population'].value_counts().reset_index()\n",
    "large_roh = large_roh.groupby('Population')['count'].mean().reset_index()\n",
    "\n",
    "huge_roh = roh[roh['ROH Length']>=gen2]\n",
    "huge_roh = huge_roh.groupby('Sample')['Population'].value_counts().reset_index()\n",
    "huge_roh = huge_roh.groupby('Population')['count'].mean().reset_index()\n",
    "\n",
    "print(huge_roh)"
   ]
  },
  {
   "cell_type": "markdown",
   "metadata": {},
   "source": []
  },
  {
   "cell_type": "code",
   "execution_count": null,
   "metadata": {},
   "outputs": [],
   "source": [
    "roh[roh['ROH_size']>=gen2].groupby(['Sample','Population'])['Population'].count()"
   ]
  },
  {
   "cell_type": "markdown",
   "metadata": {},
   "source": [
    "### StairwayPlot2\n",
    "Below script was modified from [here](https://github.com/xiaoming-liu/stairway-plot-v2/issues/2)."
   ]
  },
  {
   "cell_type": "code",
   "execution_count": null,
   "metadata": {},
   "outputs": [],
   "source": [
    "au_stairway = pd.read_csv('stairwayplot2/AU_neutral_temp/Australian fairy tern (neutral).final.summary', delimiter='\\t')\n",
    "ti_stairway = pd.read_csv('stairwayplot2/TI_neutral_temp/Tara iti (neutral).final.summary', delimiter='\\t')\n",
    "ki_stairway = pd.read_csv('stairwayplot2/KI_neutral_temp/Kakī (neutral).final.summary', delimiter='\\t')\n",
    "\n",
    "fig, axs = plt.subplots(3, 1, figsize=(20,10), sharex=True, sharey=False)\n",
    "axs[0].step(au_stairway['year'], au_stairway['Ne_median'], where='post', color = 'gold', linewidth=1, label='Australia')\n",
    "axs[0].step(au_stairway['year'], au_stairway['Ne_2.5%'], where='post', color = 'gold', linewidth=1, linestyle='dashed')\n",
    "axs[0].step(au_stairway['year'], au_stairway['Ne_97.5%'], where='post', color = 'gold', linewidth=1, linestyle='dashed')\n",
    "axs[0].set_title('A)', fontsize=20, loc='left')\n",
    "axs[0].set_ylim(0, 100000)\n",
    "\n",
    "axs[1].step(ti_stairway['year'], ti_stairway['Ne_median'], where='post', color = 'steelblue', linewidth=1, label='Tara iti')\n",
    "axs[1].step(ti_stairway['year'], ti_stairway['Ne_2.5%'], where='post', color = 'steelblue', linewidth=1, linestyle='dashed')\n",
    "axs[1].step(ti_stairway['year'], ti_stairway['Ne_97.5%'], where='post', color = 'steelblue', linewidth=1, linestyle='dashed')\n",
    "axs[1].set_title('B)', fontsize=20, loc='left')\n",
    "axs[1].set_ylim(0, 12500)\n",
    "\n",
    "axs[2].step(ki_stairway['year'], ki_stairway['Ne_median'], where='post', color = 'black', linewidth=1, label='Kakī')\n",
    "axs[2].step(ki_stairway['year'], ki_stairway['Ne_2.5%'], where='post', color = 'black', linewidth=1, linestyle='dashed')\n",
    "axs[2].step(ki_stairway['year'], ki_stairway['Ne_97.5%'], where='post', color = 'black', linewidth=1, linestyle='dashed')\n",
    "axs[2].set_title('C)', fontsize=20, loc='left')\n",
    "axs[2].set_ylim(0, 25000)\n",
    "\n",
    "plt.xlim(0, 800)\n",
    "\n",
    "plt.xlabel('Years Before Present', fontsize=14)\n",
    "plt.ylabel('Effective Population Size', fontsize=14)\n",
    "#plt.xticks(x_ticks, x_labels, fontsize=10)\n",
    "#plt.yticks(y_ticks, y_labels, fontsize=10)\n",
    "\n",
    "plt.savefig('plots/fairy_Ne_plot2.png', dpi=300, bbox_inches='tight')"
   ]
  },
  {
   "cell_type": "code",
   "execution_count": null,
   "metadata": {},
   "outputs": [],
   "source": [
    "au_stairway.tail()"
   ]
  },
  {
   "cell_type": "code",
   "execution_count": null,
   "metadata": {},
   "outputs": [],
   "source": [
    "au_hgone = pd.read_csv('GONE/Haldane_Correction/AU_neutral_run1_test/Output_Ne_AU_neutral_test', sep='\\t')\n",
    "ki_hgone = pd.read_csv('GONE/Haldane_Correction/KI_neutral_run1/Output_Ne_KI_neutral', sep='\\t')\n",
    "ti_hgone = pd.read_csv('GONE/Haldane_Correction/TI_neutral_run1_test/Output_Ne_TI_neutral_test', sep='\\t')\n",
    "\n",
    "au_kgone = pd.read_csv('GONE/Kosambi_Correction/AU_neutral_run1/Output_Ne_AU_neutral_test', sep='\\t')\n",
    "ki_kgone = pd.read_csv('GONE/Kosambi_Correction/KI_neutral_run1/Output_Ne_KI_neutral', sep='\\t')\n",
    "ti_kgone = pd.read_csv('GONE/Kosambi_Correction/TI_neutral_run1/Output_Ne_TI_neutral_test', sep='\\t')\n",
    "\n",
    "ki_h_parents = pd.read_csv('GONE/Haldane_Correction/KI_neutral_parents/Output_Ne_KI_parents_neutral', sep='\\t')\n",
    "\n",
    "# Filter to within the last 100 generations as this is the noly period the method is confident in\n",
    "au_hgone = au_hgone[au_hgone['Generation']<=100]\n",
    "ki_hgone = ki_hgone[ki_hgone['Generation']<=100]\n",
    "ti_hgone = ti_hgone[ti_hgone['Generation']<=100]\n",
    "\n",
    "au_kgone = au_kgone[au_kgone['Generation']<=100]\n",
    "ki_kgone = ki_kgone[ki_kgone['Generation']<=100]\n",
    "ti_kgone = ti_kgone[ti_kgone['Generation']<=100]\n",
    "\n",
    "ki_h_parents = ki_h_parents[ki_h_parents['Generation']<=100]\n",
    "ki_h_parents['Year'] = ki_h_parents['Generation'] * 6\n",
    "\n",
    "au_hgone['Population'] = 'AU'\n",
    "ki_hgone['Population'] = 'KI'\n",
    "ti_hgone['Population'] = 'TI'\n",
    "\n",
    "au_hgone['Year'] = au_hgone['Generation'] * 6\n",
    "ki_hgone['Year'] = ki_hgone['Generation'] * 6\n",
    "ti_hgone['Year'] = ti_hgone['Generation'] * 6\n",
    "\n",
    "au_kgone['Population'] = 'AU'\n",
    "ki_kgone['Population'] = 'KI'\n",
    "ti_kgone['Population'] = 'TI'\n",
    "\n",
    "ki_h_parents['Population'] = 'KI'\n",
    "\n",
    "au_hgone.head()"
   ]
  },
  {
   "cell_type": "code",
   "execution_count": null,
   "metadata": {},
   "outputs": [],
   "source": [
    "sns.lineplot(ti_hgone, x='Year', y='Geometric_mean')\n",
    "sns.lineplot(ki_hgone, x='Year', y='Geometric_mean')\n",
    "sns.lineplot(ki_h_parents, x='Year', y='Geometric_mean', color='black')"
   ]
  },
  {
   "cell_type": "code",
   "execution_count": null,
   "metadata": {},
   "outputs": [],
   "source": [
    "sns.lineplot(ti_hgone[ti_hgone['Generation']>10], x='Year', y='Geometric_mean')\n",
    "sns.lineplot(ki_hgone[ki_hgone['Generation']>10], x='Year', y='Geometric_mean')\n",
    "sns.lineplot(ki_h_parents[ki_h_parents['Generation']>10], x='Year', y='Geometric_mean', color='black')"
   ]
  },
  {
   "cell_type": "code",
   "execution_count": null,
   "metadata": {},
   "outputs": [],
   "source": [
    "sns.lineplot(au_hgone[au_hgone['Generation']>10], x='Year', y='Geometric_mean', color='gold')"
   ]
  },
  {
   "cell_type": "markdown",
   "metadata": {},
   "source": [
    "## Artificailly constructing a GENEPOP file"
   ]
  },
  {
   "cell_type": "raw",
   "metadata": {
    "vscode": {
     "languageId": "raw"
    }
   },
   "source": [
    "bcftools query -s TI99 -f '%CHROM:%POS\\n' angsd/samtools/genotypes/TI_genos.bcf | tr '\\n' '\\t' > TI_whole-genome.genpop\n",
    "\n",
    "while read -r line\n",
    "    do\n",
    "    echo $line\n",
    "    bcftools query -s $line -f '[%GT]\\n' samtools/genotypes/TI_genos.bcf | tr '\\n' '\\t' | sed 's%0/0%0000%g' | sed 's%0/1%0001%g' | sed 's%1/1%0101%g' >> TI_whole-genome.genpop\n",
    "done < TI_relatedness_IDs.txt"
   ]
  }
 ],
 "metadata": {
  "kernelspec": {
   "display_name": "Python 3",
   "language": "python",
   "name": "python3"
  },
  "language_info": {
   "codemirror_mode": {
    "name": "ipython",
    "version": 3
   },
   "file_extension": ".py",
   "mimetype": "text/x-python",
   "name": "python",
   "nbconvert_exporter": "python",
   "pygments_lexer": "ipython3",
   "version": "3.9.21"
  }
 },
 "nbformat": 4,
 "nbformat_minor": 2
}
