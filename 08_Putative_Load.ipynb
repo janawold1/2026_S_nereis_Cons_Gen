{
 "cells": [
  {
   "cell_type": "markdown",
   "metadata": {},
   "source": [
    "# Putative Genetic Load\n",
    "Given that the tara iti reference genome could not be annotated with RNA sequencing, ensure a robust and conservative assessment of genetic load that is translatable across species comparisons, we limited load estimates to highly conserved BUSCO genes in the fairy tern species complex (*Sterna nereis* spp.) and kakī (*Himantopus novazealandiae*) for comparison.  \n",
    "\n",
    "To start, we ran BUSCO v5.4.7 for the tara iti and kakī reference genome.  "
   ]
  },
  {
   "cell_type": "code",
   "execution_count": null,
   "metadata": {
    "vscode": {
     "languageId": "shellscript"
    }
   },
   "outputs": [],
   "source": [
    "busco --in Katie_racon_ragtag_autosomes.fa --out busco/ --mode genome --lineage_dataset aves_odb10 --cpu 32\n",
    "busco --in himNova-hic-scaff_autosomes.fa --out busco/ --mode genome --lineage_dataset aves_odb10 --cpu 32"
   ]
  },
  {
   "cell_type": "markdown",
   "metadata": {},
   "source": [
    "We then concatenated single copy BUSCO sequences into species specific `GFF` files.  "
   ]
  },
  {
   "cell_type": "code",
   "execution_count": null,
   "metadata": {
    "vscode": {
     "languageId": "shellscript"
    }
   },
   "outputs": [],
   "source": [
    "cat busco/run_aves_odb10/busco_sequences/single_copy_busco_sequences/*.gff > SIFT_DB/TI_annotation/merged_scBUSCOs.gff\n",
    "cat busco/run_aves_odb10/busco_sequences/single_copy_busco_sequences/*.gff > SIFT_DB/KI_annotation/merged_scBUSCOs.gff\n",
    "\n",
    "cat busco/run_aves_odb10/busco_sequences/single_copy_busco_sequences/*.faa > SIFT_DB/TI_annotation/merged_scBUSCOs.fa\n",
    "cat busco/run_aves_odb10/busco_sequences/single_copy_busco_sequences/*.faa > SIFT_DB/KI_annotation/merged_scBUSCOs.fa"
   ]
  },
  {
   "cell_type": "markdown",
   "metadata": {},
   "source": [
    "### Sites Polarised with ANGSD\n",
    "To estimate masked and realised load in each fairy tern population and kakī we used ANGSD to output the major minor alleles, the called genotype, the posterior probability of the called genotype and all possible genotypes (`-doGeno 31`) to a BCF file (`-doBcf 1`).  "
   ]
  },
  {
   "cell_type": "code",
   "execution_count": null,
   "metadata": {
    "vscode": {
     "languageId": "shellscript"
    }
   },
   "outputs": [],
   "source": [
    "angsd -P 24 -b ${ANGSD}GLOBAL.list -ref ${TREF} -anc ${TANC} -out ${ANGSD}samtools/genotypes/GLOBAL_polarized \\\n",
    "        -uniqueOnly 1 -remove_bads 1 -only_proper_pairs 1 -trim 0 -C 50 -baq 1 -skipTriallelic 1 \\\n",
    "        -minMapQ 20 -minQ 20 -minInd 57 -setMinDepth 555 -setMaxDepth 1056 -doCounts 1 \\\n",
    "        -doPost 1 -postCutoff 0.95 -doBcf 1 -GL 1 -doMajorMinor 5 -doMaf 1 -SNP_pval 1e-6 -doGeno 31 --ignore-RG 0\n",
    "\n",
    "angsd -P 32 -b ${DIR}KI.list -ref ${KREF} -anc ${KANC} -out ${DIR}samtools/genotypes/KI_polarized \\\n",
    "        -uniqueOnly 1 -remove_bads 1 -only_proper_pairs 1 -trim 0 -C 50 -baq 1 -skipTriallelic 1 \\\n",
    "        -minMapQ 20 -minQ 20 -minInd 24 -setMinDepth 700 -maxDepth 1200 -doCounts 1 \\\n",
    "        -doPost 1 -postCutoff 0.95 -doBcf 1 -GL 1 -doMajorMinor 5 -doMaf 1 -SNP_pval 1e-6 -doGeno 31 --ignore-RG 0\n"
   ]
  },
  {
   "cell_type": "markdown",
   "metadata": {},
   "source": [
    "### SIFT\n",
    "We then used [SIFT4G](https://github.com/rvaser/sift4g) to identify deleterious sites within these BUSCO genes. To do so, we leveraged the outputs from BUSCO to create a database called for our tara iti and kakī reference genomes.  \n",
    "\n",
    "Using the same method as when we concatenated the `GFF` files used to create `BED` files for variant discovery, we also obtained the reference protein sequences for each complete single copy BUSCO gene."
   ]
  },
  {
   "cell_type": "code",
   "execution_count": null,
   "metadata": {
    "vscode": {
     "languageId": "shellscript"
    }
   },
   "outputs": [],
   "source": [
    "cat SP01_genome/busco/run_aves_odb10/busco_sequences/single_copy_busco_sequences/*.faa > SP01_genome/busco/merged_single_copy_busco_prot.fa\n",
    "cat kaki_genome/busco/run_aves_odb10/busco_sequences/single_copy_busco_sequences/*.faa > kaki_genome/busco/merged_single_copy_busco_prot.fa"
   ]
  },
  {
   "cell_type": "markdown",
   "metadata": {},
   "source": [
    "The SIFT documentation suggests using `gffread`, however this is deprecated and unmaintained. We opted to convert the `GFF` files output from BUSCO to `GTF` with [agat](https://github.com/NBISweden/AGAT) v. 1.0.0. First we fixed the concatenated `GFF` from BUSCO to be more compatible with SIFT and VEP.  "
   ]
  },
  {
   "cell_type": "code",
   "execution_count": null,
   "metadata": {
    "vscode": {
     "languageId": "shellscript"
    }
   },
   "outputs": [],
   "source": [
    "agat_sp_manage_IDs.pl --gff SIFT_DB/KI_annotations/merged_scBUSCO.gff -o SIFT_DB/KI_annotations/merged_scBUSCO_checked.gff\n",
    "agat_sp_manage_IDs.pl --gff SIFT_DB/TI_annotations/merged_scBUSCO.gff -o SIFT_DB/TI_annotations/merged_scBUSCO_checked.gff"
   ]
  },
  {
   "cell_type": "markdown",
   "metadata": {},
   "source": [
    "This `GFF` was then converted to `GTF` with AGAT and compressed for SIFT.  "
   ]
  },
  {
   "cell_type": "code",
   "execution_count": null,
   "metadata": {
    "vscode": {
     "languageId": "shellscript"
    }
   },
   "outputs": [],
   "source": [
    "agat_convert_sp_gff2gtf.pl --gff SIFT_DB/KI_annotations/merged_scBUSCO_checked.gff -o SIFT_DB/KI_annotations/merged_scBUSCO_checked.gtf\n",
    "agat_convert_sp_gff2gtf.pl --gff SIFT_DB/TI_annotations/merged_scBUSCO_checked.gff -o SIFT_DB/TI_annotations/merged_scBUSCO_checked.gtf\n",
    "\n",
    "bgzip -c SIFT_DB/KI_annotations/merged_scBUSCO_checked.gtf > SIFT_DB/kaki_database/gene-annotation-src/merged_scBUSCO_checked.gtf.gz\n",
    "bgzip -c SIFT_DB/TI_annotations/merged_scBUSCO_checked.gtf > SIFT_DB/fairy_database/gene-annotation-src/merged_scBUSCO_checked.gtf.gz"
   ]
  },
  {
   "cell_type": "markdown",
   "metadata": {},
   "source": [
    "We then used [SIFT4G_Create_Genomic_DB](https://github.com/pauline-ng/SIFT4G_Create_Genomic_DB) to construct a protein database from BUSCO genes identified in our tara iti and kakī reference genomes.  \n",
    "\n",
    "First, we downloaded and configured the docker image.  "
   ]
  },
  {
   "cell_type": "code",
   "execution_count": null,
   "metadata": {
    "vscode": {
     "languageId": "shellscript"
    }
   },
   "outputs": [],
   "source": [
    "git clone https://github.com/pauline-ng/SIFT4G_Create_Genomic_DB.git\n",
    "cd SIFT4G_Create_Genomic_DB\n",
    "docker build -t sift4g_db ."
   ]
  },
  {
   "cell_type": "markdown",
   "metadata": {},
   "source": [
    "To be able to run this tool on our HPC environment, we then exported this docker container to a `.tar` file for conversion to a `.sif` container with Apptainer.  "
   ]
  },
  {
   "cell_type": "code",
   "execution_count": null,
   "metadata": {
    "vscode": {
     "languageId": "shellscript"
    }
   },
   "outputs": [],
   "source": []
  },
  {
   "cell_type": "markdown",
   "metadata": {},
   "source": [
    "Then, a config file was formatted as below, adjusting the relevant settings as necessary.  "
   ]
  },
  {
   "cell_type": "code",
   "execution_count": null,
   "metadata": {
    "vscode": {
     "languageId": "shellscript"
    }
   },
   "outputs": [],
   "source": [
    "GENETIC_CODE_TABLE=1\n",
    "GENETIC_CODE_TABLENAME=Standard\n",
    "MITO_GENETIC_COTE_TABLE=2\n",
    "MITO_GENETIC_CODE_TABLENAME=Vertebrate Mitochondrial\n",
    "\n",
    "PARENT_DIR=/nesi/nobackup/uc03718/SIFT_DB/fairy_database\n",
    "ORG=tara_iti\n",
    "ORG_VERSION=tara_iti_v1\n",
    "DBSNP_VCF_FILE=\n",
    "\n",
    "# Running SIFT4G, this path works for the Dockerfile\n",
    "SIFT4G_PATH=/sift4g/bin/sift4g\n",
    "\n",
    "# POTEIN_DB needs to be uncompressed\n",
    "PROTEIN_DB=/nesi/nobackup/uc03718/SIFT_DB/uniref100.fasta\n",
    "\n",
    "# Subdirectories, don't need to change\n",
    "GENE_DOWNLOAD_DEST=gene-annotation-src\n",
    "CHR_DOWNLOAD_DEST=chr-src\n",
    "LOGFILE=log.txt\n",
    "ZLOGFILE=log2.txt\n",
    "FASTA_DIR=fasta\n",
    "SUBST_DIR=subst\n",
    "ALIGN_DIR=SIFT_alignments\n",
    "SIFT_SCORE_DIR=SIFT_predictions\n",
    "SINGLE_REC_BY_CHR_DIR=singleRecords\n",
    "SINGLE_REC_WITH_SIFTSCORE_DIR=singleRecords_with_scores\n",
    "DBSNP_DIR=dbSNP\n",
    "\n",
    "# Doesn't need to change\n",
    "FASTA_LOG=fasta.log\n",
    "INVALID_LOG=invalid.log\n",
    "PEPTIDE_LOG=peptide.log\n",
    "ENS_PATTERN=ENS\n",
    "SINGLE_RECORD_PATTERN=:change:_aa1valid_dbsnp.singleRecord"
   ]
  },
  {
   "cell_type": "markdown",
   "metadata": {},
   "source": [
    "SIFT databases were then constructed.  "
   ]
  },
  {
   "cell_type": "code",
   "execution_count": null,
   "metadata": {
    "vscode": {
     "languageId": "shellscript"
    }
   },
   "outputs": [],
   "source": [
    "ml purge\n",
    "ml load Apptainer/1.3.1\n",
    "\n",
    "printf \"STARTED CONSTRUCTING DB FOR KI 10X AT \"\n",
    "date\n",
    "\n",
    "apptainer exec --unsquash --bind /nesi/nobackup/uc03718/SIFT_DB/:/home/ /nesi/nobackup/uc03718/containers/sift_4g_v2.sif \\\n",
    "        /bin/bash -c \"\n",
    "                echo 'CHANGING DIRECTORY AT '; date;\n",
    "                cd /SIFT4G_Create_Genomic_DB/;\n",
    "                perl make-SIFT-db-all.pl -c /home/fairy.txt;\n",
    "                echo 'EXITING CONTAINER AT '; date;\n",
    "        \""
   ]
  },
  {
   "cell_type": "markdown",
   "metadata": {},
   "source": [
    "And finally we annotated the filtered VCF file using our SIFT database.  "
   ]
  },
  {
   "cell_type": "code",
   "execution_count": null,
   "metadata": {
    "vscode": {
     "languageId": "shellscript"
    }
   },
   "outputs": [],
   "source": [
    "java -jar /home/jana/SIFT_Annotator.jar -c -i ${DIR}GLOBAL_polarized_filtered.vcf \\\n",
    "    -d fairy_SIFT_databases/SP01_v1/ \\\n",
    "    -r SIFT/fairy_output -t"
   ]
  },
  {
   "cell_type": "markdown",
   "metadata": {},
   "source": [
    "### Variant Effect Predictor\n",
    "VEP was run below using the GFF file constructed above."
   ]
  },
  {
   "cell_type": "code",
   "execution_count": null,
   "metadata": {
    "vscode": {
     "languageId": "shellscript"
    }
   },
   "outputs": [],
   "source": [
    "perl vep -i GLOBAL_polarized.vcf \\\n",
    "    --custom references/SP01_BUSCO_check.gff.gz,FAIRY_GFF,gff \\\n",
    "    --fasta references/SP01_5kb_ragtag_fold60.fa.gz \\\n",
    "    --everything \\\n",
    "    -o vep_data/angsd_high_confidence_BUSCO_SNPs/GLOBAL_whole-genome_polarized\n",
    "\n",
    "perl vep -i KI_polarized.vcf \\\n",
    "    --custom references/kaki_BUSCO_check.gff.gz,KAKI_GFF,gff \\\n",
    "    --fasta references/him_Nova-hic-scaff.fa \\\n",
    "    --everything \\\n",
    "    -o vep_data/angsd_high_confidence_BUSCO_SNPs/KI_whole-genome_polarized"
   ]
  },
  {
   "cell_type": "markdown",
   "metadata": {},
   "source": [
    "### Intersecting calls between VEP & SIFT\n",
    "To find sites that both had an impact (VEP) and were deleterious (SIFT), we first filtered the SIFT output for those sites with a SIFT score <= 0.05."
   ]
  },
  {
   "cell_type": "code",
   "execution_count": null,
   "metadata": {
    "vscode": {
     "languageId": "shellscript"
    }
   },
   "outputs": [],
   "source": [
    "awk '{print $1\"\\t\"$2\"\\t\"$(NF-4)\"\\t\"$(NF-3)\"\\t\"$(NF-2)\"\\t\"$(NF-1)\"\\t\"$NF}' GLOBAL_whole-genome_SIFTannotations.txt | awk '{ if (($5 != \"NA\" && $6 <= 0.05 && $7 >= 2.75) || ($6 != \"NA\" && $6 <=0.05 && $7 >= 3.5)) print $0}' > deleterious_SIFT_fairy.tsv\n",
    "awk '{print $1\"\\t\"$2\"\\t\"$(NF-4)\"\\t\"$(NF-3)\"\\t\"$(NF-2)\"\\t\"$(NF-1)\"\\t\"$NF}' GLOBAL_whole-genome_SIFTannotations.txt | awk '{ if (($5 != \"NA\" && $6 > 0.05 && $7 >= 2.75) || ($6 !=\"NA\" && $6 > 0.05 && $7 <= 3.5) print $0}' > tolerant_SIFT_fairy.tsv\n",
    "\n",
    "awk '{print $1\"\\t\"$2\"\\t\"$(NF-4)\"\\t\"$(NF-3)\"\\t\"$(NF-2)\"\\t\"$(NF-1)\"\\t\"$NF}' kaki_whole-genome_SIFTannotations.txt | awk '{ if (($5 != \"NA\" && $6 <= 0.05 && $7 >= 2.75) || ($5 != \"NA\" && $6 <=0.05 && $7 >= 3.5)) print $0}' > deleterious_SIFT_kaki.tsv\n",
    "awk '{print $1\"\\t\"$2\"\\t\"$(NF-4)\"\\t\"$(NF-3)\"\\t\"$(NF-2)\"\\t\"$(NF-1)\"\\t\"$NF}' kaki_whole-genome_SIFTannotations.txt | awk '{ if (($5 != \"NA\" && $6 > 0.05 && $7 >= 2.75) || ($5 !=\"NA\" && $6 > 0.05 && $7 <= 3.5) print $0}' > tolerant_SIFT_kaki.tsv\n",
    "\n",
    "awk '{print $1\"\\t\"$2\"\\t\"$(NF-4)\"\\t\"$(NF-3)\"\\t\"$(NF-2)\"\\t\"$(NF-1)\"\\t\"$NF}' KI_10x_whole-genome_polarized_filtered_SIFTannotations.txt | awk '{ if (($5 != \"NA\" && $6 <= 0.05 && $7 >= 2.75) || ($5 != \"NA\" && $6 <=0.05 && $7 >= 3.5)) print $0}' > deleterious_SIFT_KI_10x.tsv\n",
    "awk '{print $1\"\\t\"$2\"\\t\"$(NF-4)\"\\t\"$(NF-3)\"\\t\"$(NF-2)\"\\t\"$(NF-1)\"\\t\"$NF}' KI_10x_whole-genome_polarized_filtered_SIFTannotations.txt | awk '{ if (($5 != \"NA\" && $6 > 0.05 && $7 >= 2.75) || ($5 !=\"NA\" && $6 > 0.05 && $7 <= 3.5) print $0}' > tolerant_SIFT_KI_10x.tsv"
   ]
  },
  {
   "cell_type": "markdown",
   "metadata": {
    "vscode": {
     "languageId": "shellscript"
    }
   },
   "source": [
    "SIFT sites were then extracted, and used to determine impact from VEP."
   ]
  },
  {
   "cell_type": "code",
   "execution_count": null,
   "metadata": {
    "vscode": {
     "languageId": "shellscript"
    }
   },
   "outputs": [],
   "source": [
    "grep -v \"#\" GLOBAL_whole-genome.tsv | grep -v IMPACT=MODIFIER > VEP_impacts_fairy.tsv\n",
    "grep -v \"#\" KI_whole-genome.tsv | grep -v IMPACT=MODIFIER > VEP_impacts_kaki.tsv\n",
    "grep -v \"#\" KI_10x_whole-genome.tsv | grep -v IMPACT=MODIFIER > VEP_impacts_KI_10x.tsv\n",
    "\n",
    "for POP in fairy kaki\n",
    "    do\n",
    "    awk '{print $1\":\"$2}' deleterious_SIFT_${POP}.tsv > SIFT_sites_${POP}.txt\n",
    "    while read -r line\n",
    "        do\n",
    "        grep \"$line\" VEP_impacts_${POP}.tsv >> SIFT_VEP_intersect_${POP}.txt\n",
    "    done < SIFT_sites_${POP}.txt\n",
    "done"
   ]
  },
  {
   "cell_type": "markdown",
   "metadata": {},
   "source": [
    "A brief check showed that all sites marked deleterious in SIFT had some impact in VEP.  \n",
    "These intersecting sites were then extracted from the filtered SNPs, and allele frequency estimated for each fairy tern population."
   ]
  },
  {
   "cell_type": "code",
   "execution_count": null,
   "metadata": {
    "vscode": {
     "languageId": "shellscript"
    }
   },
   "outputs": [],
   "source": [
    "while read -r line\n",
    "    do\n",
    "    CHROM=$(echo $line | awk '{print $1}')\n",
    "    POSIT=$(echo $line | awk '{print $2}')\n",
    "    AALLE=$(bcftools query -t ${CHROM}:${POSIT} -f '[%GT\\n]' GLOBAL_whole-genome_polarised_filtered_AU.vcf | sed 's%0/0%0%g' | sed 's%0/1%1%g'| sed 's%1/1%2%g' | awk '{sum += $1}; END {print sum}')\n",
    "    TALLE$(bcftools query -t ${CHROM}:${POSIT} -f '[%GT\\n]' GLOBAL_whole-genome_polarised_filtered_TI.vcf | sed 's%0/0%0%g' | sed 's%0/1%1%g'| sed 's%1/1%2%g' | awk '{sum += $1}; END {print sum}')\n",
    "    printf \"$line\\t$AALLE\\tAU\\n\" >> pop_harmful_allele_frequency.tsv\n",
    "    printf \"$line\\t$TALLE\\tTI\\n\" >> pop_harmful_allele_frequency.tsv\n",
    "done < deleterious_SIFT_fairy.tsv"
   ]
  },
  {
   "cell_type": "markdown",
   "metadata": {},
   "source": [
    "Then we counted the number of alleles per site, per individual for all those nonsynonymous mutations classed as either intolerant, tolerant.  "
   ]
  },
  {
   "cell_type": "code",
   "execution_count": null,
   "metadata": {
    "vscode": {
     "languageId": "shellscript"
    }
   },
   "outputs": [],
   "source": [
    "while read -r line\n",
    "    do\n",
    "    CHROM=$(echo $line | awk '{print $1}')\n",
    "    POSIT=$(echo $line | awk '{print $2}')\n",
    "    bcftools query -t ${CHROM}:${POSIT} -f '[%CHROM\\t%POS\\t$SAMPLE\\t%GT\\tAU\\tTolerant]' GLOBAL_whole-genome_filtered_AU.vcf >> indiv_harmful_allele_frequency.tsv\n",
    "    bcftools query -t ${CHROM}:${POSIT} -f '[%CHROM\\t%POS\\t$SAMPLE\\t%GT\\tTI\\tTolerant]' GLOBAL_whole-genome_filtered_TI.vcf >> indiv_harmful_allele_frequency.tsv\n",
    "done < tolerant_SIFT_fairy.tsv\n",
    "\n",
    "while read -r line\n",
    "    do\n",
    "    CHROM=$(echo $line | awk '{print $1}')\n",
    "    POSIT=$(echo $line | awk '{print $2}')\n",
    "    bcftools query -t ${CHROM}:${POSIT} -f '[%CHROM\\t%POS\\t$SAMPLE\\t%GT\\tAU\\tIntolerant]' GLOBAL_whole-genome_filtered_AU.vcf >> indiv_harmful_allele_frequency.tsv\n",
    "    bcftools query -t ${CHROM}:${POSIT} -f '[%CHROM\\t%POS\\t$SAMPLE\\t%GT\\tTI\\tIntolerant]' GLOBAL_whole-genome_filtered_TI.vcf >> indiv_harmful_allele_frequency.tsv\n",
    "done < deleterious_SIFT_fairy.tsv"
   ]
  },
  {
   "cell_type": "markdown",
   "metadata": {},
   "source": [
    "## Load Estimates\n",
    "### Harmful allele frequency\n",
    "The sum of sc-BUSCO gene regions is 289,743,567bp in kakī and 227,780,539bp in tara iti. This corresponds to roughly 26% and 21% of the kakī and fairy tern genomes. \n",
    "\n",
    "First we examined the frequency of the derived alleles determined to be 'Deleterious' by SIFT. Here, we can see that the presence of derived harmful alleles is markedly lower in tara iti than the other two populations.  \n",
    "\n",
    "For each inidividual, we counted the number of intolerant (SIFT score <=0.05), tolerated (SIFT score >0.05 & <=0.10), and the sum of all nonsynonmyous SNPs as called within BUSCO regions.  \n",
    "\n",
    "Here plotting Allele count for derived alleles per individuals for those nonsynonymous mutations classed as intolerant (fairy terns n = 1,800, KI n = 1,172) and tolerant (fairy terns n = 4,396, KI n = 5,426) falling within BUSCO regions."
   ]
  },
  {
   "cell_type": "code",
   "execution_count": null,
   "metadata": {},
   "outputs": [],
   "source": [
    "# Group by 'Population', 'Mutation Class', and 'Consequence' and sum 'Allele Count'\n",
    "del_allele = pd.read_csv('load/pop_harmful_allele_frequency.tsv', delimiter='\\t')\n",
    "del_allele_count = del_allele.groupby(['Population', 'Mutation Class', 'Consequence'])['Allele Count'].sum().reset_index()\n",
    "\n",
    "print(del_allele_count)"
   ]
  },
  {
   "cell_type": "markdown",
   "metadata": {},
   "source": [
    "We then examined allele frequency of putatively harmful alleles in AFT, tara iti, low and high coverage kakī data sets.  "
   ]
  },
  {
   "cell_type": "code",
   "execution_count": null,
   "metadata": {},
   "outputs": [],
   "source": [
    "pop_harm = del_allele[del_allele['Consequence']=='Intolerant']\n",
    "pop_harm = pop_harm[pop_harm['Allele Count']>0]\n",
    "\n",
    "au_harm_counts = pop_harm[pop_harm['Population']=='AU'].groupby([\"Allele Count\", \"Population\"]).size().reset_index(name=\"Frequency\")\n",
    "ti_harm_counts = pop_harm[pop_harm['Population']=='TI'].groupby([\"Allele Count\", \"Population\"]).size().reset_index(name=\"Frequency\")\n",
    "ki_harm_counts = pop_harm[pop_harm['Population']=='KI'].groupby([\"Allele Count\", \"Population\"]).size().reset_index(name=\"Frequency\")\n",
    "\n",
    "au_harm_pivot = au_harm_counts.pivot(index=\"Allele Count\", columns=\"Population\", values=\"Frequency\").fillna(0)\n",
    "ti_harm_pivot = ti_harm_counts.pivot(index=\"Allele Count\", columns=\"Population\", values=\"Frequency\").fillna(0)\n",
    "ki_harm_pivot = ki_harm_counts.pivot(index=\"Allele Count\", columns=\"Population\", values=\"Frequency\").fillna(0)\n",
    "\n",
    "# Plot a stacked bar chart\n",
    "au_harm_pivot.plot(kind=\"bar\", stacked=True, figsize=(12, 6), color=\"gold\")\n",
    "ti_harm_pivot.plot(kind=\"bar\", stacked=True, figsize=(12, 6), color=\"steelblue\")\n",
    "ki_harm_pivot.plot(kind=\"bar\", stacked=True, figsize=(12, 6), color=\"black\")\n",
    "plt.title(\"Frequency of Allele Counts by Population\")\n",
    "plt.ylabel(\"Frequency\")\n",
    "plt.xlabel(\"Allele Count\")\n",
    "plt.legend(title=\"Population\", bbox_to_anchor=(1.05, 1), loc=\"upper left\")\n",
    "plt.tight_layout()\n",
    "plt.show()\n",
    "\n",
    "#pop_harm.head()"
   ]
  },
  {
   "cell_type": "code",
   "execution_count": null,
   "metadata": {},
   "outputs": [],
   "source": [
    "del_allele[del_allele['Population']=='KI_10x'].head()"
   ]
  },
  {
   "cell_type": "code",
   "execution_count": null,
   "metadata": {},
   "outputs": [],
   "source": [
    "au_harm = del_allele[(del_allele['Consequence']=='Intolerant') & (del_allele['Population']=='AU')]\n",
    "au_harm['Allele Frequency'] = au_harm['Allele Count'] / 38\n",
    "ti_harm = del_allele[(del_allele['Consequence']=='Intolerant') & (del_allele['Population']=='TI')]\n",
    "ti_harm['Allele Frequency'] = ti_harm['Allele Count'] / 30\n",
    "kiLC_harm = del_allele[(del_allele['Consequence']=='Intolerant') & (del_allele['Population']=='KI_10x')]\n",
    "kiLC_harm['Allele Frequency'] = kiLC_harm['Allele Count'] / 48\n",
    "ki_harm = del_allele[(del_allele['Consequence']=='Intolerant') & (del_allele['Population']=='KI')]\n",
    "ki_harm['Allele Frequency'] = ki_harm['Allele Count'] / 48\n",
    "\n",
    "print('The mean allele frequency of putatively harmful alleles in AFT: ', au_harm['Allele Frequency'].mean())\n",
    "print('The mean allele frequency of putatively harmful alleles in TI:  ', ti_harm['Allele Frequency'].mean())\n",
    "print('The mean allele frequency of putatively harmful alleles in KI 10x: ', kiLC_harm['Allele Frequency'].mean())\n",
    "print('The mean allele frequency of putatively harmful alleles in KI:  ', ki_harm['Allele Frequency'].mean())"
   ]
  },
  {
   "cell_type": "code",
   "execution_count": null,
   "metadata": {},
   "outputs": [],
   "source": [
    "au_harm.head()"
   ]
  },
  {
   "cell_type": "code",
   "execution_count": null,
   "metadata": {},
   "outputs": [],
   "source": [
    "total_harm = pd.concat([au_harm, ti_harm, kiLC_harm, ki_harm], axis=0, ignore_index=True)\n",
    "sns.violinplot(data=total_harm, x='Population', y='Allele Frequency')\n",
    "sns.stripplot(data=total_harm, x='Population', y='Allele Frequency', jitter=True, size=2)"
   ]
  },
  {
   "cell_type": "markdown",
   "metadata": {},
   "source": [
    "We then estimated R<sub>xy</sub> between each of the three populations for putatively intolerant, tolerant, and all synonymous mutations. The [code](https://github.com/samarth8392/MQU_EvoGenomics/blob/main/RScripts/Rxy.R) below was adapted from [Mathur et al (2023)](http://doi.org/10.1093/evolut/qpac061).  "
   ]
  },
  {
   "cell_type": "code",
   "execution_count": null,
   "metadata": {},
   "outputs": [],
   "source": [
    "def estimate_rxy(df, pop1, pop2, consequence, chroms_df):\n",
    "    # Separate deleterious and synonymous data based on consequence type\n",
    "    del_df = df[(df['Consequence'] == consequence)]\n",
    "    syn_df = df[df['Mutation Class'] == 'SYNONYMOUS']\n",
    "\n",
    "    # Merge data for both populations\n",
    "    del_merged = pd.merge(del_df[del_df['Population'] == pop1], del_df[del_df['Population'] == pop2],\n",
    "                          on=['Chromosome', 'Position'], suffixes=('_pop1', '_pop2'))\n",
    "    \n",
    "    syn_merged = pd.merge(syn_df[syn_df['Population'] == pop1], syn_df[syn_df['Population'] == pop2],\n",
    "                          on=['Chromosome', 'Position'], suffixes=('_pop1', '_pop2'))\n",
    "\n",
    "    # Calculate l_xy and l_yx\n",
    "    l_xy = np.sum(del_merged[\"Allele Frequency_pop1\"] * (1 - del_merged[\"Allele Frequency_pop2\"])) / np.sum(syn_merged[\"Allele Frequency_pop1\"] * (1 - syn_merged[\"Allele Frequency_pop2\"]))\n",
    "    l_yx = np.sum(del_merged[\"Allele Frequency_pop2\"] * (1 - del_merged[\"Allele Frequency_pop1\"])) / np.sum(syn_merged[\"Allele Frequency_pop2\"] * (1 - syn_merged[\"Allele Frequency_pop1\"]))\n",
    "    \n",
    "    # Initialize results list\n",
    "    Rxy_results = []\n",
    "\n",
    "    # Loop over chromosomes\n",
    "    for chr in chroms_df['Chromosome']:\n",
    "        # Filter data excluding one chromosome at a time\n",
    "        del_df_excluded = del_df[(del_df['Chromosome'] != chr)]\n",
    "        syn_df_excluded = syn_df[(syn_df['Chromosome'] != chr)]\n",
    "\n",
    "        # Merge excluded data for both populations\n",
    "        del_excluded_merged = pd.merge(del_df_excluded[del_df_excluded['Population'] == pop1],\n",
    "                                      del_df_excluded[del_df_excluded['Population'] == pop2],\n",
    "                                      on=['Chromosome', 'Position'], suffixes=('_pop1', '_pop2'))\n",
    "        \n",
    "        syn_excluded_merged = pd.merge(syn_df_excluded[syn_df_excluded['Population'] == pop1],\n",
    "                                      syn_df_excluded[syn_df_excluded['Population'] == pop2],\n",
    "                                      on=['Chromosome', 'Position'], suffixes=('_pop1', '_pop2'))\n",
    "\n",
    "        # Calculate l_xy_excluded and l_yx_excluded\n",
    "        l_xy_excluded = np.sum(del_excluded_merged[\"Allele Frequency_pop1\"] * (1 - del_excluded_merged[\"Allele Frequency_pop2\"])) / np.sum(syn_excluded_merged[\"Allele Frequency_pop1\"] * (1 - syn_excluded_merged[\"Allele Frequency_pop2\"]))\n",
    "        l_yx_excluded = np.sum(del_excluded_merged[\"Allele Frequency_pop2\"] * (1 - del_excluded_merged[\"Allele Frequency_pop1\"])) / np.sum(syn_excluded_merged[\"Allele Frequency_pop2\"] * (1 - syn_excluded_merged[\"Allele Frequency_pop1\"]))\n",
    "\n",
    "        # Calculate rxy_excluded\n",
    "        rxy_excluded = l_xy_excluded / l_yx_excluded\n",
    "\n",
    "        # Append result to list\n",
    "        Rxy_results.append({'Chromosome Excluded': chr, 'Rxy': rxy_excluded, 'Consequence': consequence})\n",
    "\n",
    "    # Convert list of dictionaries to DataFrame\n",
    "    Rxy_results_df = pd.DataFrame(Rxy_results)\n",
    "\n",
    "    return Rxy_results_df"
   ]
  },
  {
   "cell_type": "code",
   "execution_count": null,
   "metadata": {},
   "outputs": [],
   "source": [
    "def calculate_allele_frequency(row):\n",
    "    if row['Population'] == 'TI':\n",
    "        return row['Allele Count'] / 30\n",
    "    elif row['Population'] == 'AU':\n",
    "        return row['Allele Count'] / 38\n",
    "    else:\n",
    "        return None  # Handle other cases if needed\n",
    "\n",
    "# Load and process data so we have Allele frequency column\n",
    "del_pop_allele = pd.read_csv('load/pop_harmful_allele_frequency.tsv', delimiter='\\t')\n",
    "del_pop_allele = del_pop_allele[del_pop_allele['Population']!='KI']\n",
    "del_pop_allele['Mutation Class'] = del_pop_allele['Mutation Class'].replace('START-LOST', 'NONSYNONYMOUS')\n",
    "del_pop_allele = del_pop_allele[del_pop_allele['Allele Count']>0]\n",
    "\n",
    "intergenic = del_pop_allele[(del_pop_allele['Mutation Class'] == 'INTERGENIC') | ( del_pop_allele['Mutation Class'] == 'SYNONYMOUS')]\n",
    "intergenic = intergenic.drop_duplicates(subset=['Chromosome', 'Position', 'Population'])\n",
    "intergenic = intergenic.groupby(['Chromosome', 'Position']).filter(lambda x: len(x) == 2)\n",
    "\n",
    "# Apply the function to create a new column 'Allele Frequency'\n",
    "del_pop_allele['Allele Frequency'] = del_pop_allele.apply(lambda row: calculate_allele_frequency(row), axis=1)\n",
    "intergenic['Allele Frequency'] = intergenic.apply(lambda row: calculate_allele_frequency(row), axis=1)\n",
    "\n",
    "chromNames = del_pop_allele['Chromosome'].sort_values().drop_duplicates()\n",
    "chromNames = pd.DataFrame(chromNames, columns=['Chromosome'])"
   ]
  },
  {
   "cell_type": "code",
   "execution_count": null,
   "metadata": {},
   "outputs": [],
   "source": [
    "intergenic.head()"
   ]
  },
  {
   "cell_type": "code",
   "execution_count": null,
   "metadata": {},
   "outputs": [],
   "source": [
    "del_Rxy = estimate_rxy(del_pop_allele, 'TI', 'AU', 'Intolerant', chromNames)\n",
    "tol_Rxy = estimate_rxy(del_pop_allele, 'TI', 'AU', 'Tolerant', chromNames)\n",
    "neutral_Rxy = estimate_rxy(intergenic, 'TI', 'AU', 'Intergenic', chromNames)\n",
    "Rxy = pd.concat([del_Rxy, tol_Rxy, neutral_Rxy], ignore_index=True)\n",
    "Rxy_noNeutral = pd.concat([del_Rxy, tol_Rxy], ignore_index=True)\n",
    "\n",
    "print(\"Mean Rxy: \", tol_Rxy['Rxy'].mean(), del_Rxy['Rxy'].mean(), neutral_Rxy['Rxy'].mean())"
   ]
  },
  {
   "cell_type": "markdown",
   "metadata": {},
   "source": [
    "## Putatively harmful Allele diversity"
   ]
  },
  {
   "cell_type": "code",
   "execution_count": null,
   "metadata": {},
   "outputs": [],
   "source": [
    "indiv_del = pd.read_csv('load/indiv_harmful_allele_frequency.tsv', delimiter='\\t')"
   ]
  },
  {
   "cell_type": "code",
   "execution_count": null,
   "metadata": {},
   "outputs": [],
   "source": [
    "replace_map = {\n",
    "    '0/0': 0,\n",
    "    '0/1': 1,\n",
    "    '1/1': 2\n",
    "}\n",
    "\n",
    "indiv_del['Genotype'] = indiv_del['Genotype'].replace(replace_map)\n",
    "indiv_del['Pop_Consequence'] = indiv_del['Population'] + '-' + indiv_del['Consequence']\n",
    "\n",
    "indiv_del.head()"
   ]
  }
 ],
 "metadata": {
  "language_info": {
   "name": "python"
  }
 },
 "nbformat": 4,
 "nbformat_minor": 2
}
