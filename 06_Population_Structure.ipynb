{
 "cells": [
  {
   "cell_type": "markdown",
   "metadata": {},
   "source": [
    "## Population Structure\n",
    "### MDS\n",
    "To construct a MDS for fairy tern populations, we first ran ANGSD as below. Notably, here we add the `-doGeno 8` flag.  "
   ]
  },
  {
   "cell_type": "code",
   "execution_count": null,
   "metadata": {
    "vscode": {
     "languageId": "plaintext"
    }
   },
   "outputs": [],
   "source": [
    "angsd -P 26 -b GLOBAL.list -ref $REF -anc $ANC -out ${ANGSD}structure_MDS/GLOBAL \\\n",
    "    -uniqueOnly 1 -remove_bads 1 -only_proper_pairs 1 -trim 0 -C 50 -baq 1 \\\n",
    "    -minMapQ 20 -minQ 20 -minInd 34 -setMinDepth 272 -setMaxDepth 630 -doCounts 1 \\\n",
    "    -GL 1 -doMajorMinor 1 -doMaf 1 -skipTriallelic 1 -SNP_pval 1e-6 -doGeno 8 -doPost 1"
   ]
  },
  {
   "cell_type": "markdown",
   "metadata": {},
   "source": [
    "This command not only generates the required `*.mafs.gz`, but also the `*.geno.gz`, which contains posterior probabilities of all possible genotypes required for estimating genetic distance with [ngsDistv1.0.10](https://github.com/mfumagalli/ngsTools). In addition, a `pops.label` file denoting the population of origin (one entry on a new line for each samples) is necessary for estimating genetic distance.  "
   ]
  },
  {
   "cell_type": "code",
   "execution_count": null,
   "metadata": {
    "vscode": {
     "languageId": "plaintext"
    }
   },
   "outputs": [],
   "source": [
    "NSITES=$(zcat GLOBAL.mafs.gz | tail -n +2 | wc -l)\n",
    "echo $NSITES\n",
    "\n",
    "cat GLOBAL.list | sed 's%/path/to/bams/%%g' | sed 's/_autosomes_nodup.bam//g' > ${ANGSD}GLOBAL_mds_list\n",
    "\n",
    "ngsDist -verbose 1 -geno ${ANGSD}structure/GLOBAL.geno.gz -probs \\\n",
    "    -n_ind 34 -n_sites $NSITES -labels ${ANGSD}mds_list -o ${ANGSD}structure/GLOBAL_dist"
   ]
  },
  {
   "cell_type": "markdown",
   "metadata": {},
   "source": [
    "A total of 3,283,545 sites were used in the whole-genome and X,XXX,XXX were used in the neutral data set.  \n",
    "\n",
    "Next we find the percent of variance explained by each axis.  "
   ]
  },
  {
   "cell_type": "markdown",
   "metadata": {},
   "source": [
    "### SNP- and SV-based Inference of Structure with multiple dimensional scaling (MDS)\n",
    "The high F<sub>ST</sub> inferred from SNP data corresponds to high differentiation observed in our MDS with over 97% and 84% of population variance represented along one dimension.  "
   ]
  },
  {
   "cell_type": "code",
   "execution_count": null,
   "metadata": {},
   "outputs": [],
   "source": [
    "mds = pd.read_csv('angsd/structureS/GLOBAL_neutral.mds', sep='\\t')\n",
    "svmds = pd.read_csv('graphtyper/fairy_mds/GLOBAL_sv.mds', sep='\\t')\n",
    "pops = pd.read_csv('angsd/structure_MDS/mds_pops.tsv', sep='\\t', header=None)\n",
    "\n",
    "color = ['gold'] * 19 + ['steelblue'] * 54\n",
    "\n",
    "fig, axes = plt.subplots(1, 2, figsize=(16, 6), sharex=False, sharey=False)\n",
    "\n",
    "axes[0].scatter(mds['D1_97.5736950999342'], mds['D2_0.142602294031928'], c=color)\n",
    "axes[0].axvline(x=sum(mds['D1_97.5736950999342']) / len(mds['D1_97.5736950999342']), color='grey', linewidth=0.25)\n",
    "axes[0].axhline(y=sum(mds['D2_0.142602294031928']) / len(mds['D2_0.142602294031928']), color='grey', linewidth=0.25)\n",
    "axes[0].set_xticks([])\n",
    "axes[0].set_yticks([])\n",
    "axes[0].set_xlabel('Dimension 1 (97.6%)', fontsize=18)\n",
    "axes[0].set_ylabel('Dimension 2 (0.14%)', fontsize=18)\n",
    "axes[0].set_title('A)', fontsize=20, loc='left')\n",
    "\n",
    "axes[1].scatter(svmds['D1_89.9822458572729'], svmds['D2_0.646326592188632'], c=color)\n",
    "axes[1].axvline(x=sum(svmds['D1_89.9822458572729']) / len(svmds['D1_89.9822458572729']), color='grey', linewidth=0.25)\n",
    "axes[1].axhline(y=sum(svmds['D2_0.646326592188632']) / len(svmds['D2_0.646326592188632']), color='grey', linewidth=0.25)\n",
    "axes[1].set_xticks([])\n",
    "axes[1].set_yticks([])\n",
    "axes[1].set_xlabel('Dimension 1 (89.98%)', fontsize = 18)\n",
    "axes[1].set_ylabel('Dimension 2 (0.65%)', fontsize = 18)\n",
    "axes[1].set_title('B)', fontsize=20, loc='left')\n",
    "\n",
    "plt.savefig('plots/GLOBAL_MDS.png', dpi=300, bbox_inches='tight')"
   ]
  },
  {
   "cell_type": "markdown",
   "metadata": {},
   "source": [
    "## Population Structure\n",
    "### SNP-based Estimates of F<sub>ST</sub>\n",
    "Plot of F<sub>ST</sub> between putatively neutral sites between Australian fairy tern and tara iti.  \n",
    "\n",
    "# Note that we're using the theta-statistics from later file? Or merge?"
   ]
  },
  {
   "cell_type": "code",
   "execution_count": null,
   "metadata": {},
   "outputs": [],
   "source": [
    "fst = pd.read_csv('angsd/distance/GLOBAL_whole-genome_stat2_50KBwindow_10KBstep.tsv', sep='\\t', usecols=['chr', 'midPos', 'Nsites', 'FST'])\n",
    "\n",
    "fst['x'] = range(len(fst))\n",
    "\n",
    "plt.figure(figsize=(20,5))\n",
    "palette=['grey', 'black']\n",
    "ax=sns.scatterplot(data=fst, x='x', y='FST', hue='chr', palette=palette, alpha=0.5, s=3, legend=False)\n",
    "\n",
    "ax.set_title('A)', fontsize=20, loc='left')\n",
    "ax.set_xlabel('Chromosome', fontsize=20)\n",
    "ax.set_ylabel('$F_{ST}$', fontsize=18)\n",
    "ax.set_xlim(0, 108800)\n",
    "ax.set_ylim(0, 1)\n",
    "ax.set_xticks([])\n",
    "\n",
    "plt.savefig('plots/whole-genome_Fst_allChr.png', dpi=300, bbox_inches='tight')"
   ]
  },
  {
   "cell_type": "code",
   "execution_count": null,
   "metadata": {},
   "outputs": [],
   "source": [
    "neutralfst = pd.read_csv('angsd/distance/GLOBAL_neutral_stat2_50KBwindow_10KBstep.tsv', sep='\\t', usecols=['chr', 'midPos', 'Nsites', 'FST'])\n",
    "\n",
    "neutralfst['x'] = range(len(neutralfst))\n",
    "\n",
    "plt.figure(figsize=(20,5))\n",
    "palette=['grey', 'black']\n",
    "ax=sns.scatterplot(data=neutralfst, x='x', y='FST', hue='chr', palette=palette, alpha=0.5, s=3, legend=False)\n",
    "\n",
    "ax.set_title('C)', fontsize=20, loc='left')\n",
    "ax.set_xlabel('Chromosome', fontsize=20)\n",
    "ax.set_ylabel('$F_{ST}$', fontsize=18)\n",
    "ax.set_xlim(0, 101500)\n",
    "ax.set_ylim(0, 1)\n",
    "ax.set_xticks([])\n",
    "\n",
    "plt.savefig('plots/neutral_Fst_allChr.png', dpi=300, bbox_inches='tight')"
   ]
  },
  {
   "cell_type": "code",
   "execution_count": null,
   "metadata": {},
   "outputs": [],
   "source": [
    "chr1fst = neutralfst[(neutralfst['chr']=='CM020437.1_RagTag')]\n",
    "\n",
    "chr1fst['x'] = range(len(chr1fst))\n",
    "\n",
    "plt.figure(figsize=(14,7))\n",
    "palette=['black', 'grey']\n",
    "ax=sns.scatterplot(data=chr1fst, x='x', y='FST', color='black', alpha=0.5, s=3, legend=False)\n",
    "\n",
    "ax.set_xlabel('Chromosome Position', fontsize=14)\n",
    "ax.set_ylabel('$F_{ST}$', fontsize=14)\n",
    "ax.set_xlim(0, 20800)\n",
    "ax.set_ylim(0, 1)\n",
    "\n",
    "plt.savefig('plots/neutral_Fst_Chr1.png')"
   ]
  }
 ],
 "metadata": {
  "language_info": {
   "name": "python"
  }
 },
 "nbformat": 4,
 "nbformat_minor": 2
}
