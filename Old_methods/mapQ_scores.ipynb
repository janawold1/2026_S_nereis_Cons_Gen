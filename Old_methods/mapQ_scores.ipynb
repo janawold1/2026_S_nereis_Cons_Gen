{
 "cells": [
  {
   "cell_type": "markdown",
   "metadata": {},
   "source": [
    "# Plotting MapQ Distribution in Genome Graphs Constructed with VG\n",
    "Here we are looking to see what the majority of MapQ scores are for reads mapped to the graph contructed using Deletion calls only, Insertion calls only, and both insertions and deletions as called in Sniffles. Read mapping for all comparisons were completed with `vg map`. \n",
    "\n",
    "To start, we import `numpy`, `matplotlib` and `pandas` packages.  "
   ]
  },
  {
   "cell_type": "code",
   "execution_count": null,
   "metadata": {},
   "outputs": [],
   "source": [
    "import numpy as np\n",
    "import matplotlib.pyplot as plt\n",
    "import pandas as pd"
   ]
  },
  {
   "cell_type": "markdown",
   "metadata": {},
   "source": [
    "Then we defined our functions to plot MapQ scores `plot_from_file()`, which is looking at the distribution of all MapQ scores. We are also defining `closer_look()`, which is taking a closer look at the number of reads with a MapQ of 0 and 60.  "
   ]
  },
  {
   "cell_type": "code",
   "execution_count": null,
   "metadata": {},
   "outputs": [],
   "source": [
    "def plot_from_file(file_path, title, xlabel, ylabel):\n",
    "    # Read data from the file\n",
    "    data = pd.read_csv(file_path, sep = '\\t')\n",
    "    \n",
    "    plt.bar(data['MapQ'], data['count'], color='green')\n",
    "    \n",
    "    coefficients = np.polyfit(data.index, data['count'], 1)\n",
    "    trendline = np.polyval(coefficients, data.index)\n",
    "    \n",
    "    plt.plot(data['MapQ'], trendline, color='red', linestyle = '--', label = 'Trendline')\n",
    "    \n",
    "    # Title and labels\n",
    "    plt.title(title)\n",
    "    plt.xlabel(xlabel)\n",
    "    plt.ylabel(ylabel)\n",
    "    plt.legend()\n",
    "\n",
    "    # Show the plot\n",
    "    plt.show()\n",
    "\n",
    "def closer_look(file_path, title, xlabel, ylabel):\n",
    "    data = pd.read_csv(file_path, sep = '\\t')\n",
    "    \n",
    "    first_value = data.loc[data.index[0], 'count']\n",
    "    last_value = data.loc[data.index[-1], 'count']\n",
    "    \n",
    "    plt.bar(['Lowest', 'Highest'], [first_value, last_value], color = ['blue', 'green'])\n",
    "    \n",
    "    plt.title(title)\n",
    "    plt.xlabel(xlabel)\n",
    "    plt.ylabel(ylabel)\n",
    "    plt.ylim((data.loc[data.index[0], 'count'] - 50000), (data.loc[data.index[-1], 'count'] + 50000))\n",
    "    \n",
    "    plt.show()"
   ]
  },
  {
   "cell_type": "markdown",
   "metadata": {},
   "source": [
    "This first plot is looking at reads mapped to the graph constructed with Jane's genome, before it is augmented with SVs. "
   ]
  },
  {
   "cell_type": "code",
   "execution_count": null,
   "metadata": {},
   "outputs": [],
   "source": [
    "if __name__ == \"__main__\":\n",
    "    # Specify the path to your data file\n",
    "    Jane = \"/scale_wlg_nobackup/filesets/nobackup/uc03718/graphs/Jane_as_graph/score_distribution.tsv\"\n",
    "\n",
    "    # Plotting\n",
    "    plot_from_file(Jane, 'Jane as Graph MapQ Score Distribution', 'MapQ', 'Counts')"
   ]
  },
  {
   "cell_type": "code",
   "execution_count": null,
   "metadata": {},
   "outputs": [],
   "source": [
    "if __name__ == \"__main__\":\n",
    "    closer_look(Jane, 'Jane as Graph Low and High MapQ Comparison', 'MapQ', 'Counts')"
   ]
  },
  {
   "cell_type": "code",
   "execution_count": null,
   "metadata": {},
   "outputs": [],
   "source": [
    "Jane = pd.read_csv(Jane, sep = '\\t')\n",
    "Jane_diff = Jane.loc[Jane.index[0], 'count'] - Jane.loc[Jane.index[-1], 'count']\n",
    "Jane_total = pd.read_csv(\"/path/to/Ariki_chr7_Jane_as_graph_jqOutput.tsv\", sep = '\\t')\n",
    "Jane_total.fillna(0, inplace=True)\n",
    "Jane_mean = Jane_total.iloc[:, 1].mean()\n",
    "\n",
    "print(\"The number of reads with a MapQ of 0 is \" + str(Jane.loc[Jane.index[0], 'count']))\n",
    "print(\"The number of reads with a MapQ of 60 is \" + str(Jane.loc[Jane.index[-1], 'count']))\n",
    "print(\"The difference in the # of reads with MapQ 0 - # reads with MapQ 60 is \" + str(Jane_diff) + \", while the mean MapQ is \" + str(np.round(Jane_mean, decimals = 4)))"
   ]
  },
  {
   "cell_type": "code",
   "execution_count": null,
   "metadata": {},
   "outputs": [],
   "source": [
    "if __name__ == \"__main__\":\n",
    "    DEL = \"/scale_wlg_nobackup/filesets/nobackup/uc03718/graphs/DEL/vg_maps/score_distribution.tsv\"\n",
    "    plot_from_file(DEL, 'Deletion MapQ Score Distribution', 'MapQ', 'Counts')"
   ]
  },
  {
   "cell_type": "code",
   "execution_count": null,
   "metadata": {},
   "outputs": [],
   "source": [
    "if __name__ == \"__main__\":\n",
    "    closer_look(DEL, 'Deletion Graph Low and High MapQ Comparison', 'MapQ', 'Counts')"
   ]
  },
  {
   "cell_type": "code",
   "execution_count": null,
   "metadata": {},
   "outputs": [],
   "source": [
    "DEL = pd.read_csv(DEL, sep = '\\t')\n",
    "DEL_diff = DEL.loc[DEL.index[0], 'count'] - DEL.loc[DEL.index[-1], 'count']\n",
    "DEL_total = pd.read_csv(\"/path/to/Ariki_chr7_Jane_as_graph_jqOutput.tsv\", sep = '\\t')\n",
    "DEL_total.fillna(0, inplace=True)\n",
    "DEL_mean = DEL_total.iloc[:, 1].mean()\n",
    "\n",
    "print(\"The number of reads with a MapQ of 0 is \" + str(DEL.loc[DEL.index[0], 'count']))\n",
    "print(\"The number of reads with a MapQ of 60 is \" + str(DEL.loc[DEL.index[-1], 'count']))\n",
    "print(\"The difference in the # of reads with MapQ 0 - # reads with MapQ 60 is \" + str(DEL_diff) + \", while the mean MapQ is \" + str(np.round(DEL_mean, decimals = 4)))"
   ]
  },
  {
   "cell_type": "code",
   "execution_count": null,
   "metadata": {},
   "outputs": [],
   "source": [
    "if __name__ == \"__main__\":\n",
    "    # Specify the path to your data file\n",
    "    INS = \"/scale_wlg_nobackup/filesets/nobackup/uc03718/graphs/INS/vg_maps/score_distribution.tsv\"\n",
    "\n",
    "    # Plotting\n",
    "    plot_from_file(INS, 'Deletion MapQ Score Distribution', 'MapQ', 'Counts')"
   ]
  },
  {
   "cell_type": "code",
   "execution_count": null,
   "metadata": {},
   "outputs": [],
   "source": [
    "if __name__ == \"__main__\":\n",
    "    closer_look(INS, 'Deletion Graph Low and High MapQ Comparison', 'MapQ', 'Counts')"
   ]
  },
  {
   "cell_type": "code",
   "execution_count": null,
   "metadata": {},
   "outputs": [],
   "source": [
    "INS = pd.read_csv(INS, sep = '\\t')\n",
    "INS_diff = INS.loc[INS.index[0], 'count'] - INS.loc[INS.index[-1], 'count']\n",
    "INS_total = pd.read_csv(\"/path/to/Ariki_chr7_Jane_as_graph_jqOutput.tsv\", sep = '\\t')\n",
    "INS_total.fillna(0, inplace=True)\n",
    "INS_mean = INS_total.iloc[:, 1].mean()\n",
    "\n",
    "print(\"The number of reads with a MapQ of 0 is \" + str(INS.loc[INS.index[0], 'count']))\n",
    "print(\"The number of reads with a MapQ of 60 is \" + str(INS.loc[INS.index[-1], 'count']))\n",
    "print(\"The difference in the # of reads with MapQ 0 - # reads with MapQ 60 is \" + str(INS_diff) + \", while the mean MapQ is \" + str(np.round(INS_mean, decimals = 4)))"
   ]
  },
  {
   "cell_type": "code",
   "execution_count": null,
   "metadata": {},
   "outputs": [],
   "source": [
    "if __name__ == \"__main__\":\n",
    "    # Specify the path to your data file\n",
    "    INDEL = \"/scale_wlg_nobackup/filesets/nobackup/uc03718/graphs/INDEL/vg_maps/score_distribution.tsv\"\n",
    "\n",
    "    # Plotting\n",
    "    plot_from_file(INDEL, 'Deletion MapQ Score Distribution', 'MapQ', 'Counts')"
   ]
  },
  {
   "cell_type": "code",
   "execution_count": null,
   "metadata": {},
   "outputs": [],
   "source": [
    "if __name__ == \"__main__\":\n",
    "    closer_look(INDEL, 'Deletion Graph Low and High MapQ Comparison', 'MapQ', 'Counts')"
   ]
  },
  {
   "cell_type": "code",
   "execution_count": null,
   "metadata": {},
   "outputs": [],
   "source": [
    "INDEL = pd.read_csv(INDEL, sep = '\\t')\n",
    "INDEL_diff = INDEL.loc[INDEL.index[0], 'count'] - INDEL.loc[INDEL.index[-1], 'count']\n",
    "INDEL_total = pd.read_csv(\"/path/to/Ariki_chr7_Jane_as_graph_jqOutput.tsv\", sep = '\\t')\n",
    "INDEL_total.fillna(0, inplace=True)\n",
    "INDEL_mean = INDEL_total.iloc[:, 1].mean()\n",
    "\n",
    "print(\"The number of reads with a MapQ of 0 is \" + str(INDEL.loc[INDEL.index[0], 'count']))\n",
    "print(\"The number of reads with a MapQ of 60 is \" + str(INDEL.loc[INDEL.index[-1], 'count']))\n",
    "print(\"The difference in the # of reads with MapQ 0 - # reads with MapQ 60 is \" + str(INDEL_diff) + \", while the mean MapQ is \" + str(np.round(INDEL_mean, decimals = 4)))"
   ]
  },
  {
   "cell_type": "markdown",
   "metadata": {},
   "source": [
    "## Quick Summary"
   ]
  },
  {
   "cell_type": "code",
   "execution_count": null,
   "metadata": {},
   "outputs": [],
   "source": [
    "print(\"Jane's graph difference: \" + str(Jane_diff) + \" Jane's graph mean: \" + str(np.round(Jane_mean, decimals = 4)))\n",
    "print(\"DEL graph: \" + str(DEL_diff) + \" DEL graph mean: \" + str(np.round(DEL_mean, decimals = 4)))\n",
    "print(\"INS graph: \" + str(INS_diff) + \" INS graph mean: \" + str(np.round(INS_mean, decimals = 4)))\n",
    "print(\"INDEL graph: \" + str(INDEL_diff) + \" INDEL graph mean: \" + str(np.round(INDEL_mean, decimals = 4)))\n",
    "\n",
    "total_plt = pd.DataFrame({'Mean MapQ': [Jane_mean, DEL_mean, INS_mean, INDEL_mean], \n",
    "                          'MapQ Difference' : [Jane_diff, DEL_diff, INS_diff, INDEL_diff], \n",
    "                          'MapQ 0' : [Jane.loc[Jane.index[0], 'count'], DEL.loc[DEL.index[0], 'count'], INS.loc[INS.index[0], 'count'], INDEL.loc[INDEL.index[0], 'count']], \n",
    "                          'MapQ 60' : [Jane.loc[Jane.index[-1], 'count'], DEL.loc[DEL.index[-1], 'count'], INS.loc[INS.index[-1], 'count'], INDEL.loc[INDEL.index[-1], 'count']],\n",
    "                          'Data': ['Jane as Graph', 'Deletions Only', 'Insertions Only', 'INDEL Graph']})\n",
    "\n",
    "plt.bar(total_plt['Data'], total_plt['Mean MapQ'], color = 'green')\n",
    "plt.title('Mean MapQ by Graph')\n",
    "plt.xlabel('Graph Construction Type')\n",
    "plt.ylabel('Mean MapQ')\n",
    "plt.ylim(29.78, 29.82)\n",
    "plt.show()\n",
    "\n",
    "plt.bar(total_plt['Data'], total_plt['MapQ 0'], color = 'red')\n",
    "plt.title('Number of Reads with MapQ of 0')\n",
    "plt.xlabel('Graph Construction Type')\n",
    "plt.ylabel('Read Count')\n",
    "plt.ylim(2951500, 2953000)\n",
    "plt.show()\n",
    "\n",
    "plt.bar(total_plt['Data'], total_plt['MapQ Difference'], color = 'blue')\n",
    "plt.title('Difference in Number of Reads with MapQ 0 & MapQ 60')\n",
    "plt.xlabel('Graph Construction Type')\n",
    "plt.ylabel('Difference')\n",
    "plt.ylim(32800, 35000)\n",
    "plt.show()\n"
   ]
  }
 ],
 "metadata": {
  "kernelspec": {
   "display_name": "Python 3",
   "language": "python",
   "name": "python3"
  },
  "language_info": {
   "name": "python",
   "version": "3.9.13"
  }
 },
 "nbformat": 4,
 "nbformat_minor": 2
}
