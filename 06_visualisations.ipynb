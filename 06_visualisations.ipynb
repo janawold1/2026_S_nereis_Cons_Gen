{
 "cells": [
  {
   "cell_type": "markdown",
   "metadata": {},
   "source": [
    "# Visualising Results\n",
    "## Overview\n",
    "Here we visualise many of the outputs from the SNP- and SV-based population analyses for fairy tern populations in Western Australian and Aotearoa New Zealand. These visualisations were used as the basis in the publication.  "
   ]
  },
  {
   "cell_type": "code",
   "execution_count": null,
   "metadata": {},
   "outputs": [],
   "source": [
    "import pandas as pd\n",
    "import numpy as np\n",
    "import seaborn as plt"
   ]
  }
 ],
 "metadata": {
  "language_info": {
   "name": "python"
  }
 },
 "nbformat": 4,
 "nbformat_minor": 2
}
